{
 "cells": [
  {
   "cell_type": "code",
   "execution_count": 384,
   "metadata": {},
   "outputs": [],
   "source": [
    "# Import dependencies\n",
    "import pandas as pd\n",
    "import numpy as np\n",
    "import json\n",
    "import re\n",
    "\n",
    "from os import listdir\n",
    "from os.path import isfile, join\n",
    "from collections import Counter\n",
    "from datetime import datetime\n",
    "from matplotlib import pyplot as plt\n",
    "\n",
    "import plotly.express as px"
   ]
  },
  {
   "cell_type": "code",
   "execution_count": 385,
   "metadata": {},
   "outputs": [],
   "source": [
    "# Define directory path\n",
    "mypath = \"./data_dir\"\n",
    "\n",
    "# Create list of json file names in directory\n",
    "onlyfiles = [f for f in listdir(mypath) if isfile(join(mypath, f))]"
   ]
  },
  {
   "cell_type": "code",
   "execution_count": 386,
   "metadata": {},
   "outputs": [],
   "source": [
    "# Initialize empty list for all debate data\n",
    "all_debates_list = []\n",
    "\n",
    "# Loop through and read in all json files\n",
    "for file in onlyfiles:\n",
    "    \n",
    "    # Open next JSON file\n",
    "    with open(f\"{mypath}/{file}\") as json_data:\n",
    "\n",
    "        # Load data from current JSON file\n",
    "        data = json.load(json_data)\n",
    "\n",
    "        # Fix dates for 1992 debate parts 1 and 2\n",
    "        if (data['date'][0] == 'Part'):\n",
    "            if data['date'][1] == '1':\n",
    "                data['date'] = ['October', '11', '1992']\n",
    "            elif data['date'][1] == '2':\n",
    "                data['date'] = ['October', '15', '1992']\n",
    "\n",
    "        # Append to full debate data list\n",
    "        all_debates_list.append(data)"
   ]
  },
  {
   "cell_type": "code",
   "execution_count": 387,
   "metadata": {},
   "outputs": [],
   "source": [
    "# Get date in datetime format from a particular debate JSON\n",
    "def get_date(debate):\n",
    "    \n",
    "    # Create date string from provided date array\n",
    "    date_string = '-'.join(debate['date'])\n",
    "\n",
    "    # Create date object from date string\n",
    "    date_object = datetime.strptime(date_string, '%B-%d-%Y')\n",
    "\n",
    "    # Return date of given debate in datetime\n",
    "    return date_object"
   ]
  },
  {
   "cell_type": "code",
   "execution_count": 388,
   "metadata": {},
   "outputs": [],
   "source": [
    "# Get list of unique actors from a particular debate JSON\n",
    "def get_unique_actors(debate):\n",
    "    # Empty list to store all actors names (including duplicates)\n",
    "    actor_list = []\n",
    "\n",
    "    # Create list of prefixes to remove from names\n",
    "    prefixes = ['Mr.', 'Ms.', 'Senator', 'Governor', 'Admiral']\n",
    "\n",
    "    # Create dictionary of actor name corrections to be made\n",
    "    typo_corrections = {\n",
    "        # 'The President':'Reagan',\n",
    "        '^Obam$':'Obama',\n",
    "        'Barbara Walters':'Walters',\n",
    "        'Bill Shadel': 'Shadel',\n",
    "        'Edwin Newman': 'Newman',\n",
    "        'Frank Mcgee': 'McGee',\n",
    "        'Hal Bruno': 'Bruno',\n",
    "        'Harry Ellis': 'Ellis',\n",
    "        'Jim Lehrer': 'Lehrer',\n",
    "        'Quincy Howe': 'Howe',\n",
    "        'Sander Vanocur': 'Vanocur',\n",
    "        'President Bush': 'Bush',\n",
    "        '^Frederic$': 'Frederick'\n",
    "    }\n",
    "\n",
    "    # Loop through each speaking turn in the debate transcription content\n",
    "    for turn in debate['content']:\n",
    "\n",
    "        # Store actor name for each speaking turn\n",
    "        actor = turn['actor']\n",
    "\n",
    "        # Loop through prefixes in list\n",
    "        for prefix in prefixes:\n",
    "\n",
    "            # Check if the actor's name contains current prefix\n",
    "            if prefix in actor:\n",
    "\n",
    "                # Remove prefix and strip whitespace\n",
    "                actor = actor.replace(prefix, '').strip()\n",
    "\n",
    "        # Append actor to list of non-unique names\n",
    "        actor_list.append(actor)\n",
    "\n",
    "    # Loop through enumerated list of actor names\n",
    "    for index, data in enumerate(actor_list):\n",
    "\n",
    "        # Loop through items in typo corrections dict\n",
    "        for k, v in typo_corrections.items():\n",
    "\n",
    "            # Check if typo is present in current actor name\n",
    "            if k in data:\n",
    "\n",
    "                # Correct typo\n",
    "                actor_list[index]=data.replace(k, typo_corrections[k])\n",
    "\n",
    "    # Create unique list of cleaned actor names\n",
    "    cleaned_actors = list(set(actor_list))\n",
    "\n",
    "    # Return list of unique actor names for given debate\n",
    "    return cleaned_actors"
   ]
  },
  {
   "cell_type": "code",
   "execution_count": 389,
   "metadata": {},
   "outputs": [],
   "source": [
    "# Get non-unique words given actor name and debate JSON data\n",
    "def get_actor_dialogue(debate, actor):\n",
    "\n",
    "    # Initialize actor's dialogue to empty string\n",
    "    filtered_dialogue = ''\n",
    "\n",
    "    # Initialize speaking turn counter to 0\n",
    "    speaking_turn_count = 0\n",
    "\n",
    "    # Loop through speaking turns in debate JSON data\n",
    "    for turn in debate['content']:\n",
    "        \n",
    "        # Check if speaking turn is made by specified actor\n",
    "        if actor in turn['actor'].split():\n",
    "\n",
    "            # Increment actor's speaking turn count\n",
    "            speaking_turn_count += 1\n",
    "\n",
    "            # Concatenate to running dialogue string for selected actor\n",
    "            filtered_dialogue += f\"{turn['dialogue']} \"\n",
    "    # Create nonunique word list from dialogue with punctuation and whitespace removed\n",
    "    turn_dialogue_list = re.sub(r'[^\\w\\s]', '', filtered_dialogue).split()\n",
    "    \n",
    "    # Make lowercase list of all words\n",
    "    dialogue_list_lower = [word.lower() for word in turn_dialogue_list]\n",
    "\n",
    "    \n",
    "    # Return actor's speaking turn count and nonunique word list\n",
    "    return speaking_turn_count, dialogue_list_lower"
   ]
  },
  {
   "cell_type": "code",
   "execution_count": null,
   "metadata": {},
   "outputs": [],
   "source": []
  },
  {
   "cell_type": "code",
   "execution_count": 390,
   "metadata": {},
   "outputs": [],
   "source": [
    "### Collect data for dataframe\n",
    "\n",
    "# Initialize row data for dataframe to empty list\n",
    "row_data_list = []\n",
    "\n",
    "# Loop through all debate data\n",
    "for debate in all_debates_list:\n",
    "\n",
    "    # Store date of currently selected debate\n",
    "    debate_date = get_date(debate)\n",
    "\n",
    "    # Loop through unique actor list for each debate\n",
    "    for actor in get_unique_actors(debate):\n",
    "        \n",
    "        # Store speaking turn count and nonunique word list for currently selected debate/actor\n",
    "        speaking_turn_count, actor_dialogue_list = get_actor_dialogue(debate, actor)\n",
    "\n",
    "        # Store nonunique word count for selected debate/actor\n",
    "        total_word_count = len(actor_dialogue_list)\n",
    "    \n",
    "        # Store unique word count for selected debate/actor\n",
    "        unique_word_count = len(set(actor_dialogue_list))\n",
    "\n",
    "        # Create row of relevant data for selected debate/actor\n",
    "        row_data = [actor, debate_date, speaking_turn_count, total_word_count, unique_word_count]\n",
    "\n",
    "        # Append row data to list\n",
    "        row_data_list.append(row_data)"
   ]
  },
  {
   "cell_type": "code",
   "execution_count": 391,
   "metadata": {},
   "outputs": [
    {
     "data": {
      "text/html": [
       "<div>\n",
       "<style scoped>\n",
       "    .dataframe tbody tr th:only-of-type {\n",
       "        vertical-align: middle;\n",
       "    }\n",
       "\n",
       "    .dataframe tbody tr th {\n",
       "        vertical-align: top;\n",
       "    }\n",
       "\n",
       "    .dataframe thead th {\n",
       "        text-align: right;\n",
       "    }\n",
       "</style>\n",
       "<table border=\"1\" class=\"dataframe\">\n",
       "  <thead>\n",
       "    <tr style=\"text-align: right;\">\n",
       "      <th></th>\n",
       "      <th>actor</th>\n",
       "      <th>date</th>\n",
       "      <th>speaking_turn_count</th>\n",
       "      <th>total_word_count</th>\n",
       "      <th>unique_word_count</th>\n",
       "    </tr>\n",
       "  </thead>\n",
       "  <tbody>\n",
       "    <tr>\n",
       "      <th>0</th>\n",
       "      <td>Participants</td>\n",
       "      <td>2020-09-29</td>\n",
       "      <td>1</td>\n",
       "      <td>7</td>\n",
       "      <td>7</td>\n",
       "    </tr>\n",
       "    <tr>\n",
       "      <th>1</th>\n",
       "      <td>Trump</td>\n",
       "      <td>2020-09-29</td>\n",
       "      <td>341</td>\n",
       "      <td>7394</td>\n",
       "      <td>1155</td>\n",
       "    </tr>\n",
       "    <tr>\n",
       "      <th>2</th>\n",
       "      <td>Moderator</td>\n",
       "      <td>2020-09-29</td>\n",
       "      <td>1</td>\n",
       "      <td>4</td>\n",
       "      <td>4</td>\n",
       "    </tr>\n",
       "    <tr>\n",
       "      <th>3</th>\n",
       "      <td>Wallace</td>\n",
       "      <td>2020-09-29</td>\n",
       "      <td>246</td>\n",
       "      <td>4711</td>\n",
       "      <td>963</td>\n",
       "    </tr>\n",
       "    <tr>\n",
       "      <th>4</th>\n",
       "      <td>Biden</td>\n",
       "      <td>2020-09-29</td>\n",
       "      <td>269</td>\n",
       "      <td>6529</td>\n",
       "      <td>1224</td>\n",
       "    </tr>\n",
       "    <tr>\n",
       "      <th>...</th>\n",
       "      <td>...</td>\n",
       "      <td>...</td>\n",
       "      <td>...</td>\n",
       "      <td>...</td>\n",
       "      <td>...</td>\n",
       "    </tr>\n",
       "    <tr>\n",
       "      <th>303</th>\n",
       "      <td>Mccain</td>\n",
       "      <td>2008-10-07</td>\n",
       "      <td>40</td>\n",
       "      <td>6281</td>\n",
       "      <td>1270</td>\n",
       "    </tr>\n",
       "    <tr>\n",
       "      <th>304</th>\n",
       "      <td>Transcription By</td>\n",
       "      <td>2008-10-07</td>\n",
       "      <td>0</td>\n",
       "      <td>0</td>\n",
       "      <td>0</td>\n",
       "    </tr>\n",
       "    <tr>\n",
       "      <th>305</th>\n",
       "      <td>Obama</td>\n",
       "      <td>2008-10-07</td>\n",
       "      <td>39</td>\n",
       "      <td>7046</td>\n",
       "      <td>1344</td>\n",
       "    </tr>\n",
       "    <tr>\n",
       "      <th>306</th>\n",
       "      <td>descriptor</td>\n",
       "      <td>2008-10-07</td>\n",
       "      <td>7</td>\n",
       "      <td>7</td>\n",
       "      <td>2</td>\n",
       "    </tr>\n",
       "    <tr>\n",
       "      <th>307</th>\n",
       "      <td>Brokaw</td>\n",
       "      <td>2008-10-07</td>\n",
       "      <td>58</td>\n",
       "      <td>1703</td>\n",
       "      <td>533</td>\n",
       "    </tr>\n",
       "  </tbody>\n",
       "</table>\n",
       "<p>308 rows × 5 columns</p>\n",
       "</div>"
      ],
      "text/plain": [
       "                actor       date  speaking_turn_count  total_word_count  \\\n",
       "0        Participants 2020-09-29                    1                 7   \n",
       "1               Trump 2020-09-29                  341              7394   \n",
       "2           Moderator 2020-09-29                    1                 4   \n",
       "3             Wallace 2020-09-29                  246              4711   \n",
       "4               Biden 2020-09-29                  269              6529   \n",
       "..                ...        ...                  ...               ...   \n",
       "303            Mccain 2008-10-07                   40              6281   \n",
       "304  Transcription By 2008-10-07                    0                 0   \n",
       "305             Obama 2008-10-07                   39              7046   \n",
       "306        descriptor 2008-10-07                    7                 7   \n",
       "307            Brokaw 2008-10-07                   58              1703   \n",
       "\n",
       "     unique_word_count  \n",
       "0                    7  \n",
       "1                 1155  \n",
       "2                    4  \n",
       "3                  963  \n",
       "4                 1224  \n",
       "..                 ...  \n",
       "303               1270  \n",
       "304                  0  \n",
       "305               1344  \n",
       "306                  2  \n",
       "307                533  \n",
       "\n",
       "[308 rows x 5 columns]"
      ]
     },
     "execution_count": 391,
     "metadata": {},
     "output_type": "execute_result"
    }
   ],
   "source": [
    "# Create dataframe from collected row data\n",
    "debate_dialogue_df = pd.DataFrame(row_data_list, columns=['actor', 'date', 'speaking_turn_count','total_word_count', 'unique_word_count'])\n",
    "\n",
    "# Preview dataframe\n",
    "debate_dialogue_df"
   ]
  },
  {
   "cell_type": "code",
   "execution_count": 392,
   "metadata": {},
   "outputs": [
    {
     "data": {
      "text/plain": [
       "0          Participants\n",
       "1                 Trump\n",
       "2             Moderator\n",
       "3               Wallace\n",
       "4                 Biden\n",
       "             ...       \n",
       "303              Mccain\n",
       "304    Transcription By\n",
       "305               Obama\n",
       "306          descriptor\n",
       "307              Brokaw\n",
       "Name: actor, Length: 308, dtype: object"
      ]
     },
     "execution_count": 392,
     "metadata": {},
     "output_type": "execute_result"
    }
   ],
   "source": [
    "# Create new column with calculated average number of words per turn\n",
    "debate_dialogue_df['avg_words_per_turn'] = debate_dialogue_df['total_word_count'] / debate_dialogue_df['speaking_turn_count']\n",
    "\n",
    "# Create new column with calculated average number of words per turn\n",
    "debate_dialogue_df['avg_unique_words_per_turn'] = debate_dialogue_df['unique_word_count'] / debate_dialogue_df['speaking_turn_count']\n",
    "\n",
    "# Fix Reagan's name in 1984\n",
    "debate_dialogue_df['actor'].replace({\"The President\": \"Reagan\"})"
   ]
  },
  {
   "cell_type": "code",
   "execution_count": 393,
   "metadata": {},
   "outputs": [
    {
     "data": {
      "text/html": [
       "<div>\n",
       "<style scoped>\n",
       "    .dataframe tbody tr th:only-of-type {\n",
       "        vertical-align: middle;\n",
       "    }\n",
       "\n",
       "    .dataframe tbody tr th {\n",
       "        vertical-align: top;\n",
       "    }\n",
       "\n",
       "    .dataframe thead th {\n",
       "        text-align: right;\n",
       "    }\n",
       "</style>\n",
       "<table border=\"1\" class=\"dataframe\">\n",
       "  <thead>\n",
       "    <tr style=\"text-align: right;\">\n",
       "      <th></th>\n",
       "      <th>actor</th>\n",
       "      <th>date</th>\n",
       "      <th>speaking_turn_count</th>\n",
       "      <th>total_word_count</th>\n",
       "      <th>unique_word_count</th>\n",
       "      <th>avg_words_per_turn</th>\n",
       "      <th>avg_unique_words_per_turn</th>\n",
       "    </tr>\n",
       "  </thead>\n",
       "  <tbody>\n",
       "    <tr>\n",
       "      <th>251</th>\n",
       "      <td>Kaine</td>\n",
       "      <td>2016-10-04</td>\n",
       "      <td>188</td>\n",
       "      <td>7560</td>\n",
       "      <td>1464</td>\n",
       "      <td>40.212766</td>\n",
       "      <td>7.787234</td>\n",
       "    </tr>\n",
       "    <tr>\n",
       "      <th>300</th>\n",
       "      <td>Lieberman</td>\n",
       "      <td>2000-10-05</td>\n",
       "      <td>34</td>\n",
       "      <td>6685</td>\n",
       "      <td>1462</td>\n",
       "      <td>196.617647</td>\n",
       "      <td>43.000000</td>\n",
       "    </tr>\n",
       "    <tr>\n",
       "      <th>148</th>\n",
       "      <td>Kerry</td>\n",
       "      <td>2004-10-08</td>\n",
       "      <td>37</td>\n",
       "      <td>7252</td>\n",
       "      <td>1449</td>\n",
       "      <td>196.000000</td>\n",
       "      <td>39.162162</td>\n",
       "    </tr>\n",
       "    <tr>\n",
       "      <th>299</th>\n",
       "      <td>Cheney</td>\n",
       "      <td>2000-10-05</td>\n",
       "      <td>30</td>\n",
       "      <td>6663</td>\n",
       "      <td>1446</td>\n",
       "      <td>222.100000</td>\n",
       "      <td>48.200000</td>\n",
       "    </tr>\n",
       "    <tr>\n",
       "      <th>106</th>\n",
       "      <td>Dole</td>\n",
       "      <td>1996-10-06</td>\n",
       "      <td>46</td>\n",
       "      <td>8077</td>\n",
       "      <td>1426</td>\n",
       "      <td>175.586957</td>\n",
       "      <td>31.000000</td>\n",
       "    </tr>\n",
       "    <tr>\n",
       "      <th>...</th>\n",
       "      <td>...</td>\n",
       "      <td>...</td>\n",
       "      <td>...</td>\n",
       "      <td>...</td>\n",
       "      <td>...</td>\n",
       "      <td>...</td>\n",
       "      <td>...</td>\n",
       "    </tr>\n",
       "    <tr>\n",
       "      <th>143</th>\n",
       "      <td>Audience Question</td>\n",
       "      <td>1992-10-15</td>\n",
       "      <td>0</td>\n",
       "      <td>0</td>\n",
       "      <td>0</td>\n",
       "      <td>NaN</td>\n",
       "      <td>NaN</td>\n",
       "    </tr>\n",
       "    <tr>\n",
       "      <th>147</th>\n",
       "      <td>Audience Member</td>\n",
       "      <td>1992-10-15</td>\n",
       "      <td>0</td>\n",
       "      <td>0</td>\n",
       "      <td>0</td>\n",
       "      <td>NaN</td>\n",
       "      <td>NaN</td>\n",
       "    </tr>\n",
       "    <tr>\n",
       "      <th>171</th>\n",
       "      <td>A Reminder</td>\n",
       "      <td>2004-10-05</td>\n",
       "      <td>0</td>\n",
       "      <td>0</td>\n",
       "      <td>0</td>\n",
       "      <td>NaN</td>\n",
       "      <td>NaN</td>\n",
       "    </tr>\n",
       "    <tr>\n",
       "      <th>176</th>\n",
       "      <td>The Rules</td>\n",
       "      <td>2004-10-05</td>\n",
       "      <td>0</td>\n",
       "      <td>0</td>\n",
       "      <td>0</td>\n",
       "      <td>NaN</td>\n",
       "      <td>NaN</td>\n",
       "    </tr>\n",
       "    <tr>\n",
       "      <th>93</th>\n",
       "      <td>Von Fremd</td>\n",
       "      <td>1960-10-13</td>\n",
       "      <td>0</td>\n",
       "      <td>0</td>\n",
       "      <td>0</td>\n",
       "      <td>NaN</td>\n",
       "      <td>NaN</td>\n",
       "    </tr>\n",
       "  </tbody>\n",
       "</table>\n",
       "<p>308 rows × 7 columns</p>\n",
       "</div>"
      ],
      "text/plain": [
       "                 actor       date  speaking_turn_count  total_word_count  \\\n",
       "251              Kaine 2016-10-04                  188              7560   \n",
       "300          Lieberman 2000-10-05                   34              6685   \n",
       "148              Kerry 2004-10-08                   37              7252   \n",
       "299             Cheney 2000-10-05                   30              6663   \n",
       "106               Dole 1996-10-06                   46              8077   \n",
       "..                 ...        ...                  ...               ...   \n",
       "143  Audience Question 1992-10-15                    0                 0   \n",
       "147    Audience Member 1992-10-15                    0                 0   \n",
       "171         A Reminder 2004-10-05                    0                 0   \n",
       "176          The Rules 2004-10-05                    0                 0   \n",
       "93           Von Fremd 1960-10-13                    0                 0   \n",
       "\n",
       "     unique_word_count  avg_words_per_turn  avg_unique_words_per_turn  \n",
       "251               1464           40.212766                   7.787234  \n",
       "300               1462          196.617647                  43.000000  \n",
       "148               1449          196.000000                  39.162162  \n",
       "299               1446          222.100000                  48.200000  \n",
       "106               1426          175.586957                  31.000000  \n",
       "..                 ...                 ...                        ...  \n",
       "143                  0                 NaN                        NaN  \n",
       "147                  0                 NaN                        NaN  \n",
       "171                  0                 NaN                        NaN  \n",
       "176                  0                 NaN                        NaN  \n",
       "93                   0                 NaN                        NaN  \n",
       "\n",
       "[308 rows x 7 columns]"
      ]
     },
     "execution_count": 393,
     "metadata": {},
     "output_type": "execute_result"
    }
   ],
   "source": [
    "# Export dataframe as CSV\n",
    "debate_dialogue_df.to_csv('./debate_data.csv', index=False)\n",
    "\n",
    "debate_dialogue_df.sort_values(by=\"unique_word_count\", ascending=False)"
   ]
  },
  {
   "cell_type": "code",
   "execution_count": 394,
   "metadata": {},
   "outputs": [],
   "source": [
    "# Create function to count number of times each word was used\n",
    "def actor_word_count(debate, actor):\n",
    "    remove_words = ['the', 'to', 'of', 'in', 'and', 'that', 'a', 'is', 'for', 'it']\n",
    "    turn_count, dialogue_list = get_actor_dialogue(debate, actor)\n",
    "\n",
    "    dialogue_list_cleaned = [word for word in dialogue_list if word not in remove_words]\n",
    "\n",
    "    c = Counter(dialogue_list_cleaned)\n",
    "\n",
    "    return c"
   ]
  },
  {
   "cell_type": "code",
   "execution_count": 395,
   "metadata": {},
   "outputs": [
    {
     "name": "stdout",
     "output_type": "stream",
     "text": [
      "Obama ['September', '26', '2008'] [('we', 410), ('i', 234), ('have', 232), ('are', 184), ('not', 146), ('you', 132), ('our', 128), ('this', 118), ('with', 102), ('going', 100)]\n",
      "Obama ['October', '15', '2008'] [('i', 156), ('we', 118), ('have', 79), ('on', 59), ('you', 56), ('think', 56), ('going', 55), ('what', 47), ('if', 44), ('are', 43)]\n",
      "Obama ['OCTOBER', '3', '2012'] [('we', 115), ('i', 90), ('you', 75), ('are', 66), ('but', 62), ('were', 45), ('governor', 44), ('make', 43), ('not', 42), ('do', 41)]\n",
      "Obama ['OCTOBER', '22', '2012'] [('we', 176), ('you', 89), ('have', 79), ('our', 78), ('i', 74), ('not', 66), ('are', 63), ('were', 61), ('with', 55), ('but', 53)]\n",
      "Obama ['OCTOBER', '16', '2012'] [('i', 125), ('we', 121), ('are', 81), ('not', 71), ('thats', 70), ('but', 58), ('what', 57), ('going', 57), ('you', 56), ('governor', 55)]\n",
      "Obama ['October', '7', '2008'] [('we', 124), ('i', 101), ('have', 97), ('you', 88), ('going', 67), ('are', 62), ('on', 52), ('but', 50), ('so', 48), ('were', 48)]\n"
     ]
    }
   ],
   "source": [
    "for debate in all_debates_list:\n",
    "    for actor in get_unique_actors(debate):\n",
    "        if actor == 'Obama':\n",
    "            print(actor, debate['date'], actor_word_count(debate, actor).most_common(10))"
   ]
  },
  {
   "cell_type": "code",
   "execution_count": 396,
   "metadata": {},
   "outputs": [
    {
     "data": {
      "text/html": [
       "<div>\n",
       "<style scoped>\n",
       "    .dataframe tbody tr th:only-of-type {\n",
       "        vertical-align: middle;\n",
       "    }\n",
       "\n",
       "    .dataframe tbody tr th {\n",
       "        vertical-align: top;\n",
       "    }\n",
       "\n",
       "    .dataframe thead th {\n",
       "        text-align: right;\n",
       "    }\n",
       "</style>\n",
       "<table border=\"1\" class=\"dataframe\">\n",
       "  <thead>\n",
       "    <tr style=\"text-align: right;\">\n",
       "      <th></th>\n",
       "      <th>date</th>\n",
       "      <th>speaking_turn_count</th>\n",
       "      <th>total_word_count</th>\n",
       "      <th>unique_word_count</th>\n",
       "      <th>avg_words_per_turn</th>\n",
       "      <th>avg_unique_words_per_turn</th>\n",
       "    </tr>\n",
       "  </thead>\n",
       "  <tbody>\n",
       "    <tr>\n",
       "      <th>0</th>\n",
       "      <td>1960</td>\n",
       "      <td>8.233333</td>\n",
       "      <td>1413.833333</td>\n",
       "      <td>352.866667</td>\n",
       "      <td>156.536252</td>\n",
       "      <td>49.036258</td>\n",
       "    </tr>\n",
       "    <tr>\n",
       "      <th>1</th>\n",
       "      <td>1976</td>\n",
       "      <td>14.368421</td>\n",
       "      <td>2119.105263</td>\n",
       "      <td>540.368421</td>\n",
       "      <td>133.760234</td>\n",
       "      <td>39.109220</td>\n",
       "    </tr>\n",
       "    <tr>\n",
       "      <th>2</th>\n",
       "      <td>1980</td>\n",
       "      <td>11.687500</td>\n",
       "      <td>1437.562500</td>\n",
       "      <td>387.875000</td>\n",
       "      <td>129.599787</td>\n",
       "      <td>51.448356</td>\n",
       "    </tr>\n",
       "    <tr>\n",
       "      <th>3</th>\n",
       "      <td>1984</td>\n",
       "      <td>12.708333</td>\n",
       "      <td>1260.375000</td>\n",
       "      <td>353.375000</td>\n",
       "      <td>86.905834</td>\n",
       "      <td>33.629969</td>\n",
       "    </tr>\n",
       "    <tr>\n",
       "      <th>4</th>\n",
       "      <td>1988</td>\n",
       "      <td>26.578947</td>\n",
       "      <td>2382.105263</td>\n",
       "      <td>565.315789</td>\n",
       "      <td>90.092110</td>\n",
       "      <td>27.764280</td>\n",
       "    </tr>\n",
       "    <tr>\n",
       "      <th>5</th>\n",
       "      <td>1992</td>\n",
       "      <td>25.083333</td>\n",
       "      <td>1497.805556</td>\n",
       "      <td>398.055556</td>\n",
       "      <td>82.759190</td>\n",
       "      <td>28.088993</td>\n",
       "    </tr>\n",
       "    <tr>\n",
       "      <th>6</th>\n",
       "      <td>1996</td>\n",
       "      <td>12.709677</td>\n",
       "      <td>1510.677419</td>\n",
       "      <td>324.451613</td>\n",
       "      <td>71.469144</td>\n",
       "      <td>31.813999</td>\n",
       "    </tr>\n",
       "    <tr>\n",
       "      <th>7</th>\n",
       "      <td>2000</td>\n",
       "      <td>41.312500</td>\n",
       "      <td>3812.250000</td>\n",
       "      <td>808.125000</td>\n",
       "      <td>83.231956</td>\n",
       "      <td>17.741722</td>\n",
       "    </tr>\n",
       "    <tr>\n",
       "      <th>8</th>\n",
       "      <td>2004</td>\n",
       "      <td>15.350000</td>\n",
       "      <td>1533.825000</td>\n",
       "      <td>327.975000</td>\n",
       "      <td>61.753283</td>\n",
       "      <td>24.725779</td>\n",
       "    </tr>\n",
       "    <tr>\n",
       "      <th>9</th>\n",
       "      <td>2008</td>\n",
       "      <td>44.700000</td>\n",
       "      <td>3878.550000</td>\n",
       "      <td>645.350000</td>\n",
       "      <td>74.639637</td>\n",
       "      <td>14.603787</td>\n",
       "    </tr>\n",
       "    <tr>\n",
       "      <th>10</th>\n",
       "      <td>2012</td>\n",
       "      <td>52.000000</td>\n",
       "      <td>2712.958333</td>\n",
       "      <td>538.166667</td>\n",
       "      <td>62.869584</td>\n",
       "      <td>23.344661</td>\n",
       "    </tr>\n",
       "    <tr>\n",
       "      <th>11</th>\n",
       "      <td>2016</td>\n",
       "      <td>80.833333</td>\n",
       "      <td>3508.777778</td>\n",
       "      <td>742.666667</td>\n",
       "      <td>35.963496</td>\n",
       "      <td>8.528747</td>\n",
       "    </tr>\n",
       "    <tr>\n",
       "      <th>12</th>\n",
       "      <td>2020</td>\n",
       "      <td>97.200000</td>\n",
       "      <td>3437.733333</td>\n",
       "      <td>660.200000</td>\n",
       "      <td>30.470105</td>\n",
       "      <td>7.691408</td>\n",
       "    </tr>\n",
       "  </tbody>\n",
       "</table>\n",
       "</div>"
      ],
      "text/plain": [
       "    date  speaking_turn_count  total_word_count  unique_word_count  \\\n",
       "0   1960             8.233333       1413.833333         352.866667   \n",
       "1   1976            14.368421       2119.105263         540.368421   \n",
       "2   1980            11.687500       1437.562500         387.875000   \n",
       "3   1984            12.708333       1260.375000         353.375000   \n",
       "4   1988            26.578947       2382.105263         565.315789   \n",
       "5   1992            25.083333       1497.805556         398.055556   \n",
       "6   1996            12.709677       1510.677419         324.451613   \n",
       "7   2000            41.312500       3812.250000         808.125000   \n",
       "8   2004            15.350000       1533.825000         327.975000   \n",
       "9   2008            44.700000       3878.550000         645.350000   \n",
       "10  2012            52.000000       2712.958333         538.166667   \n",
       "11  2016            80.833333       3508.777778         742.666667   \n",
       "12  2020            97.200000       3437.733333         660.200000   \n",
       "\n",
       "    avg_words_per_turn  avg_unique_words_per_turn  \n",
       "0           156.536252                  49.036258  \n",
       "1           133.760234                  39.109220  \n",
       "2           129.599787                  51.448356  \n",
       "3            86.905834                  33.629969  \n",
       "4            90.092110                  27.764280  \n",
       "5            82.759190                  28.088993  \n",
       "6            71.469144                  31.813999  \n",
       "7            83.231956                  17.741722  \n",
       "8            61.753283                  24.725779  \n",
       "9            74.639637                  14.603787  \n",
       "10           62.869584                  23.344661  \n",
       "11           35.963496                   8.528747  \n",
       "12           30.470105                   7.691408  "
      ]
     },
     "execution_count": 396,
     "metadata": {},
     "output_type": "execute_result"
    }
   ],
   "source": [
    "df = debate_dialogue_df\n",
    "\n",
    "annual_average_df = df.groupby(df.date.dt.year).mean().reset_index()\n",
    "annual_average_df"
   ]
  },
  {
   "cell_type": "code",
   "execution_count": 397,
   "metadata": {},
   "outputs": [
    {
     "data": {
      "application/vnd.plotly.v1+json": {
       "config": {
        "plotlyServerURL": "https://plot.ly"
       },
       "data": [
        {
         "hovertemplate": "date=%{x}<br>avg_words_per_turn=%{y}<extra></extra>",
         "legendgroup": "",
         "line": {
          "color": "#636efa",
          "dash": "solid"
         },
         "marker": {
          "symbol": "circle"
         },
         "mode": "lines",
         "name": "",
         "orientation": "v",
         "showlegend": false,
         "type": "scatter",
         "x": [
          1960,
          1976,
          1980,
          1984,
          1988,
          1992,
          1996,
          2000,
          2004,
          2008,
          2012,
          2016,
          2020
         ],
         "xaxis": "x",
         "y": [
          156.53625215987242,
          133.7602336238559,
          129.5997870140612,
          86.90583389563653,
          90.09211027079807,
          82.7591901885306,
          71.46914396523783,
          83.23195575976155,
          61.75328269728664,
          74.63963695552006,
          62.86958392004436,
          35.963496057280885,
          30.470105242331314
         ],
         "yaxis": "y"
        },
        {
         "type": "scatter",
         "x": [
          1960,
          1976,
          1980,
          1984,
          1988,
          1992,
          1996,
          2000,
          2004,
          2008,
          2012,
          2016,
          2020
         ],
         "y": [
          49.036257831223686,
          39.109220082785875,
          51.448356337882544,
          33.62996855692344,
          27.76428030996263,
          28.088992746301276,
          31.81399935630764,
          17.741722207010827,
          24.725779090058438,
          14.603786834158594,
          23.344660546398103,
          8.528747447520246,
          7.691408418131663
         ]
        }
       ],
       "layout": {
        "legend": {
         "tracegroupgap": 0
        },
        "template": {
         "data": {
          "bar": [
           {
            "error_x": {
             "color": "#2a3f5f"
            },
            "error_y": {
             "color": "#2a3f5f"
            },
            "marker": {
             "line": {
              "color": "#E5ECF6",
              "width": 0.5
             },
             "pattern": {
              "fillmode": "overlay",
              "size": 10,
              "solidity": 0.2
             }
            },
            "type": "bar"
           }
          ],
          "barpolar": [
           {
            "marker": {
             "line": {
              "color": "#E5ECF6",
              "width": 0.5
             },
             "pattern": {
              "fillmode": "overlay",
              "size": 10,
              "solidity": 0.2
             }
            },
            "type": "barpolar"
           }
          ],
          "carpet": [
           {
            "aaxis": {
             "endlinecolor": "#2a3f5f",
             "gridcolor": "white",
             "linecolor": "white",
             "minorgridcolor": "white",
             "startlinecolor": "#2a3f5f"
            },
            "baxis": {
             "endlinecolor": "#2a3f5f",
             "gridcolor": "white",
             "linecolor": "white",
             "minorgridcolor": "white",
             "startlinecolor": "#2a3f5f"
            },
            "type": "carpet"
           }
          ],
          "choropleth": [
           {
            "colorbar": {
             "outlinewidth": 0,
             "ticks": ""
            },
            "type": "choropleth"
           }
          ],
          "contour": [
           {
            "colorbar": {
             "outlinewidth": 0,
             "ticks": ""
            },
            "colorscale": [
             [
              0,
              "#0d0887"
             ],
             [
              0.1111111111111111,
              "#46039f"
             ],
             [
              0.2222222222222222,
              "#7201a8"
             ],
             [
              0.3333333333333333,
              "#9c179e"
             ],
             [
              0.4444444444444444,
              "#bd3786"
             ],
             [
              0.5555555555555556,
              "#d8576b"
             ],
             [
              0.6666666666666666,
              "#ed7953"
             ],
             [
              0.7777777777777778,
              "#fb9f3a"
             ],
             [
              0.8888888888888888,
              "#fdca26"
             ],
             [
              1,
              "#f0f921"
             ]
            ],
            "type": "contour"
           }
          ],
          "contourcarpet": [
           {
            "colorbar": {
             "outlinewidth": 0,
             "ticks": ""
            },
            "type": "contourcarpet"
           }
          ],
          "heatmap": [
           {
            "colorbar": {
             "outlinewidth": 0,
             "ticks": ""
            },
            "colorscale": [
             [
              0,
              "#0d0887"
             ],
             [
              0.1111111111111111,
              "#46039f"
             ],
             [
              0.2222222222222222,
              "#7201a8"
             ],
             [
              0.3333333333333333,
              "#9c179e"
             ],
             [
              0.4444444444444444,
              "#bd3786"
             ],
             [
              0.5555555555555556,
              "#d8576b"
             ],
             [
              0.6666666666666666,
              "#ed7953"
             ],
             [
              0.7777777777777778,
              "#fb9f3a"
             ],
             [
              0.8888888888888888,
              "#fdca26"
             ],
             [
              1,
              "#f0f921"
             ]
            ],
            "type": "heatmap"
           }
          ],
          "heatmapgl": [
           {
            "colorbar": {
             "outlinewidth": 0,
             "ticks": ""
            },
            "colorscale": [
             [
              0,
              "#0d0887"
             ],
             [
              0.1111111111111111,
              "#46039f"
             ],
             [
              0.2222222222222222,
              "#7201a8"
             ],
             [
              0.3333333333333333,
              "#9c179e"
             ],
             [
              0.4444444444444444,
              "#bd3786"
             ],
             [
              0.5555555555555556,
              "#d8576b"
             ],
             [
              0.6666666666666666,
              "#ed7953"
             ],
             [
              0.7777777777777778,
              "#fb9f3a"
             ],
             [
              0.8888888888888888,
              "#fdca26"
             ],
             [
              1,
              "#f0f921"
             ]
            ],
            "type": "heatmapgl"
           }
          ],
          "histogram": [
           {
            "marker": {
             "pattern": {
              "fillmode": "overlay",
              "size": 10,
              "solidity": 0.2
             }
            },
            "type": "histogram"
           }
          ],
          "histogram2d": [
           {
            "colorbar": {
             "outlinewidth": 0,
             "ticks": ""
            },
            "colorscale": [
             [
              0,
              "#0d0887"
             ],
             [
              0.1111111111111111,
              "#46039f"
             ],
             [
              0.2222222222222222,
              "#7201a8"
             ],
             [
              0.3333333333333333,
              "#9c179e"
             ],
             [
              0.4444444444444444,
              "#bd3786"
             ],
             [
              0.5555555555555556,
              "#d8576b"
             ],
             [
              0.6666666666666666,
              "#ed7953"
             ],
             [
              0.7777777777777778,
              "#fb9f3a"
             ],
             [
              0.8888888888888888,
              "#fdca26"
             ],
             [
              1,
              "#f0f921"
             ]
            ],
            "type": "histogram2d"
           }
          ],
          "histogram2dcontour": [
           {
            "colorbar": {
             "outlinewidth": 0,
             "ticks": ""
            },
            "colorscale": [
             [
              0,
              "#0d0887"
             ],
             [
              0.1111111111111111,
              "#46039f"
             ],
             [
              0.2222222222222222,
              "#7201a8"
             ],
             [
              0.3333333333333333,
              "#9c179e"
             ],
             [
              0.4444444444444444,
              "#bd3786"
             ],
             [
              0.5555555555555556,
              "#d8576b"
             ],
             [
              0.6666666666666666,
              "#ed7953"
             ],
             [
              0.7777777777777778,
              "#fb9f3a"
             ],
             [
              0.8888888888888888,
              "#fdca26"
             ],
             [
              1,
              "#f0f921"
             ]
            ],
            "type": "histogram2dcontour"
           }
          ],
          "mesh3d": [
           {
            "colorbar": {
             "outlinewidth": 0,
             "ticks": ""
            },
            "type": "mesh3d"
           }
          ],
          "parcoords": [
           {
            "line": {
             "colorbar": {
              "outlinewidth": 0,
              "ticks": ""
             }
            },
            "type": "parcoords"
           }
          ],
          "pie": [
           {
            "automargin": true,
            "type": "pie"
           }
          ],
          "scatter": [
           {
            "fillpattern": {
             "fillmode": "overlay",
             "size": 10,
             "solidity": 0.2
            },
            "type": "scatter"
           }
          ],
          "scatter3d": [
           {
            "line": {
             "colorbar": {
              "outlinewidth": 0,
              "ticks": ""
             }
            },
            "marker": {
             "colorbar": {
              "outlinewidth": 0,
              "ticks": ""
             }
            },
            "type": "scatter3d"
           }
          ],
          "scattercarpet": [
           {
            "marker": {
             "colorbar": {
              "outlinewidth": 0,
              "ticks": ""
             }
            },
            "type": "scattercarpet"
           }
          ],
          "scattergeo": [
           {
            "marker": {
             "colorbar": {
              "outlinewidth": 0,
              "ticks": ""
             }
            },
            "type": "scattergeo"
           }
          ],
          "scattergl": [
           {
            "marker": {
             "colorbar": {
              "outlinewidth": 0,
              "ticks": ""
             }
            },
            "type": "scattergl"
           }
          ],
          "scattermapbox": [
           {
            "marker": {
             "colorbar": {
              "outlinewidth": 0,
              "ticks": ""
             }
            },
            "type": "scattermapbox"
           }
          ],
          "scatterpolar": [
           {
            "marker": {
             "colorbar": {
              "outlinewidth": 0,
              "ticks": ""
             }
            },
            "type": "scatterpolar"
           }
          ],
          "scatterpolargl": [
           {
            "marker": {
             "colorbar": {
              "outlinewidth": 0,
              "ticks": ""
             }
            },
            "type": "scatterpolargl"
           }
          ],
          "scatterternary": [
           {
            "marker": {
             "colorbar": {
              "outlinewidth": 0,
              "ticks": ""
             }
            },
            "type": "scatterternary"
           }
          ],
          "surface": [
           {
            "colorbar": {
             "outlinewidth": 0,
             "ticks": ""
            },
            "colorscale": [
             [
              0,
              "#0d0887"
             ],
             [
              0.1111111111111111,
              "#46039f"
             ],
             [
              0.2222222222222222,
              "#7201a8"
             ],
             [
              0.3333333333333333,
              "#9c179e"
             ],
             [
              0.4444444444444444,
              "#bd3786"
             ],
             [
              0.5555555555555556,
              "#d8576b"
             ],
             [
              0.6666666666666666,
              "#ed7953"
             ],
             [
              0.7777777777777778,
              "#fb9f3a"
             ],
             [
              0.8888888888888888,
              "#fdca26"
             ],
             [
              1,
              "#f0f921"
             ]
            ],
            "type": "surface"
           }
          ],
          "table": [
           {
            "cells": {
             "fill": {
              "color": "#EBF0F8"
             },
             "line": {
              "color": "white"
             }
            },
            "header": {
             "fill": {
              "color": "#C8D4E3"
             },
             "line": {
              "color": "white"
             }
            },
            "type": "table"
           }
          ]
         },
         "layout": {
          "annotationdefaults": {
           "arrowcolor": "#2a3f5f",
           "arrowhead": 0,
           "arrowwidth": 1
          },
          "autotypenumbers": "strict",
          "coloraxis": {
           "colorbar": {
            "outlinewidth": 0,
            "ticks": ""
           }
          },
          "colorscale": {
           "diverging": [
            [
             0,
             "#8e0152"
            ],
            [
             0.1,
             "#c51b7d"
            ],
            [
             0.2,
             "#de77ae"
            ],
            [
             0.3,
             "#f1b6da"
            ],
            [
             0.4,
             "#fde0ef"
            ],
            [
             0.5,
             "#f7f7f7"
            ],
            [
             0.6,
             "#e6f5d0"
            ],
            [
             0.7,
             "#b8e186"
            ],
            [
             0.8,
             "#7fbc41"
            ],
            [
             0.9,
             "#4d9221"
            ],
            [
             1,
             "#276419"
            ]
           ],
           "sequential": [
            [
             0,
             "#0d0887"
            ],
            [
             0.1111111111111111,
             "#46039f"
            ],
            [
             0.2222222222222222,
             "#7201a8"
            ],
            [
             0.3333333333333333,
             "#9c179e"
            ],
            [
             0.4444444444444444,
             "#bd3786"
            ],
            [
             0.5555555555555556,
             "#d8576b"
            ],
            [
             0.6666666666666666,
             "#ed7953"
            ],
            [
             0.7777777777777778,
             "#fb9f3a"
            ],
            [
             0.8888888888888888,
             "#fdca26"
            ],
            [
             1,
             "#f0f921"
            ]
           ],
           "sequentialminus": [
            [
             0,
             "#0d0887"
            ],
            [
             0.1111111111111111,
             "#46039f"
            ],
            [
             0.2222222222222222,
             "#7201a8"
            ],
            [
             0.3333333333333333,
             "#9c179e"
            ],
            [
             0.4444444444444444,
             "#bd3786"
            ],
            [
             0.5555555555555556,
             "#d8576b"
            ],
            [
             0.6666666666666666,
             "#ed7953"
            ],
            [
             0.7777777777777778,
             "#fb9f3a"
            ],
            [
             0.8888888888888888,
             "#fdca26"
            ],
            [
             1,
             "#f0f921"
            ]
           ]
          },
          "colorway": [
           "#636efa",
           "#EF553B",
           "#00cc96",
           "#ab63fa",
           "#FFA15A",
           "#19d3f3",
           "#FF6692",
           "#B6E880",
           "#FF97FF",
           "#FECB52"
          ],
          "font": {
           "color": "#2a3f5f"
          },
          "geo": {
           "bgcolor": "white",
           "lakecolor": "white",
           "landcolor": "#E5ECF6",
           "showlakes": true,
           "showland": true,
           "subunitcolor": "white"
          },
          "hoverlabel": {
           "align": "left"
          },
          "hovermode": "closest",
          "mapbox": {
           "style": "light"
          },
          "paper_bgcolor": "white",
          "plot_bgcolor": "#E5ECF6",
          "polar": {
           "angularaxis": {
            "gridcolor": "white",
            "linecolor": "white",
            "ticks": ""
           },
           "bgcolor": "#E5ECF6",
           "radialaxis": {
            "gridcolor": "white",
            "linecolor": "white",
            "ticks": ""
           }
          },
          "scene": {
           "xaxis": {
            "backgroundcolor": "#E5ECF6",
            "gridcolor": "white",
            "gridwidth": 2,
            "linecolor": "white",
            "showbackground": true,
            "ticks": "",
            "zerolinecolor": "white"
           },
           "yaxis": {
            "backgroundcolor": "#E5ECF6",
            "gridcolor": "white",
            "gridwidth": 2,
            "linecolor": "white",
            "showbackground": true,
            "ticks": "",
            "zerolinecolor": "white"
           },
           "zaxis": {
            "backgroundcolor": "#E5ECF6",
            "gridcolor": "white",
            "gridwidth": 2,
            "linecolor": "white",
            "showbackground": true,
            "ticks": "",
            "zerolinecolor": "white"
           }
          },
          "shapedefaults": {
           "line": {
            "color": "#2a3f5f"
           }
          },
          "ternary": {
           "aaxis": {
            "gridcolor": "white",
            "linecolor": "white",
            "ticks": ""
           },
           "baxis": {
            "gridcolor": "white",
            "linecolor": "white",
            "ticks": ""
           },
           "bgcolor": "#E5ECF6",
           "caxis": {
            "gridcolor": "white",
            "linecolor": "white",
            "ticks": ""
           }
          },
          "title": {
           "x": 0.05
          },
          "xaxis": {
           "automargin": true,
           "gridcolor": "white",
           "linecolor": "white",
           "ticks": "",
           "title": {
            "standoff": 15
           },
           "zerolinecolor": "white",
           "zerolinewidth": 2
          },
          "yaxis": {
           "automargin": true,
           "gridcolor": "white",
           "linecolor": "white",
           "ticks": "",
           "title": {
            "standoff": 15
           },
           "zerolinecolor": "white",
           "zerolinewidth": 2
          }
         }
        },
        "title": {
         "text": "avg_words_per_turn vs. date"
        },
        "xaxis": {
         "anchor": "y",
         "domain": [
          0,
          1
         ],
         "title": {
          "text": "date"
         }
        },
        "yaxis": {
         "anchor": "x",
         "domain": [
          0,
          1
         ],
         "title": {
          "text": "avg_words_per_turn"
         }
        }
       }
      }
     },
     "metadata": {},
     "output_type": "display_data"
    }
   ],
   "source": [
    "df = annual_average_df\n",
    "fig = px.line(df, x=\"date\", y=\"avg_words_per_turn\", title=f\"avg_words_per_turn vs. date\")\n",
    "# fig.add_scatter(x=df['date'], y=df['unique_word_count'])\n",
    "fig.add_scatter(x=df['date'], y=df['avg_unique_words_per_turn'])\n",
    "fig.show()\n",
    "\n",
    "# fig.update_traces(marker_size=10)"
   ]
  },
  {
   "cell_type": "code",
   "execution_count": 398,
   "metadata": {},
   "outputs": [
    {
     "data": {
      "application/vnd.plotly.v1+json": {
       "config": {
        "plotlyServerURL": "https://plot.ly"
       },
       "data": [
        {
         "hovertemplate": "<b>%{hovertext}</b><br><br>speaking_turn_count=%{x}<br>avg_words_per_turn=%{y}<br>total_word_count=%{marker.size}<br>date=%{marker.color}<extra></extra>",
         "hovertext": [
          1960,
          1976,
          1980,
          1984,
          1988,
          1992,
          1996,
          2000,
          2004,
          2008,
          2012,
          2016,
          2020
         ],
         "legendgroup": "",
         "marker": {
          "color": [
           1960,
           1976,
           1980,
           1984,
           1988,
           1992,
           1996,
           2000,
           2004,
           2008,
           2012,
           2016,
           2020
          ],
          "coloraxis": "coloraxis",
          "size": [
           1413.8333333333333,
           2119.1052631578946,
           1437.5625,
           1260.375,
           2382.1052631578946,
           1497.8055555555557,
           1510.6774193548388,
           3812.25,
           1533.825,
           3878.55,
           2712.9583333333335,
           3508.777777777778,
           3437.733333333333
          ],
          "sizemode": "area",
          "sizeref": 1.077375,
          "symbol": "circle"
         },
         "mode": "markers",
         "name": "",
         "orientation": "v",
         "showlegend": false,
         "type": "scatter",
         "x": [
          8.233333333333333,
          14.368421052631579,
          11.6875,
          12.708333333333334,
          26.57894736842105,
          25.083333333333332,
          12.709677419354838,
          41.3125,
          15.35,
          44.7,
          52,
          80.83333333333333,
          97.2
         ],
         "xaxis": "x",
         "y": [
          156.53625215987242,
          133.7602336238559,
          129.5997870140612,
          86.90583389563653,
          90.09211027079807,
          82.7591901885306,
          71.46914396523783,
          83.23195575976155,
          61.75328269728664,
          74.63963695552006,
          62.86958392004436,
          35.963496057280885,
          30.470105242331314
         ],
         "yaxis": "y"
        }
       ],
       "layout": {
        "coloraxis": {
         "colorbar": {
          "title": {
           "text": "date"
          }
         },
         "colorscale": [
          [
           0,
           "#0d0887"
          ],
          [
           0.1111111111111111,
           "#46039f"
          ],
          [
           0.2222222222222222,
           "#7201a8"
          ],
          [
           0.3333333333333333,
           "#9c179e"
          ],
          [
           0.4444444444444444,
           "#bd3786"
          ],
          [
           0.5555555555555556,
           "#d8576b"
          ],
          [
           0.6666666666666666,
           "#ed7953"
          ],
          [
           0.7777777777777778,
           "#fb9f3a"
          ],
          [
           0.8888888888888888,
           "#fdca26"
          ],
          [
           1,
           "#f0f921"
          ]
         ]
        },
        "legend": {
         "itemsizing": "constant",
         "tracegroupgap": 0
        },
        "margin": {
         "t": 60
        },
        "template": {
         "data": {
          "bar": [
           {
            "error_x": {
             "color": "#2a3f5f"
            },
            "error_y": {
             "color": "#2a3f5f"
            },
            "marker": {
             "line": {
              "color": "#E5ECF6",
              "width": 0.5
             },
             "pattern": {
              "fillmode": "overlay",
              "size": 10,
              "solidity": 0.2
             }
            },
            "type": "bar"
           }
          ],
          "barpolar": [
           {
            "marker": {
             "line": {
              "color": "#E5ECF6",
              "width": 0.5
             },
             "pattern": {
              "fillmode": "overlay",
              "size": 10,
              "solidity": 0.2
             }
            },
            "type": "barpolar"
           }
          ],
          "carpet": [
           {
            "aaxis": {
             "endlinecolor": "#2a3f5f",
             "gridcolor": "white",
             "linecolor": "white",
             "minorgridcolor": "white",
             "startlinecolor": "#2a3f5f"
            },
            "baxis": {
             "endlinecolor": "#2a3f5f",
             "gridcolor": "white",
             "linecolor": "white",
             "minorgridcolor": "white",
             "startlinecolor": "#2a3f5f"
            },
            "type": "carpet"
           }
          ],
          "choropleth": [
           {
            "colorbar": {
             "outlinewidth": 0,
             "ticks": ""
            },
            "type": "choropleth"
           }
          ],
          "contour": [
           {
            "colorbar": {
             "outlinewidth": 0,
             "ticks": ""
            },
            "colorscale": [
             [
              0,
              "#0d0887"
             ],
             [
              0.1111111111111111,
              "#46039f"
             ],
             [
              0.2222222222222222,
              "#7201a8"
             ],
             [
              0.3333333333333333,
              "#9c179e"
             ],
             [
              0.4444444444444444,
              "#bd3786"
             ],
             [
              0.5555555555555556,
              "#d8576b"
             ],
             [
              0.6666666666666666,
              "#ed7953"
             ],
             [
              0.7777777777777778,
              "#fb9f3a"
             ],
             [
              0.8888888888888888,
              "#fdca26"
             ],
             [
              1,
              "#f0f921"
             ]
            ],
            "type": "contour"
           }
          ],
          "contourcarpet": [
           {
            "colorbar": {
             "outlinewidth": 0,
             "ticks": ""
            },
            "type": "contourcarpet"
           }
          ],
          "heatmap": [
           {
            "colorbar": {
             "outlinewidth": 0,
             "ticks": ""
            },
            "colorscale": [
             [
              0,
              "#0d0887"
             ],
             [
              0.1111111111111111,
              "#46039f"
             ],
             [
              0.2222222222222222,
              "#7201a8"
             ],
             [
              0.3333333333333333,
              "#9c179e"
             ],
             [
              0.4444444444444444,
              "#bd3786"
             ],
             [
              0.5555555555555556,
              "#d8576b"
             ],
             [
              0.6666666666666666,
              "#ed7953"
             ],
             [
              0.7777777777777778,
              "#fb9f3a"
             ],
             [
              0.8888888888888888,
              "#fdca26"
             ],
             [
              1,
              "#f0f921"
             ]
            ],
            "type": "heatmap"
           }
          ],
          "heatmapgl": [
           {
            "colorbar": {
             "outlinewidth": 0,
             "ticks": ""
            },
            "colorscale": [
             [
              0,
              "#0d0887"
             ],
             [
              0.1111111111111111,
              "#46039f"
             ],
             [
              0.2222222222222222,
              "#7201a8"
             ],
             [
              0.3333333333333333,
              "#9c179e"
             ],
             [
              0.4444444444444444,
              "#bd3786"
             ],
             [
              0.5555555555555556,
              "#d8576b"
             ],
             [
              0.6666666666666666,
              "#ed7953"
             ],
             [
              0.7777777777777778,
              "#fb9f3a"
             ],
             [
              0.8888888888888888,
              "#fdca26"
             ],
             [
              1,
              "#f0f921"
             ]
            ],
            "type": "heatmapgl"
           }
          ],
          "histogram": [
           {
            "marker": {
             "pattern": {
              "fillmode": "overlay",
              "size": 10,
              "solidity": 0.2
             }
            },
            "type": "histogram"
           }
          ],
          "histogram2d": [
           {
            "colorbar": {
             "outlinewidth": 0,
             "ticks": ""
            },
            "colorscale": [
             [
              0,
              "#0d0887"
             ],
             [
              0.1111111111111111,
              "#46039f"
             ],
             [
              0.2222222222222222,
              "#7201a8"
             ],
             [
              0.3333333333333333,
              "#9c179e"
             ],
             [
              0.4444444444444444,
              "#bd3786"
             ],
             [
              0.5555555555555556,
              "#d8576b"
             ],
             [
              0.6666666666666666,
              "#ed7953"
             ],
             [
              0.7777777777777778,
              "#fb9f3a"
             ],
             [
              0.8888888888888888,
              "#fdca26"
             ],
             [
              1,
              "#f0f921"
             ]
            ],
            "type": "histogram2d"
           }
          ],
          "histogram2dcontour": [
           {
            "colorbar": {
             "outlinewidth": 0,
             "ticks": ""
            },
            "colorscale": [
             [
              0,
              "#0d0887"
             ],
             [
              0.1111111111111111,
              "#46039f"
             ],
             [
              0.2222222222222222,
              "#7201a8"
             ],
             [
              0.3333333333333333,
              "#9c179e"
             ],
             [
              0.4444444444444444,
              "#bd3786"
             ],
             [
              0.5555555555555556,
              "#d8576b"
             ],
             [
              0.6666666666666666,
              "#ed7953"
             ],
             [
              0.7777777777777778,
              "#fb9f3a"
             ],
             [
              0.8888888888888888,
              "#fdca26"
             ],
             [
              1,
              "#f0f921"
             ]
            ],
            "type": "histogram2dcontour"
           }
          ],
          "mesh3d": [
           {
            "colorbar": {
             "outlinewidth": 0,
             "ticks": ""
            },
            "type": "mesh3d"
           }
          ],
          "parcoords": [
           {
            "line": {
             "colorbar": {
              "outlinewidth": 0,
              "ticks": ""
             }
            },
            "type": "parcoords"
           }
          ],
          "pie": [
           {
            "automargin": true,
            "type": "pie"
           }
          ],
          "scatter": [
           {
            "fillpattern": {
             "fillmode": "overlay",
             "size": 10,
             "solidity": 0.2
            },
            "type": "scatter"
           }
          ],
          "scatter3d": [
           {
            "line": {
             "colorbar": {
              "outlinewidth": 0,
              "ticks": ""
             }
            },
            "marker": {
             "colorbar": {
              "outlinewidth": 0,
              "ticks": ""
             }
            },
            "type": "scatter3d"
           }
          ],
          "scattercarpet": [
           {
            "marker": {
             "colorbar": {
              "outlinewidth": 0,
              "ticks": ""
             }
            },
            "type": "scattercarpet"
           }
          ],
          "scattergeo": [
           {
            "marker": {
             "colorbar": {
              "outlinewidth": 0,
              "ticks": ""
             }
            },
            "type": "scattergeo"
           }
          ],
          "scattergl": [
           {
            "marker": {
             "colorbar": {
              "outlinewidth": 0,
              "ticks": ""
             }
            },
            "type": "scattergl"
           }
          ],
          "scattermapbox": [
           {
            "marker": {
             "colorbar": {
              "outlinewidth": 0,
              "ticks": ""
             }
            },
            "type": "scattermapbox"
           }
          ],
          "scatterpolar": [
           {
            "marker": {
             "colorbar": {
              "outlinewidth": 0,
              "ticks": ""
             }
            },
            "type": "scatterpolar"
           }
          ],
          "scatterpolargl": [
           {
            "marker": {
             "colorbar": {
              "outlinewidth": 0,
              "ticks": ""
             }
            },
            "type": "scatterpolargl"
           }
          ],
          "scatterternary": [
           {
            "marker": {
             "colorbar": {
              "outlinewidth": 0,
              "ticks": ""
             }
            },
            "type": "scatterternary"
           }
          ],
          "surface": [
           {
            "colorbar": {
             "outlinewidth": 0,
             "ticks": ""
            },
            "colorscale": [
             [
              0,
              "#0d0887"
             ],
             [
              0.1111111111111111,
              "#46039f"
             ],
             [
              0.2222222222222222,
              "#7201a8"
             ],
             [
              0.3333333333333333,
              "#9c179e"
             ],
             [
              0.4444444444444444,
              "#bd3786"
             ],
             [
              0.5555555555555556,
              "#d8576b"
             ],
             [
              0.6666666666666666,
              "#ed7953"
             ],
             [
              0.7777777777777778,
              "#fb9f3a"
             ],
             [
              0.8888888888888888,
              "#fdca26"
             ],
             [
              1,
              "#f0f921"
             ]
            ],
            "type": "surface"
           }
          ],
          "table": [
           {
            "cells": {
             "fill": {
              "color": "#EBF0F8"
             },
             "line": {
              "color": "white"
             }
            },
            "header": {
             "fill": {
              "color": "#C8D4E3"
             },
             "line": {
              "color": "white"
             }
            },
            "type": "table"
           }
          ]
         },
         "layout": {
          "annotationdefaults": {
           "arrowcolor": "#2a3f5f",
           "arrowhead": 0,
           "arrowwidth": 1
          },
          "autotypenumbers": "strict",
          "coloraxis": {
           "colorbar": {
            "outlinewidth": 0,
            "ticks": ""
           }
          },
          "colorscale": {
           "diverging": [
            [
             0,
             "#8e0152"
            ],
            [
             0.1,
             "#c51b7d"
            ],
            [
             0.2,
             "#de77ae"
            ],
            [
             0.3,
             "#f1b6da"
            ],
            [
             0.4,
             "#fde0ef"
            ],
            [
             0.5,
             "#f7f7f7"
            ],
            [
             0.6,
             "#e6f5d0"
            ],
            [
             0.7,
             "#b8e186"
            ],
            [
             0.8,
             "#7fbc41"
            ],
            [
             0.9,
             "#4d9221"
            ],
            [
             1,
             "#276419"
            ]
           ],
           "sequential": [
            [
             0,
             "#0d0887"
            ],
            [
             0.1111111111111111,
             "#46039f"
            ],
            [
             0.2222222222222222,
             "#7201a8"
            ],
            [
             0.3333333333333333,
             "#9c179e"
            ],
            [
             0.4444444444444444,
             "#bd3786"
            ],
            [
             0.5555555555555556,
             "#d8576b"
            ],
            [
             0.6666666666666666,
             "#ed7953"
            ],
            [
             0.7777777777777778,
             "#fb9f3a"
            ],
            [
             0.8888888888888888,
             "#fdca26"
            ],
            [
             1,
             "#f0f921"
            ]
           ],
           "sequentialminus": [
            [
             0,
             "#0d0887"
            ],
            [
             0.1111111111111111,
             "#46039f"
            ],
            [
             0.2222222222222222,
             "#7201a8"
            ],
            [
             0.3333333333333333,
             "#9c179e"
            ],
            [
             0.4444444444444444,
             "#bd3786"
            ],
            [
             0.5555555555555556,
             "#d8576b"
            ],
            [
             0.6666666666666666,
             "#ed7953"
            ],
            [
             0.7777777777777778,
             "#fb9f3a"
            ],
            [
             0.8888888888888888,
             "#fdca26"
            ],
            [
             1,
             "#f0f921"
            ]
           ]
          },
          "colorway": [
           "#636efa",
           "#EF553B",
           "#00cc96",
           "#ab63fa",
           "#FFA15A",
           "#19d3f3",
           "#FF6692",
           "#B6E880",
           "#FF97FF",
           "#FECB52"
          ],
          "font": {
           "color": "#2a3f5f"
          },
          "geo": {
           "bgcolor": "white",
           "lakecolor": "white",
           "landcolor": "#E5ECF6",
           "showlakes": true,
           "showland": true,
           "subunitcolor": "white"
          },
          "hoverlabel": {
           "align": "left"
          },
          "hovermode": "closest",
          "mapbox": {
           "style": "light"
          },
          "paper_bgcolor": "white",
          "plot_bgcolor": "#E5ECF6",
          "polar": {
           "angularaxis": {
            "gridcolor": "white",
            "linecolor": "white",
            "ticks": ""
           },
           "bgcolor": "#E5ECF6",
           "radialaxis": {
            "gridcolor": "white",
            "linecolor": "white",
            "ticks": ""
           }
          },
          "scene": {
           "xaxis": {
            "backgroundcolor": "#E5ECF6",
            "gridcolor": "white",
            "gridwidth": 2,
            "linecolor": "white",
            "showbackground": true,
            "ticks": "",
            "zerolinecolor": "white"
           },
           "yaxis": {
            "backgroundcolor": "#E5ECF6",
            "gridcolor": "white",
            "gridwidth": 2,
            "linecolor": "white",
            "showbackground": true,
            "ticks": "",
            "zerolinecolor": "white"
           },
           "zaxis": {
            "backgroundcolor": "#E5ECF6",
            "gridcolor": "white",
            "gridwidth": 2,
            "linecolor": "white",
            "showbackground": true,
            "ticks": "",
            "zerolinecolor": "white"
           }
          },
          "shapedefaults": {
           "line": {
            "color": "#2a3f5f"
           }
          },
          "ternary": {
           "aaxis": {
            "gridcolor": "white",
            "linecolor": "white",
            "ticks": ""
           },
           "baxis": {
            "gridcolor": "white",
            "linecolor": "white",
            "ticks": ""
           },
           "bgcolor": "#E5ECF6",
           "caxis": {
            "gridcolor": "white",
            "linecolor": "white",
            "ticks": ""
           }
          },
          "title": {
           "x": 0.05
          },
          "xaxis": {
           "automargin": true,
           "gridcolor": "white",
           "linecolor": "white",
           "ticks": "",
           "title": {
            "standoff": 15
           },
           "zerolinecolor": "white",
           "zerolinewidth": 2
          },
          "yaxis": {
           "automargin": true,
           "gridcolor": "white",
           "linecolor": "white",
           "ticks": "",
           "title": {
            "standoff": 15
           },
           "zerolinecolor": "white",
           "zerolinewidth": 2
          }
         }
        },
        "xaxis": {
         "anchor": "y",
         "domain": [
          0,
          1
         ],
         "title": {
          "text": "speaking_turn_count"
         },
         "type": "log"
        },
        "yaxis": {
         "anchor": "x",
         "domain": [
          0,
          1
         ],
         "title": {
          "text": "avg_words_per_turn"
         }
        }
       }
      }
     },
     "metadata": {},
     "output_type": "display_data"
    }
   ],
   "source": [
    "\n",
    "fig = px.scatter(df, x=\"speaking_turn_count\", y=\"avg_words_per_turn\",\n",
    "\t         size=\"total_word_count\", color=\"date\",\n",
    "                 hover_name=\"date\", log_x=True, size_max=60)\n",
    "fig.show()"
   ]
  },
  {
   "cell_type": "code",
   "execution_count": 399,
   "metadata": {},
   "outputs": [
    {
     "data": {
      "application/vnd.plotly.v1+json": {
       "config": {
        "plotlyServerURL": "https://plot.ly"
       },
       "data": [
        {
         "alignmentgroup": "True",
         "bingroup": "x",
         "hovertemplate": "total_word_count=%{x}<br>count=%{y}<extra></extra>",
         "legendgroup": "",
         "marker": {
          "color": "#636efa",
          "pattern": {
           "shape": ""
          }
         },
         "name": "",
         "offsetgroup": "",
         "orientation": "v",
         "showlegend": false,
         "type": "histogram",
         "x": [
          7,
          7394,
          4,
          4711,
          6529,
          14,
          369,
          4111,
          162,
          321,
          268,
          4693,
          571,
          835,
          5945,
          504,
          1078,
          5431,
          685,
          434,
          5972,
          500,
          581,
          362,
          5774,
          741,
          7,
          3340,
          7654,
          4,
          6979,
          4,
          1926,
          7600,
          6791,
          14204,
          0,
          14848,
          24,
          2152,
          2,
          6666,
          6407,
          1387,
          1325,
          6243,
          0,
          7166,
          2,
          536,
          105,
          5128,
          707,
          48,
          530,
          0,
          413,
          0,
          7188,
          5690,
          0,
          1659,
          5,
          81,
          67,
          0,
          7384,
          140,
          110,
          59,
          680,
          28,
          40,
          136,
          31,
          61,
          195,
          89,
          26,
          44,
          29,
          57,
          25,
          20,
          44,
          56,
          7071,
          276,
          4642,
          346,
          829,
          4018,
          217,
          0,
          4697,
          4934,
          129,
          92,
          5183,
          44,
          112,
          1720,
          1,
          7624,
          6340,
          1911,
          8077,
          7375,
          0,
          1213,
          1906,
          1935,
          1688,
          54,
          20,
          72,
          296,
          142,
          4831,
          35,
          4935,
          2195,
          1821,
          76,
          4617,
          634,
          135,
          166,
          144,
          4878,
          6807,
          5,
          7501,
          29,
          1650,
          6899,
          5895,
          613,
          658,
          661,
          601,
          2045,
          2379,
          0,
          2345,
          2,
          530,
          0,
          7252,
          38,
          26,
          1337,
          27,
          27,
          17,
          54,
          39,
          6627,
          34,
          44,
          12,
          31,
          77,
          22,
          34,
          29,
          2,
          27,
          52,
          25,
          6404,
          0,
          8088,
          9,
          4,
          2020,
          0,
          9,
          1846,
          7854,
          6016,
          1183,
          6934,
          0,
          66,
          7946,
          50,
          246,
          3,
          3786,
          453,
          55,
          45,
          451,
          43,
          49,
          58,
          3697,
          3206,
          2613,
          2831,
          143,
          5,
          149,
          631,
          201,
          6636,
          6220,
          8,
          5,
          1503,
          1360,
          0,
          109,
          5080,
          722,
          19,
          411,
          1109,
          1014,
          4780,
          815,
          580,
          506,
          5711,
          7,
          347,
          4730,
          591,
          651,
          864,
          5701,
          1944,
          6647,
          269,
          56,
          6619,
          7129,
          5643,
          648,
          21,
          468,
          697,
          849,
          5,
          5326,
          6411,
          4,
          3191,
          7,
          6982,
          7560,
          1812,
          1123,
          274,
          1266,
          5847,
          6914,
          1,
          2,
          7435,
          7191,
          1678,
          5452,
          5882,
          391,
          883,
          504,
          374,
          486,
          2,
          2691,
          6662,
          6292,
          445,
          1995,
          7164,
          42,
          22,
          7488,
          1,
          6890,
          847,
          6036,
          142,
          1126,
          4403,
          4336,
          0,
          174,
          590,
          157,
          562,
          5011,
          627,
          663,
          750,
          6353,
          1,
          6663,
          6685,
          1003,
          249,
          6281,
          0,
          7046,
          7,
          1703
         ],
         "xaxis": "x",
         "yaxis": "y"
        },
        {
         "alignmentgroup": "True",
         "customdata": [
          [
           "Participants",
           "2020-09-29T00:00:00",
           1,
           7,
           7,
           7
          ],
          [
           "Trump",
           "2020-09-29T00:00:00",
           341,
           1155,
           21.683284457478006,
           3.3870967741935485
          ],
          [
           "Moderator",
           "2020-09-29T00:00:00",
           1,
           4,
           4,
           4
          ],
          [
           "Wallace",
           "2020-09-29T00:00:00",
           246,
           963,
           19.150406504065042,
           3.9146341463414633
          ],
          [
           "Biden",
           "2020-09-29T00:00:00",
           269,
           1224,
           24.271375464684017,
           4.550185873605948
          ],
          [
           "Voice",
           "1960-09-26T00:00:00",
           1,
           14,
           14,
           14
          ],
          [
           "Fleming",
           "1960-09-26T00:00:00",
           2,
           148,
           184.5,
           74
          ],
          [
           "Nixon",
           "1960-09-26T00:00:00",
           10,
           820,
           411.1,
           82
          ],
          [
           "Novins",
           "1960-09-26T00:00:00",
           5,
           100,
           32.4,
           20
          ],
          [
           "Vanocur",
           "1960-09-26T00:00:00",
           4,
           168,
           80.25,
           42
          ],
          [
           "Warren",
           "1960-09-26T00:00:00",
           4,
           166,
           67,
           41.5
          ],
          [
           "Kennedy",
           "1960-09-26T00:00:00",
           17,
           953,
           276.05882352941177,
           56.05882352941177
          ],
          [
           "Smith",
           "1960-09-26T00:00:00",
           23,
           222,
           24.82608695652174,
           9.652173913043478
          ],
          [
           "Woodruff",
           "1988-10-05T00:00:00",
           58,
           294,
           14.39655172413793,
           5.068965517241379
          ],
          [
           "Bentsen",
           "1988-10-05T00:00:00",
           32,
           1155,
           185.78125,
           36.09375
          ],
          [
           "Hume",
           "1988-10-05T00:00:00",
           5,
           214,
           100.8,
           42.8
          ],
          [
           "Margolis",
           "1988-10-05T00:00:00",
           12,
           460,
           89.83333333333333,
           38.333333333333336
          ],
          [
           "Quayle",
           "1988-10-05T00:00:00",
           34,
           1061,
           159.73529411764707,
           31.205882352941178
          ],
          [
           "Brokaw",
           "1988-10-05T00:00:00",
           10,
           301,
           68.5,
           30.1
          ],
          [
           "Ellis",
           "1980-10-28T00:00:00",
           5,
           201,
           86.8,
           40.2
          ],
          [
           "Reagan",
           "1980-10-28T00:00:00",
           24,
           1275,
           248.83333333333334,
           53.125
          ],
          [
           "Stone",
           "1980-10-28T00:00:00",
           5,
           222,
           100,
           44.4
          ],
          [
           "Walters",
           "1980-10-28T00:00:00",
           6,
           225,
           96.83333333333333,
           37.5
          ],
          [
           "Hilliard",
           "1980-10-28T00:00:00",
           5,
           131,
           72.4,
           26.2
          ],
          [
           "Carter",
           "1980-10-28T00:00:00",
           26,
           1305,
           222.07692307692307,
           50.19230769230769
          ],
          [
           "Smith",
           "1980-10-28T00:00:00",
           50,
           211,
           14.82,
           4.22
          ],
          [
           "Participants",
           "2020-10-22T00:00:00",
           1,
           7,
           7,
           7
          ],
          [
           "Welker",
           "2020-10-22T00:00:00",
           146,
           740,
           22.876712328767123,
           5.068493150684931
          ],
          [
           "Trump",
           "2020-10-22T00:00:00",
           122,
           1200,
           62.73770491803279,
           9.836065573770492
          ],
          [
           "Moderator",
           "2020-10-22T00:00:00",
           1,
           4,
           4,
           4
          ],
          [
           "Biden",
           "2020-10-22T00:00:00",
           84,
           1329,
           83.08333333333333,
           15.821428571428571
          ],
          [
           "descriptor",
           "2008-10-02T00:00:00",
           4,
           2,
           1,
           0.5
          ],
          [
           "Ifill",
           "2008-10-02T00:00:00",
           76,
           591,
           25.342105263157894,
           7.776315789473684
          ],
          [
           "Palin",
           "2008-10-02T00:00:00",
           46,
           1365,
           165.2173913043478,
           29.67391304347826
          ],
          [
           "Biden",
           "2008-10-02T00:00:00",
           41,
           1300,
           165.6341463414634,
           31.70731707317073
          ],
          [
           "Mccain",
           "2008-09-26T00:00:00",
           126,
           1421,
           112.73015873015873,
           11.277777777777779
          ],
          [
           "Transcription By",
           "2008-09-26T00:00:00",
           0,
           0,
           null,
           null
          ],
          [
           "Obama",
           "2008-09-26T00:00:00",
           126,
           1410,
           117.84126984126983,
           11.19047619047619
          ],
          [
           "descriptor",
           "2008-09-26T00:00:00",
           24,
           3,
           1,
           0.125
          ],
          [
           "Lehrer",
           "2008-09-26T00:00:00",
           126,
           333,
           17.07936507936508,
           2.642857142857143
          ],
          [
           "descriptor",
           "2000-10-17T00:00:00",
           2,
           1,
           1,
           0.5
          ],
          [
           "Bush",
           "2000-10-17T00:00:00",
           40,
           1262,
           166.65,
           31.55
          ],
          [
           "Gore",
           "2000-10-17T00:00:00",
           44,
           1361,
           145.61363636363637,
           30.931818181818183
          ],
          [
           "Moderator",
           "2000-10-17T00:00:00",
           67,
           426,
           20.70149253731343,
           6.358208955223881
          ],
          [
           "Schieffer",
           "2008-10-15T00:00:00",
           57,
           462,
           23.24561403508772,
           8.105263157894736
          ],
          [
           "Mccain",
           "2008-10-15T00:00:00",
           63,
           1300,
           99.0952380952381,
           20.634920634920636
          ],
          [
           "Transcription By",
           "2008-10-15T00:00:00",
           0,
           0,
           null,
           null
          ],
          [
           "Obama",
           "2008-10-15T00:00:00",
           51,
           1406,
           140.50980392156862,
           27.568627450980394
          ],
          [
           "descriptor",
           "2008-10-15T00:00:00",
           2,
           2,
           1,
           1
          ],
          [
           "Kondracke",
           "1984-10-21T00:00:00",
           9,
           283,
           59.55555555555556,
           31.444444444444443
          ],
          [
           "Ridings",
           "1984-10-21T00:00:00",
           1,
           79,
           105,
           79
          ],
          [
           "Mondale",
           "1984-10-21T00:00:00",
           25,
           1198,
           205.12,
           47.92
          ],
          [
           "Geyer",
           "1984-10-21T00:00:00",
           8,
           321,
           88.375,
           40.125
          ],
          [
           "descriptor",
           "1984-10-21T00:00:00",
           1,
           36,
           48,
           36
          ],
          [
           "Kalb",
           "1984-10-21T00:00:00",
           8,
           243,
           66.25,
           30.375
          ],
          [
           "Audience Member",
           "1984-10-21T00:00:00",
           0,
           0,
           null,
           null
          ],
          [
           "Newman",
           "1984-10-21T00:00:00",
           32,
           144,
           12.90625,
           4.5
          ],
          [
           "The President",
           "1984-10-21T00:00:00",
           0,
           0,
           null,
           null
          ],
          [
           "Kerry",
           "2004-10-13T00:00:00",
           31,
           1371,
           231.8709677419355,
           44.225806451612904
          ],
          [
           "Bush",
           "2004-10-13T00:00:00",
           29,
           1264,
           196.20689655172413,
           43.58620689655172
          ],
          [
           "Affirmative Action",
           "2004-10-13T00:00:00",
           0,
           0,
           null,
           null
          ],
          [
           "Schieffer",
           "2004-10-13T00:00:00",
           57,
           526,
           29.105263157894736,
           9.228070175438596
          ],
          [
           "descriptor",
           "2004-10-13T00:00:00",
           5,
           2,
           1,
           0.4
          ],
          [
           "Result",
           "2004-10-13T00:00:00",
           1,
           66,
           81,
           66
          ],
          [
           "Kite",
           "1996-10-16T00:00:00",
           2,
           50,
           33.5,
           25
          ],
          [
           "Transcribed By",
           "1996-10-16T00:00:00",
           0,
           0,
           null,
           null
          ],
          [
           "Clinton",
           "1996-10-16T00:00:00",
           36,
           1365,
           205.11111111111111,
           37.916666666666664
          ],
          [
           "Oconnor",
           "1996-10-16T00:00:00",
           1,
           89,
           140,
           89
          ],
          [
           "Dube",
           "1996-10-16T00:00:00",
           1,
           69,
           110,
           69
          ],
          [
           "Siefert",
           "1996-10-16T00:00:00",
           3,
           46,
           19.666666666666668,
           15.333333333333334
          ],
          [
           "Lehrer",
           "1996-10-16T00:00:00",
           33,
           223,
           20.606060606060606,
           6.757575757575758
          ],
          [
           "Burns",
           "1996-10-16T00:00:00",
           1,
           26,
           28,
           26
          ],
          [
           "Goldfarb",
           "1996-10-16T00:00:00",
           1,
           34,
           40,
           34
          ],
          [
           "Strategos",
           "1996-10-16T00:00:00",
           2,
           82,
           68,
           41
          ],
          [
           "Johnson",
           "1996-10-16T00:00:00",
           1,
           29,
           31,
           29
          ],
          [
           "Giannotti",
           "1996-10-16T00:00:00",
           1,
           48,
           61,
           48
          ],
          [
           "Mcafee",
           "1996-10-16T00:00:00",
           2,
           112,
           97.5,
           56
          ],
          [
           "Fleck",
           "1996-10-16T00:00:00",
           1,
           70,
           89,
           70
          ],
          [
           "Smith",
           "1996-10-16T00:00:00",
           1,
           23,
           26,
           23
          ],
          [
           "Milligan",
           "1996-10-16T00:00:00",
           3,
           36,
           14.666666666666666,
           12
          ],
          [
           "Sanders",
           "1996-10-16T00:00:00",
           1,
           24,
           29,
           24
          ],
          [
           "Naudin",
           "1996-10-16T00:00:00",
           1,
           46,
           57,
           46
          ],
          [
           "Gonzalez",
           "1996-10-16T00:00:00",
           1,
           23,
           25,
           23
          ],
          [
           "David",
           "1996-10-16T00:00:00",
           2,
           19,
           10,
           9.5
          ],
          [
           "Kelly",
           "1996-10-16T00:00:00",
           1,
           36,
           44,
           36
          ],
          [
           "Delgado",
           "1996-10-16T00:00:00",
           2,
           40,
           28,
           20
          ],
          [
           "Dole",
           "1996-10-16T00:00:00",
           41,
           1304,
           172.46341463414635,
           31.804878048780488
          ],
          [
           "Cater",
           "1960-10-13T00:00:00",
           3,
           154,
           92,
           51.333333333333336
          ],
          [
           "Nixon",
           "1960-10-13T00:00:00",
           14,
           934,
           331.57142857142856,
           66.71428571428571
          ],
          [
           "Drummond",
           "1960-10-13T00:00:00",
           4,
           186,
           86.5,
           46.5
          ],
          [
           "Shadel",
           "1960-10-13T00:00:00",
           29,
           287,
           28.586206896551722,
           9.89655172413793
          ],
          [
           "Kennedy",
           "1960-10-13T00:00:00",
           14,
           967,
           287,
           69.07142857142857
          ],
          [
           "Mcgee",
           "1960-10-13T00:00:00",
           3,
           132,
           72.33333333333333,
           44
          ],
          [
           "Von Fremd",
           "1960-10-13T00:00:00",
           0,
           0,
           null,
           null
          ],
          [
           "Bush",
           "1992-10-19T00:00:00",
           42,
           987,
           111.83333333333333,
           23.5
          ],
          [
           "Clinton",
           "1992-10-19T00:00:00",
           27,
           1061,
           182.74074074074073,
           39.2962962962963
          ],
          [
           "Rook",
           "1992-10-19T00:00:00",
           4,
           76,
           32.25,
           19
          ],
          [
           "Gibbons",
           "1992-10-19T00:00:00",
           2,
           67,
           46,
           33.5
          ],
          [
           "Perot",
           "1992-10-19T00:00:00",
           41,
           1153,
           126.41463414634147,
           28.121951219512194
          ],
          [
           "descriptor",
           "1992-10-19T00:00:00",
           44,
           2,
           1,
           0.045454545454545456
          ],
          [
           "Thomas",
           "1992-10-19T00:00:00",
           2,
           70,
           56,
           35
          ],
          [
           "Lehrer",
           "1992-10-19T00:00:00",
           88,
           445,
           19.545454545454547,
           5.056818181818182
          ],
          [
           "descriptor",
           "2000-10-11T00:00:00",
           1,
           1,
           1,
           1
          ],
          [
           "Bush",
           "2000-10-11T00:00:00",
           72,
           1406,
           105.88888888888889,
           19.52777777777778
          ],
          [
           "Gore",
           "2000-10-11T00:00:00",
           52,
           1310,
           121.92307692307692,
           25.192307692307693
          ],
          [
           "Moderator",
           "2000-10-11T00:00:00",
           107,
           576,
           17.85981308411215,
           5.383177570093458
          ],
          [
           "Dole",
           "1996-10-06T00:00:00",
           46,
           1426,
           175.58695652173913,
           31
          ],
          [
           "Clinton",
           "1996-10-06T00:00:00",
           44,
           1368,
           167.61363636363637,
           31.09090909090909
          ],
          [
           "Transcription By",
           "1996-10-06T00:00:00",
           0,
           0,
           null,
           null
          ],
          [
           "Lehrer",
           "1996-10-06T00:00:00",
           53,
           438,
           22.88679245283019,
           8.264150943396226
          ],
          [
           "Bush",
           "1992-10-15T00:00:00",
           7,
           614,
           272.2857142857143,
           87.71428571428571
          ],
          [
           "Clinton",
           "1992-10-15T00:00:00",
           8,
           657,
           241.875,
           82.125
          ],
          [
           "Perot",
           "1992-10-15T00:00:00",
           7,
           563,
           241.14285714285714,
           80.42857142857143
          ],
          [
           "Compton",
           "1992-10-15T00:00:00",
           2,
           42,
           27,
           21
          ],
          [
           "descriptor",
           "1992-10-15T00:00:00",
           20,
           2,
           1,
           0.1
          ],
          [
           "Mashek",
           "1992-10-15T00:00:00",
           2,
           63,
           36,
           31.5
          ],
          [
           "Lehrer",
           "1992-10-15T00:00:00",
           22,
           108,
           13.454545454545455,
           4.909090909090909
          ],
          [
           "Vanocur",
           "1992-10-15T00:00:00",
           3,
           101,
           47.333333333333336,
           33.666666666666664
          ],
          [
           "Gore",
           "1992-10-13T00:00:00",
           110,
           1110,
           43.91818181818182,
           10.090909090909092
          ],
          [
           "descriptor",
           "1992-10-13T00:00:00",
           35,
           2,
           1,
           0.05714285714285714
          ],
          [
           "Quayle",
           "1992-10-13T00:00:00",
           111,
           962,
           44.45945945945946,
           8.666666666666666
          ],
          [
           "Stockdale",
           "1992-10-13T00:00:00",
           22,
           680,
           99.77272727272727,
           30.90909090909091
          ],
          [
           "Bruno",
           "1992-10-13T00:00:00",
           85,
           517,
           21.423529411764704,
           6.08235294117647
          ],
          [
           "Singiser",
           "1960-10-21T00:00:00",
           1,
           52,
           76,
           52
          ],
          [
           "Nixon",
           "1960-10-21T00:00:00",
           10,
           948,
           461.7,
           94.8
          ],
          [
           "Howe",
           "1960-10-21T00:00:00",
           21,
           220,
           30.19047619047619,
           10.476190476190476
          ],
          [
           "Edwards",
           "1960-10-21T00:00:00",
           2,
           90,
           67.5,
           45
          ],
          [
           "Chancellor",
           "1960-10-21T00:00:00",
           2,
           97,
           83,
           48.5
          ],
          [
           "Cronkite",
           "1960-10-21T00:00:00",
           2,
           87,
           72,
           43.5
          ],
          [
           "Kennedy",
           "1960-10-21T00:00:00",
           11,
           986,
           443.45454545454544,
           89.63636363636364
          ],
          [
           "Obama",
           "2012-10-03T00:00:00",
           55,
           1254,
           123.76363636363637,
           22.8
          ],
          [
           "Speakers",
           "2012-10-03T00:00:00",
           1,
           5,
           5,
           5
          ],
          [
           "Romney",
           "2012-10-03T00:00:00",
           71,
           1226,
           105.64788732394366,
           17.267605633802816
          ],
          [
           "descriptor",
           "2012-10-03T00:00:00",
           29,
           3,
           1,
           0.10344827586206896
          ],
          [
           "Lehrer",
           "2012-10-03T00:00:00",
           80,
           470,
           20.625,
           5.875
          ],
          [
           "Dukakis",
           "1988-10-13T00:00:00",
           42,
           1291,
           164.26190476190476,
           30.738095238095237
          ],
          [
           "Bush",
           "1988-10-13T00:00:00",
           42,
           1268,
           140.35714285714286,
           30.19047619047619
          ],
          [
           "Warner",
           "1988-10-13T00:00:00",
           12,
           289,
           51.083333333333336,
           24.083333333333332
          ],
          [
           "Shaw",
           "1988-10-13T00:00:00",
           58,
           194,
           11.344827586206897,
           3.3448275862068964
          ],
          [
           "Mitchell",
           "1988-10-13T00:00:00",
           9,
           306,
           73.44444444444444,
           34
          ],
          [
           "Compton",
           "1988-10-13T00:00:00",
           10,
           305,
           60.1,
           30.5
          ],
          [
           "Bush",
           "1992-10-15T00:00:00",
           28,
           616,
           73.03571428571429,
           22
          ],
          [
           "Clinton",
           "1992-10-15T00:00:00",
           12,
           676,
           198.25,
           56.333333333333336
          ],
          [
           "Audience Question",
           "1992-10-15T00:00:00",
           0,
           0,
           null,
           null
          ],
          [
           "Perot",
           "1992-10-15T00:00:00",
           28,
           709,
           83.75,
           25.321428571428573
          ],
          [
           "descriptor",
           "1992-10-15T00:00:00",
           2,
           1,
           1,
           0.5
          ],
          [
           "Simpson",
           "1992-10-15T00:00:00",
           52,
           212,
           10.192307692307692,
           4.076923076923077
          ],
          [
           "Audience Member",
           "1992-10-15T00:00:00",
           0,
           0,
           null,
           null
          ],
          [
           "Kerry",
           "2004-10-08T00:00:00",
           37,
           1449,
           196,
           39.16216216216216
          ],
          [
           "Laurent",
           "2004-10-08T00:00:00",
           1,
           35,
           38,
           35
          ],
          [
           "Jacobs",
           "2004-10-08T00:00:00",
           1,
           24,
           26,
           24
          ],
          [
           "Gibson",
           "2004-10-08T00:00:00",
           69,
           382,
           19.3768115942029,
           5.536231884057971
          ],
          [
           "Michaelson",
           "2004-10-08T00:00:00",
           1,
           24,
           27,
           24
          ],
          [
           "Hubb",
           "2004-10-08T00:00:00",
           1,
           27,
           27,
           27
          ],
          [
           "Baldi",
           "2004-10-08T00:00:00",
           1,
           16,
           17,
           16
          ],
          [
           "Washington",
           "2004-10-08T00:00:00",
           1,
           45,
           54,
           45
          ],
          [
           "Degenhart",
           "2004-10-08T00:00:00",
           1,
           33,
           39,
           33
          ],
          [
           "Bush",
           "2004-10-08T00:00:00",
           41,
           1330,
           161.6341463414634,
           32.4390243902439
          ],
          [
           "Long",
           "2004-10-08T00:00:00",
           1,
           25,
           34,
           25
          ],
          [
           "Grabel",
           "2004-10-08T00:00:00",
           1,
           36,
           44,
           36
          ],
          [
           "descriptor",
           "2004-10-08T00:00:00",
           12,
           3,
           1,
           0.25
          ],
          [
           "Otis",
           "2004-10-08T00:00:00",
           1,
           26,
           31,
           26
          ],
          [
           "Obrien",
           "2004-10-08T00:00:00",
           1,
           53,
           77,
           53
          ],
          [
           "Farley",
           "2004-10-08T00:00:00",
           1,
           21,
           22,
           21
          ],
          [
           "Barrow",
           "2004-10-08T00:00:00",
           1,
           29,
           34,
           29
          ],
          [
           "Fowler",
           "2004-10-08T00:00:00",
           1,
           27,
           29,
           27
          ],
          [
           "Varner",
           "2004-10-08T00:00:00",
           1,
           2,
           2,
           2
          ],
          [
           "Horstman",
           "2004-10-08T00:00:00",
           1,
           25,
           27,
           25
          ],
          [
           "Dahle",
           "2004-10-08T00:00:00",
           1,
           40,
           52,
           40
          ],
          [
           "Bronsing",
           "2004-10-08T00:00:00",
           1,
           23,
           25,
           23
          ],
          [
           "Cheney",
           "2004-10-05T00:00:00",
           41,
           1388,
           156.1951219512195,
           33.853658536585364
          ],
          [
           "A Reminder",
           "2004-10-05T00:00:00",
           0,
           0,
           null,
           null
          ],
          [
           "Edwards",
           "2004-10-05T00:00:00",
           45,
           1319,
           179.73333333333332,
           29.31111111111111
          ],
          [
           "Speakers",
           "2004-10-05T00:00:00",
           1,
           9,
           9,
           9
          ],
          [
           "descriptor",
           "2004-10-05T00:00:00",
           4,
           2,
           1,
           0.5
          ],
          [
           "Ifill",
           "2004-10-05T00:00:00",
           77,
           607,
           26.233766233766232,
           7.883116883116883
          ],
          [
           "The Rules",
           "2004-10-05T00:00:00",
           0,
           0,
           null,
           null
          ],
          [
           "descriptor",
           "2016-09-26T00:00:00",
           9,
           1,
           1,
           0.1111111111111111
          ],
          [
           "Holt",
           "2016-09-26T00:00:00",
           97,
           553,
           19.030927835051546,
           5.701030927835052
          ],
          [
           "Trump",
           "2016-09-26T00:00:00",
           124,
           1325,
           63.33870967741935,
           10.685483870967742
          ],
          [
           "Clinton",
           "2016-09-26T00:00:00",
           87,
           1359,
           69.14942528735632,
           15.620689655172415
          ],
          [
           "Schieffer",
           "2012-10-22T00:00:00",
           53,
           398,
           22.32075471698113,
           7.509433962264151
          ],
          [
           "Obama",
           "2012-10-22T00:00:00",
           65,
           1264,
           106.67692307692307,
           19.446153846153845
          ],
          [
           "Unidentified Male",
           "2012-10-22T00:00:00",
           0,
           0,
           null,
           null
          ],
          [
           "Speakers",
           "2012-10-22T00:00:00",
           1,
           55,
           66,
           55
          ],
          [
           "Romney",
           "2012-10-22T00:00:00",
           79,
           1339,
           100.58227848101266,
           16.949367088607595
          ],
          [
           "descriptor",
           "2012-10-22T00:00:00",
           50,
           3,
           1,
           0.06
          ],
          [
           "Romnehy",
           "2012-10-22T00:00:00",
           1,
           116,
           246,
           116
          ],
          [
           "Obam",
           "2012-10-22T00:00:00",
           1,
           3,
           3,
           3
          ],
          [
           "Reagan",
           "1980-09-21T00:00:00",
           15,
           967,
           252.4,
           64.46666666666667
          ],
          [
           "Loomis",
           "1980-09-21T00:00:00",
           1,
           218,
           453,
           218
          ],
          [
           "Quinn",
           "1980-09-21T00:00:00",
           1,
           47,
           55,
           47
          ],
          [
           "Golden",
           "1980-09-21T00:00:00",
           2,
           43,
           22.5,
           21.5
          ],
          [
           "Moyers",
           "1980-09-21T00:00:00",
           31,
           207,
           14.548387096774194,
           6.67741935483871
          ],
          [
           "Greenberg",
           "1980-09-21T00:00:00",
           1,
           36,
           43,
           36
          ],
          [
           "May",
           "1980-09-21T00:00:00",
           1,
           44,
           49,
           44
          ],
          [
           "Corddry",
           "1980-09-21T00:00:00",
           1,
           51,
           58,
           51
          ],
          [
           "Anderson",
           "1980-09-21T00:00:00",
           13,
           1023,
           284.38461538461536,
           78.6923076923077
          ],
          [
           "Bush",
           "1992-10-11T00:00:00",
           13,
           795,
           246.6153846153846,
           61.15384615384615
          ],
          [
           "Clinton",
           "1992-10-11T00:00:00",
           15,
           778,
           174.2,
           51.86666666666667
          ],
          [
           "Perot",
           "1992-10-11T00:00:00",
           14,
           753,
           202.21428571428572,
           53.785714285714285
          ],
          [
           "Compton",
           "1992-10-11T00:00:00",
           6,
           92,
           23.833333333333332,
           15.333333333333334
          ],
          [
           "descriptor",
           "1992-10-11T00:00:00",
           5,
           1,
           1,
           0.2
          ],
          [
           "Mashek",
           "1992-10-11T00:00:00",
           3,
           109,
           49.666666666666664,
           36.333333333333336
          ],
          [
           "Lehrer",
           "1992-10-11T00:00:00",
           38,
           178,
           16.605263157894736,
           4.684210526315789
          ],
          [
           "Vanocur",
           "1992-10-11T00:00:00",
           3,
           128,
           67,
           42.666666666666664
          ],
          [
           "Kerry",
           "2004-09-30T00:00:00",
           32,
           1213,
           207.375,
           37.90625
          ],
          [
           "Bush",
           "2004-09-30T00:00:00",
           41,
           1193,
           151.70731707317074,
           29.097560975609756
          ],
          [
           "Speakers",
           "2004-09-30T00:00:00",
           1,
           8,
           8,
           8
          ],
          [
           "descriptor",
           "2004-09-30T00:00:00",
           5,
           2,
           1,
           0.4
          ],
          [
           "Lehrer",
           "2004-09-30T00:00:00",
           67,
           474,
           22.432835820895523,
           7.074626865671642
          ],
          [
           "Wieghart",
           "1984-10-07T00:00:00",
           13,
           473,
           104.61538461538461,
           36.38461538461539
          ],
          [
           "The President",
           "1984-10-07T00:00:00",
           0,
           0,
           null,
           null
          ],
          [
           "Ridings",
           "1984-10-07T00:00:00",
           1,
           72,
           109,
           72
          ],
          [
           "Mondale",
           "1984-10-07T00:00:00",
           28,
           1098,
           181.42857142857142,
           39.214285714285715
          ],
          [
           "Sawyer",
           "1984-10-07T00:00:00",
           12,
           274,
           60.166666666666664,
           22.833333333333332
          ],
          [
           "descriptor",
           "1984-10-07T00:00:00",
           1,
           15,
           19,
           15
          ],
          [
           "Barnes",
           "1984-10-07T00:00:00",
           10,
           182,
           41.1,
           18.2
          ],
          [
           "Walters",
           "1984-10-07T00:00:00",
           38,
           336,
           29.18421052631579,
           8.842105263157896
          ],
          [
           "Kraft",
           "1976-10-22T00:00:00",
           9,
           400,
           112.66666666666667,
           44.44444444444444
          ],
          [
           "Ford",
           "1976-10-22T00:00:00",
           21,
           1101,
           227.61904761904762,
           52.42857142857143
          ],
          [
           "Walters",
           "1976-10-22T00:00:00",
           31,
           279,
           26.29032258064516,
           9
          ],
          [
           "Nelson",
           "1976-10-22T00:00:00",
           6,
           240,
           96.66666666666667,
           40
          ],
          [
           "Maynard",
           "1976-10-22T00:00:00",
           6,
           274,
           84.33333333333333,
           45.666666666666664
          ],
          [
           "Carter",
           "1976-10-22T00:00:00",
           17,
           1303,
           335.94117647058823,
           76.6470588235294
          ],
          [
           "Frederic",
           "1976-10-06T00:00:00",
           1,
           7,
           7,
           7
          ],
          [
           "Valeriani",
           "1976-10-06T00:00:00",
           6,
           166,
           57.833333333333336,
           27.666666666666668
          ],
          [
           "Ford",
           "1976-10-06T00:00:00",
           19,
           1014,
           248.94736842105263,
           53.36842105263158
          ],
          [
           "Trewhitt",
           "1976-10-06T00:00:00",
           7,
           283,
           84.42857142857143,
           40.42857142857143
          ],
          [
           "Frederick",
           "1976-10-06T00:00:00",
           30,
           228,
           21.7,
           7.6
          ],
          [
           "Frankel",
           "1976-10-06T00:00:00",
           8,
           383,
           108,
           47.875
          ],
          [
           "Carter",
           "1976-10-06T00:00:00",
           18,
           1221,
           316.72222222222223,
           67.83333333333333
          ],
          [
           "Raddatz",
           "2012-10-11T00:00:00",
           117,
           560,
           16.615384615384617,
           4.786324786324786
          ],
          [
           "Ryan",
           "2012-10-11T00:00:00",
           158,
           1404,
           42.06962025316456,
           8.886075949367088
          ],
          [
           "Speakers",
           "2012-10-11T00:00:00",
           1,
           157,
           269,
           157
          ],
          [
           "descriptor",
           "2012-10-11T00:00:00",
           56,
           3,
           1,
           0.05357142857142857
          ],
          [
           "Biden",
           "2012-10-11T00:00:00",
           143,
           1301,
           46.28671328671329,
           9.097902097902098
          ],
          [
           "Dukakis",
           "1988-09-25T00:00:00",
           40,
           1225,
           178.225,
           30.625
          ],
          [
           "Bush",
           "1988-09-25T00:00:00",
           42,
           1235,
           134.35714285714286,
           29.404761904761905
          ],
          [
           "Jennings",
           "1988-09-25T00:00:00",
           7,
           302,
           92.57142857142857,
           43.142857142857146
          ],
          [
           "descriptor",
           "1988-09-25T00:00:00",
           21,
           2,
           1,
           0.09523809523809523
          ],
          [
           "Mashek",
           "1988-09-25T00:00:00",
           9,
           252,
           52,
           28
          ],
          [
           "Lehrer",
           "1988-09-25T00:00:00",
           55,
           193,
           12.672727272727272,
           3.5090909090909093
          ],
          [
           "Groer",
           "1988-09-25T00:00:00",
           7,
           394,
           121.28571428571429,
           56.285714285714285
          ],
          [
           "Participants",
           "2020-10-07T00:00:00",
           1,
           5,
           5,
           5
          ],
          [
           "Harris",
           "2020-10-07T00:00:00",
           62,
           1131,
           85.90322580645162,
           18.241935483870968
          ],
          [
           "Pence",
           "2020-10-07T00:00:00",
           89,
           1341,
           72.03370786516854,
           15.067415730337078
          ],
          [
           "Moderator",
           "2020-10-07T00:00:00",
           1,
           4,
           4,
           4
          ],
          [
           "Page",
           "2020-10-07T00:00:00",
           93,
           789,
           34.31182795698925,
           8.483870967741936
          ],
          [
           "descriptor",
           "2016-10-04T00:00:00",
           7,
           1,
           1,
           0.14285714285714285
          ],
          [
           "Pence",
           "2016-10-04T00:00:00",
           207,
           1385,
           33.729468599033815,
           6.690821256038648
          ],
          [
           "Kaine",
           "2016-10-04T00:00:00",
           188,
           1464,
           40.212765957446805,
           7.787234042553192
          ],
          [
           "Quijano",
           "2016-10-04T00:00:00",
           105,
           579,
           17.257142857142856,
           5.514285714285714
          ],
          [
           "Cooper",
           "2016-10-09T00:00:00",
           76,
           363,
           14.776315789473685,
           4.776315789473684
          ],
          [
           "Question",
           "2016-10-09T00:00:00",
           8,
           164,
           34.25,
           20.5
          ],
          [
           "Raddatz",
           "2016-10-09T00:00:00",
           63,
           462,
           20.095238095238095,
           7.333333333333333
          ],
          [
           "Clinton",
           "2016-10-09T00:00:00",
           57,
           1256,
           102.57894736842105,
           22.035087719298247
          ],
          [
           "Trump",
           "2016-10-09T00:00:00",
           90,
           1201,
           76.82222222222222,
           13.344444444444445
          ],
          [
           "descriptor",
           "2016-10-09T00:00:00",
           1,
           1,
           1,
           1
          ],
          [
           "descriptor",
           "2000-10-03T00:00:00",
           2,
           1,
           1,
           0.5
          ],
          [
           "Bush",
           "2000-10-03T00:00:00",
           56,
           1365,
           132.76785714285714,
           24.375
          ],
          [
           "Gore",
           "2000-10-03T00:00:00",
           49,
           1376,
           146.75510204081633,
           28.081632653061224
          ],
          [
           "Moderator",
           "2000-10-03T00:00:00",
           61,
           510,
           27.508196721311474,
           8.360655737704919
          ],
          [
           "Bush",
           "1984-10-11T00:00:00",
           25,
           1214,
           218.08,
           48.56
          ],
          [
           "Ferraro",
           "1984-10-11T00:00:00",
           28,
           1253,
           210.07142857142858,
           44.75
          ],
          [
           "Quarles",
           "1984-10-11T00:00:00",
           9,
           200,
           43.44444444444444,
           22.22222222222222
          ],
          [
           "White",
           "1984-10-11T00:00:00",
           8,
           404,
           110.375,
           50.5
          ],
          [
           "Boyd",
           "1984-10-11T00:00:00",
           10,
           260,
           50.4,
           26
          ],
          [
           "Mashek",
           "1984-10-11T00:00:00",
           8,
           209,
           46.75,
           26.125
          ],
          [
           "Vanocur",
           "1984-10-11T00:00:00",
           30,
           187,
           16.2,
           6.233333333333333
          ],
          [
           "descriptor",
           "2016-10-19T00:00:00",
           2,
           1,
           1,
           0.5
          ],
          [
           "Wallace",
           "2016-10-19T00:00:00",
           124,
           719,
           21.701612903225808,
           5.798387096774194
          ],
          [
           "Clinton",
           "2016-10-19T00:00:00",
           82,
           1410,
           81.2439024390244,
           17.195121951219512
          ],
          [
           "Trump",
           "2016-10-19T00:00:00",
           128,
           1124,
           49.15625,
           8.78125
          ],
          [
           "Question",
           "2012-10-16T00:00:00",
           18,
           246,
           24.72222222222222,
           13.666666666666666
          ],
          [
           "Crowley",
           "2012-10-16T00:00:00",
           80,
           530,
           24.9375,
           6.625
          ],
          [
           "Obama",
           "2012-10-16T00:00:00",
           79,
           1301,
           90.68354430379746,
           16.468354430379748
          ],
          [
           "Speakers",
           "2012-10-16T00:00:00",
           1,
           37,
           42,
           37
          ],
          [
           "descriptor",
           "2012-10-16T00:00:00",
           22,
           2,
           1,
           0.09090909090909091
          ],
          [
           "Romney",
           "2012-10-16T00:00:00",
           87,
           1239,
           86.06896551724138,
           14.241379310344827
          ],
          [
           "descriptor",
           "1996-10-09T00:00:00",
           1,
           1,
           1,
           1
          ],
          [
           "Kemp",
           "1996-10-09T00:00:00",
           40,
           1415,
           172.25,
           35.375
          ],
          [
           "Lehrer",
           "1996-10-09T00:00:00",
           34,
           335,
           24.91176470588235,
           9.852941176470589
          ],
          [
           "Gore",
           "1996-10-09T00:00:00",
           38,
           1281,
           158.8421052631579,
           33.71052631578947
          ],
          [
           "Morgan",
           "1960-10-07T00:00:00",
           3,
           105,
           47.333333333333336,
           35
          ],
          [
           "Levy",
           "1960-10-07T00:00:00",
           4,
           393,
           281.5,
           98.25
          ],
          [
           "Kennedy",
           "1960-10-07T00:00:00",
           13,
           1003,
           338.6923076923077,
           77.15384615384616
          ],
          [
           "Nixon",
           "1960-10-07T00:00:00",
           12,
           945,
           361.3333333333333,
           78.75
          ],
          [
           "McGee",
           "1960-10-07T00:00:00",
           0,
           0,
           null,
           null
          ],
          [
           "Niven",
           "1960-10-07T00:00:00",
           3,
           93,
           58,
           31
          ],
          [
           "Mcgee",
           "1960-10-07T00:00:00",
           27,
           213,
           21.85185185185185,
           7.888888888888889
          ],
          [
           "Spivak",
           "1960-10-07T00:00:00",
           3,
           103,
           52.333333333333336,
           34.333333333333336
          ],
          [
           "Gannon",
           "1976-09-23T00:00:00",
           7,
           242,
           80.28571428571429,
           34.57142857142857
          ],
          [
           "Ford",
           "1976-09-23T00:00:00",
           18,
           987,
           278.3888888888889,
           54.833333333333336
          ],
          [
           "Drew",
           "1976-09-23T00:00:00",
           9,
           265,
           69.66666666666667,
           29.444444444444443
          ],
          [
           "Reynolds",
           "1976-09-23T00:00:00",
           8,
           310,
           82.875,
           38.75
          ],
          [
           "Newman",
           "1976-09-23T00:00:00",
           29,
           276,
           25.862068965517242,
           9.517241379310345
          ],
          [
           "Carter",
           "1976-09-23T00:00:00",
           23,
           1288,
           276.2173913043478,
           56
          ],
          [
           "descriptor",
           "2000-10-05T00:00:00",
           1,
           1,
           1,
           1
          ],
          [
           "Cheney",
           "2000-10-05T00:00:00",
           30,
           1446,
           222.1,
           48.2
          ],
          [
           "Lieberman",
           "2000-10-05T00:00:00",
           34,
           1462,
           196.61764705882354,
           43
          ],
          [
           "Moderator",
           "2000-10-05T00:00:00",
           43,
           426,
           23.325581395348838,
           9.906976744186046
          ],
          [
           "Question",
           "2008-10-07T00:00:00",
           8,
           163,
           31.125,
           20.375
          ],
          [
           "Mccain",
           "2008-10-07T00:00:00",
           40,
           1270,
           157.025,
           31.75
          ],
          [
           "Transcription By",
           "2008-10-07T00:00:00",
           0,
           0,
           null,
           null
          ],
          [
           "Obama",
           "2008-10-07T00:00:00",
           39,
           1344,
           180.66666666666666,
           34.46153846153846
          ],
          [
           "descriptor",
           "2008-10-07T00:00:00",
           7,
           2,
           1,
           0.2857142857142857
          ],
          [
           "Brokaw",
           "2008-10-07T00:00:00",
           58,
           533,
           29.362068965517242,
           9.189655172413794
          ]
         ],
         "hovertemplate": "total_word_count=%{x}<br>actor=%{customdata[0]}<br>date=%{customdata[1]}<br>speaking_turn_count=%{customdata[2]}<br>unique_word_count=%{customdata[3]}<br>avg_words_per_turn=%{customdata[4]}<br>avg_unique_words_per_turn=%{customdata[5]}<extra></extra>",
         "legendgroup": "",
         "marker": {
          "color": "#636efa"
         },
         "name": "",
         "notched": true,
         "offsetgroup": "",
         "showlegend": false,
         "type": "box",
         "x": [
          7,
          7394,
          4,
          4711,
          6529,
          14,
          369,
          4111,
          162,
          321,
          268,
          4693,
          571,
          835,
          5945,
          504,
          1078,
          5431,
          685,
          434,
          5972,
          500,
          581,
          362,
          5774,
          741,
          7,
          3340,
          7654,
          4,
          6979,
          4,
          1926,
          7600,
          6791,
          14204,
          0,
          14848,
          24,
          2152,
          2,
          6666,
          6407,
          1387,
          1325,
          6243,
          0,
          7166,
          2,
          536,
          105,
          5128,
          707,
          48,
          530,
          0,
          413,
          0,
          7188,
          5690,
          0,
          1659,
          5,
          81,
          67,
          0,
          7384,
          140,
          110,
          59,
          680,
          28,
          40,
          136,
          31,
          61,
          195,
          89,
          26,
          44,
          29,
          57,
          25,
          20,
          44,
          56,
          7071,
          276,
          4642,
          346,
          829,
          4018,
          217,
          0,
          4697,
          4934,
          129,
          92,
          5183,
          44,
          112,
          1720,
          1,
          7624,
          6340,
          1911,
          8077,
          7375,
          0,
          1213,
          1906,
          1935,
          1688,
          54,
          20,
          72,
          296,
          142,
          4831,
          35,
          4935,
          2195,
          1821,
          76,
          4617,
          634,
          135,
          166,
          144,
          4878,
          6807,
          5,
          7501,
          29,
          1650,
          6899,
          5895,
          613,
          658,
          661,
          601,
          2045,
          2379,
          0,
          2345,
          2,
          530,
          0,
          7252,
          38,
          26,
          1337,
          27,
          27,
          17,
          54,
          39,
          6627,
          34,
          44,
          12,
          31,
          77,
          22,
          34,
          29,
          2,
          27,
          52,
          25,
          6404,
          0,
          8088,
          9,
          4,
          2020,
          0,
          9,
          1846,
          7854,
          6016,
          1183,
          6934,
          0,
          66,
          7946,
          50,
          246,
          3,
          3786,
          453,
          55,
          45,
          451,
          43,
          49,
          58,
          3697,
          3206,
          2613,
          2831,
          143,
          5,
          149,
          631,
          201,
          6636,
          6220,
          8,
          5,
          1503,
          1360,
          0,
          109,
          5080,
          722,
          19,
          411,
          1109,
          1014,
          4780,
          815,
          580,
          506,
          5711,
          7,
          347,
          4730,
          591,
          651,
          864,
          5701,
          1944,
          6647,
          269,
          56,
          6619,
          7129,
          5643,
          648,
          21,
          468,
          697,
          849,
          5,
          5326,
          6411,
          4,
          3191,
          7,
          6982,
          7560,
          1812,
          1123,
          274,
          1266,
          5847,
          6914,
          1,
          2,
          7435,
          7191,
          1678,
          5452,
          5882,
          391,
          883,
          504,
          374,
          486,
          2,
          2691,
          6662,
          6292,
          445,
          1995,
          7164,
          42,
          22,
          7488,
          1,
          6890,
          847,
          6036,
          142,
          1126,
          4403,
          4336,
          0,
          174,
          590,
          157,
          562,
          5011,
          627,
          663,
          750,
          6353,
          1,
          6663,
          6685,
          1003,
          249,
          6281,
          0,
          7046,
          7,
          1703
         ],
         "xaxis": "x2",
         "yaxis": "y2"
        }
       ],
       "layout": {
        "barmode": "relative",
        "legend": {
         "tracegroupgap": 0
        },
        "margin": {
         "t": 60
        },
        "template": {
         "data": {
          "bar": [
           {
            "error_x": {
             "color": "#2a3f5f"
            },
            "error_y": {
             "color": "#2a3f5f"
            },
            "marker": {
             "line": {
              "color": "#E5ECF6",
              "width": 0.5
             },
             "pattern": {
              "fillmode": "overlay",
              "size": 10,
              "solidity": 0.2
             }
            },
            "type": "bar"
           }
          ],
          "barpolar": [
           {
            "marker": {
             "line": {
              "color": "#E5ECF6",
              "width": 0.5
             },
             "pattern": {
              "fillmode": "overlay",
              "size": 10,
              "solidity": 0.2
             }
            },
            "type": "barpolar"
           }
          ],
          "carpet": [
           {
            "aaxis": {
             "endlinecolor": "#2a3f5f",
             "gridcolor": "white",
             "linecolor": "white",
             "minorgridcolor": "white",
             "startlinecolor": "#2a3f5f"
            },
            "baxis": {
             "endlinecolor": "#2a3f5f",
             "gridcolor": "white",
             "linecolor": "white",
             "minorgridcolor": "white",
             "startlinecolor": "#2a3f5f"
            },
            "type": "carpet"
           }
          ],
          "choropleth": [
           {
            "colorbar": {
             "outlinewidth": 0,
             "ticks": ""
            },
            "type": "choropleth"
           }
          ],
          "contour": [
           {
            "colorbar": {
             "outlinewidth": 0,
             "ticks": ""
            },
            "colorscale": [
             [
              0,
              "#0d0887"
             ],
             [
              0.1111111111111111,
              "#46039f"
             ],
             [
              0.2222222222222222,
              "#7201a8"
             ],
             [
              0.3333333333333333,
              "#9c179e"
             ],
             [
              0.4444444444444444,
              "#bd3786"
             ],
             [
              0.5555555555555556,
              "#d8576b"
             ],
             [
              0.6666666666666666,
              "#ed7953"
             ],
             [
              0.7777777777777778,
              "#fb9f3a"
             ],
             [
              0.8888888888888888,
              "#fdca26"
             ],
             [
              1,
              "#f0f921"
             ]
            ],
            "type": "contour"
           }
          ],
          "contourcarpet": [
           {
            "colorbar": {
             "outlinewidth": 0,
             "ticks": ""
            },
            "type": "contourcarpet"
           }
          ],
          "heatmap": [
           {
            "colorbar": {
             "outlinewidth": 0,
             "ticks": ""
            },
            "colorscale": [
             [
              0,
              "#0d0887"
             ],
             [
              0.1111111111111111,
              "#46039f"
             ],
             [
              0.2222222222222222,
              "#7201a8"
             ],
             [
              0.3333333333333333,
              "#9c179e"
             ],
             [
              0.4444444444444444,
              "#bd3786"
             ],
             [
              0.5555555555555556,
              "#d8576b"
             ],
             [
              0.6666666666666666,
              "#ed7953"
             ],
             [
              0.7777777777777778,
              "#fb9f3a"
             ],
             [
              0.8888888888888888,
              "#fdca26"
             ],
             [
              1,
              "#f0f921"
             ]
            ],
            "type": "heatmap"
           }
          ],
          "heatmapgl": [
           {
            "colorbar": {
             "outlinewidth": 0,
             "ticks": ""
            },
            "colorscale": [
             [
              0,
              "#0d0887"
             ],
             [
              0.1111111111111111,
              "#46039f"
             ],
             [
              0.2222222222222222,
              "#7201a8"
             ],
             [
              0.3333333333333333,
              "#9c179e"
             ],
             [
              0.4444444444444444,
              "#bd3786"
             ],
             [
              0.5555555555555556,
              "#d8576b"
             ],
             [
              0.6666666666666666,
              "#ed7953"
             ],
             [
              0.7777777777777778,
              "#fb9f3a"
             ],
             [
              0.8888888888888888,
              "#fdca26"
             ],
             [
              1,
              "#f0f921"
             ]
            ],
            "type": "heatmapgl"
           }
          ],
          "histogram": [
           {
            "marker": {
             "pattern": {
              "fillmode": "overlay",
              "size": 10,
              "solidity": 0.2
             }
            },
            "type": "histogram"
           }
          ],
          "histogram2d": [
           {
            "colorbar": {
             "outlinewidth": 0,
             "ticks": ""
            },
            "colorscale": [
             [
              0,
              "#0d0887"
             ],
             [
              0.1111111111111111,
              "#46039f"
             ],
             [
              0.2222222222222222,
              "#7201a8"
             ],
             [
              0.3333333333333333,
              "#9c179e"
             ],
             [
              0.4444444444444444,
              "#bd3786"
             ],
             [
              0.5555555555555556,
              "#d8576b"
             ],
             [
              0.6666666666666666,
              "#ed7953"
             ],
             [
              0.7777777777777778,
              "#fb9f3a"
             ],
             [
              0.8888888888888888,
              "#fdca26"
             ],
             [
              1,
              "#f0f921"
             ]
            ],
            "type": "histogram2d"
           }
          ],
          "histogram2dcontour": [
           {
            "colorbar": {
             "outlinewidth": 0,
             "ticks": ""
            },
            "colorscale": [
             [
              0,
              "#0d0887"
             ],
             [
              0.1111111111111111,
              "#46039f"
             ],
             [
              0.2222222222222222,
              "#7201a8"
             ],
             [
              0.3333333333333333,
              "#9c179e"
             ],
             [
              0.4444444444444444,
              "#bd3786"
             ],
             [
              0.5555555555555556,
              "#d8576b"
             ],
             [
              0.6666666666666666,
              "#ed7953"
             ],
             [
              0.7777777777777778,
              "#fb9f3a"
             ],
             [
              0.8888888888888888,
              "#fdca26"
             ],
             [
              1,
              "#f0f921"
             ]
            ],
            "type": "histogram2dcontour"
           }
          ],
          "mesh3d": [
           {
            "colorbar": {
             "outlinewidth": 0,
             "ticks": ""
            },
            "type": "mesh3d"
           }
          ],
          "parcoords": [
           {
            "line": {
             "colorbar": {
              "outlinewidth": 0,
              "ticks": ""
             }
            },
            "type": "parcoords"
           }
          ],
          "pie": [
           {
            "automargin": true,
            "type": "pie"
           }
          ],
          "scatter": [
           {
            "fillpattern": {
             "fillmode": "overlay",
             "size": 10,
             "solidity": 0.2
            },
            "type": "scatter"
           }
          ],
          "scatter3d": [
           {
            "line": {
             "colorbar": {
              "outlinewidth": 0,
              "ticks": ""
             }
            },
            "marker": {
             "colorbar": {
              "outlinewidth": 0,
              "ticks": ""
             }
            },
            "type": "scatter3d"
           }
          ],
          "scattercarpet": [
           {
            "marker": {
             "colorbar": {
              "outlinewidth": 0,
              "ticks": ""
             }
            },
            "type": "scattercarpet"
           }
          ],
          "scattergeo": [
           {
            "marker": {
             "colorbar": {
              "outlinewidth": 0,
              "ticks": ""
             }
            },
            "type": "scattergeo"
           }
          ],
          "scattergl": [
           {
            "marker": {
             "colorbar": {
              "outlinewidth": 0,
              "ticks": ""
             }
            },
            "type": "scattergl"
           }
          ],
          "scattermapbox": [
           {
            "marker": {
             "colorbar": {
              "outlinewidth": 0,
              "ticks": ""
             }
            },
            "type": "scattermapbox"
           }
          ],
          "scatterpolar": [
           {
            "marker": {
             "colorbar": {
              "outlinewidth": 0,
              "ticks": ""
             }
            },
            "type": "scatterpolar"
           }
          ],
          "scatterpolargl": [
           {
            "marker": {
             "colorbar": {
              "outlinewidth": 0,
              "ticks": ""
             }
            },
            "type": "scatterpolargl"
           }
          ],
          "scatterternary": [
           {
            "marker": {
             "colorbar": {
              "outlinewidth": 0,
              "ticks": ""
             }
            },
            "type": "scatterternary"
           }
          ],
          "surface": [
           {
            "colorbar": {
             "outlinewidth": 0,
             "ticks": ""
            },
            "colorscale": [
             [
              0,
              "#0d0887"
             ],
             [
              0.1111111111111111,
              "#46039f"
             ],
             [
              0.2222222222222222,
              "#7201a8"
             ],
             [
              0.3333333333333333,
              "#9c179e"
             ],
             [
              0.4444444444444444,
              "#bd3786"
             ],
             [
              0.5555555555555556,
              "#d8576b"
             ],
             [
              0.6666666666666666,
              "#ed7953"
             ],
             [
              0.7777777777777778,
              "#fb9f3a"
             ],
             [
              0.8888888888888888,
              "#fdca26"
             ],
             [
              1,
              "#f0f921"
             ]
            ],
            "type": "surface"
           }
          ],
          "table": [
           {
            "cells": {
             "fill": {
              "color": "#EBF0F8"
             },
             "line": {
              "color": "white"
             }
            },
            "header": {
             "fill": {
              "color": "#C8D4E3"
             },
             "line": {
              "color": "white"
             }
            },
            "type": "table"
           }
          ]
         },
         "layout": {
          "annotationdefaults": {
           "arrowcolor": "#2a3f5f",
           "arrowhead": 0,
           "arrowwidth": 1
          },
          "autotypenumbers": "strict",
          "coloraxis": {
           "colorbar": {
            "outlinewidth": 0,
            "ticks": ""
           }
          },
          "colorscale": {
           "diverging": [
            [
             0,
             "#8e0152"
            ],
            [
             0.1,
             "#c51b7d"
            ],
            [
             0.2,
             "#de77ae"
            ],
            [
             0.3,
             "#f1b6da"
            ],
            [
             0.4,
             "#fde0ef"
            ],
            [
             0.5,
             "#f7f7f7"
            ],
            [
             0.6,
             "#e6f5d0"
            ],
            [
             0.7,
             "#b8e186"
            ],
            [
             0.8,
             "#7fbc41"
            ],
            [
             0.9,
             "#4d9221"
            ],
            [
             1,
             "#276419"
            ]
           ],
           "sequential": [
            [
             0,
             "#0d0887"
            ],
            [
             0.1111111111111111,
             "#46039f"
            ],
            [
             0.2222222222222222,
             "#7201a8"
            ],
            [
             0.3333333333333333,
             "#9c179e"
            ],
            [
             0.4444444444444444,
             "#bd3786"
            ],
            [
             0.5555555555555556,
             "#d8576b"
            ],
            [
             0.6666666666666666,
             "#ed7953"
            ],
            [
             0.7777777777777778,
             "#fb9f3a"
            ],
            [
             0.8888888888888888,
             "#fdca26"
            ],
            [
             1,
             "#f0f921"
            ]
           ],
           "sequentialminus": [
            [
             0,
             "#0d0887"
            ],
            [
             0.1111111111111111,
             "#46039f"
            ],
            [
             0.2222222222222222,
             "#7201a8"
            ],
            [
             0.3333333333333333,
             "#9c179e"
            ],
            [
             0.4444444444444444,
             "#bd3786"
            ],
            [
             0.5555555555555556,
             "#d8576b"
            ],
            [
             0.6666666666666666,
             "#ed7953"
            ],
            [
             0.7777777777777778,
             "#fb9f3a"
            ],
            [
             0.8888888888888888,
             "#fdca26"
            ],
            [
             1,
             "#f0f921"
            ]
           ]
          },
          "colorway": [
           "#636efa",
           "#EF553B",
           "#00cc96",
           "#ab63fa",
           "#FFA15A",
           "#19d3f3",
           "#FF6692",
           "#B6E880",
           "#FF97FF",
           "#FECB52"
          ],
          "font": {
           "color": "#2a3f5f"
          },
          "geo": {
           "bgcolor": "white",
           "lakecolor": "white",
           "landcolor": "#E5ECF6",
           "showlakes": true,
           "showland": true,
           "subunitcolor": "white"
          },
          "hoverlabel": {
           "align": "left"
          },
          "hovermode": "closest",
          "mapbox": {
           "style": "light"
          },
          "paper_bgcolor": "white",
          "plot_bgcolor": "#E5ECF6",
          "polar": {
           "angularaxis": {
            "gridcolor": "white",
            "linecolor": "white",
            "ticks": ""
           },
           "bgcolor": "#E5ECF6",
           "radialaxis": {
            "gridcolor": "white",
            "linecolor": "white",
            "ticks": ""
           }
          },
          "scene": {
           "xaxis": {
            "backgroundcolor": "#E5ECF6",
            "gridcolor": "white",
            "gridwidth": 2,
            "linecolor": "white",
            "showbackground": true,
            "ticks": "",
            "zerolinecolor": "white"
           },
           "yaxis": {
            "backgroundcolor": "#E5ECF6",
            "gridcolor": "white",
            "gridwidth": 2,
            "linecolor": "white",
            "showbackground": true,
            "ticks": "",
            "zerolinecolor": "white"
           },
           "zaxis": {
            "backgroundcolor": "#E5ECF6",
            "gridcolor": "white",
            "gridwidth": 2,
            "linecolor": "white",
            "showbackground": true,
            "ticks": "",
            "zerolinecolor": "white"
           }
          },
          "shapedefaults": {
           "line": {
            "color": "#2a3f5f"
           }
          },
          "ternary": {
           "aaxis": {
            "gridcolor": "white",
            "linecolor": "white",
            "ticks": ""
           },
           "baxis": {
            "gridcolor": "white",
            "linecolor": "white",
            "ticks": ""
           },
           "bgcolor": "#E5ECF6",
           "caxis": {
            "gridcolor": "white",
            "linecolor": "white",
            "ticks": ""
           }
          },
          "title": {
           "x": 0.05
          },
          "xaxis": {
           "automargin": true,
           "gridcolor": "white",
           "linecolor": "white",
           "ticks": "",
           "title": {
            "standoff": 15
           },
           "zerolinecolor": "white",
           "zerolinewidth": 2
          },
          "yaxis": {
           "automargin": true,
           "gridcolor": "white",
           "linecolor": "white",
           "ticks": "",
           "title": {
            "standoff": 15
           },
           "zerolinecolor": "white",
           "zerolinewidth": 2
          }
         }
        },
        "xaxis": {
         "anchor": "y",
         "domain": [
          0,
          1
         ],
         "title": {
          "text": "total_word_count"
         }
        },
        "xaxis2": {
         "anchor": "y2",
         "domain": [
          0,
          1
         ],
         "matches": "x",
         "showgrid": true,
         "showticklabels": false
        },
        "yaxis": {
         "anchor": "x",
         "domain": [
          0,
          0.8316
         ],
         "title": {
          "text": "count"
         }
        },
        "yaxis2": {
         "anchor": "x2",
         "domain": [
          0.8416,
          1
         ],
         "matches": "y2",
         "showgrid": false,
         "showline": false,
         "showticklabels": false,
         "ticks": ""
        }
       }
      }
     },
     "metadata": {},
     "output_type": "display_data"
    }
   ],
   "source": [
    "df = debate_dialogue_df\n",
    "\n",
    "fig = px.histogram(df, x=\"total_word_count\",\n",
    "                   marginal=\"box\", # or violin, rug\n",
    "                   hover_data=df.columns)\n",
    "fig.show()"
   ]
  },
  {
   "cell_type": "code",
   "execution_count": 400,
   "metadata": {},
   "outputs": [],
   "source": [
    "debates_wiki_df = pd.read_html(\"http://en.wikipedia.org/wiki/United_States_presidential_debates\")\n",
    "\n",
    "candidates_table = debates_wiki_df[2]\n",
    "viewership_table = debates_wiki_df[3]"
   ]
  },
  {
   "cell_type": "code",
   "execution_count": 401,
   "metadata": {},
   "outputs": [],
   "source": [
    "vp_candidates = pd.DataFrame()\n",
    "pres_candidates = pd.DataFrame()\n",
    "\n",
    "candidates_table = candidates_table.rename(columns={\"Election\":\"year\",\n",
    "                                \"Presidential debates\":\"pres_debate_count\",\n",
    "                                \"Presidential debates.1\":\"pres_candidate\",\n",
    "                                \"Vice presidential debates\":\"vp_debate_count\",\n",
    "                                \"Vice presidential debates.1\":\"vp_candidate\"})\n",
    "\n",
    "candidates_cleaned_df = candidates_table.drop(index=2)\n",
    "\n",
    "pres_candidates[['year', 'debate_count', 'candidate']] = candidates_table[['year', 'pres_debate_count','pres_candidate']]\n",
    "pres_candidates['type'] = 'P'\n",
    "vp_candidates[['year', 'debate_count', 'candidate']] = candidates_table[['year', 'vp_debate_count','vp_candidate']]\n",
    "vp_candidates['type'] = 'VP'"
   ]
  },
  {
   "cell_type": "code",
   "execution_count": 402,
   "metadata": {},
   "outputs": [],
   "source": [
    "candidates_df = pd.concat([pres_candidates, vp_candidates], ignore_index=True).sort_values(by='year').reset_index(drop=True)\n",
    "\n",
    "candidates_df.drop(index=[56,57], inplace=True)"
   ]
  },
  {
   "cell_type": "code",
   "execution_count": 403,
   "metadata": {},
   "outputs": [
    {
     "data": {
      "text/html": [
       "<div>\n",
       "<style scoped>\n",
       "    .dataframe tbody tr th:only-of-type {\n",
       "        vertical-align: middle;\n",
       "    }\n",
       "\n",
       "    .dataframe tbody tr th {\n",
       "        vertical-align: top;\n",
       "    }\n",
       "\n",
       "    .dataframe thead th {\n",
       "        text-align: right;\n",
       "    }\n",
       "</style>\n",
       "<table border=\"1\" class=\"dataframe\">\n",
       "  <thead>\n",
       "    <tr style=\"text-align: right;\">\n",
       "      <th></th>\n",
       "      <th>year</th>\n",
       "      <th>debate_count</th>\n",
       "      <th>candidate</th>\n",
       "      <th>type</th>\n",
       "    </tr>\n",
       "  </thead>\n",
       "  <tbody>\n",
       "    <tr>\n",
       "      <th>0</th>\n",
       "      <td>1960</td>\n",
       "      <td>4</td>\n",
       "      <td>Vice President Richard Nixon (R)</td>\n",
       "      <td>P</td>\n",
       "    </tr>\n",
       "    <tr>\n",
       "      <th>1</th>\n",
       "      <td>1960</td>\n",
       "      <td>4</td>\n",
       "      <td>Senator John F. Kennedy (D)</td>\n",
       "      <td>P</td>\n",
       "    </tr>\n",
       "    <tr>\n",
       "      <th>2</th>\n",
       "      <td>1960</td>\n",
       "      <td>0</td>\n",
       "      <td>No debates until 1976</td>\n",
       "      <td>VP</td>\n",
       "    </tr>\n",
       "    <tr>\n",
       "      <th>3</th>\n",
       "      <td>1960</td>\n",
       "      <td>0</td>\n",
       "      <td>No debates until 1976</td>\n",
       "      <td>VP</td>\n",
       "    </tr>\n",
       "    <tr>\n",
       "      <th>4</th>\n",
       "      <td>1976</td>\n",
       "      <td>3</td>\n",
       "      <td>President Gerald Ford (R)</td>\n",
       "      <td>P</td>\n",
       "    </tr>\n",
       "  </tbody>\n",
       "</table>\n",
       "</div>"
      ],
      "text/plain": [
       "   year debate_count                         candidate type\n",
       "0  1960            4  Vice President Richard Nixon (R)    P\n",
       "1  1960            4       Senator John F. Kennedy (D)    P\n",
       "2  1960            0             No debates until 1976   VP\n",
       "3  1960            0             No debates until 1976   VP\n",
       "4  1976            3         President Gerald Ford (R)    P"
      ]
     },
     "execution_count": 403,
     "metadata": {},
     "output_type": "execute_result"
    }
   ],
   "source": [
    "candidates_df[\"debate_count\"][candidates_df[\"year\"] == '2020'] = '2'\n",
    "\n",
    "candidates_df[\"debate_count\"][candidates_df[\"debate_count\"].str.contains('ebate', na=False)] = 0\n",
    "\n",
    "candidates_df.head() "
   ]
  },
  {
   "cell_type": "code",
   "execution_count": 404,
   "metadata": {},
   "outputs": [],
   "source": [
    "candidates_df[['debate_count', 'year']] = candidates_df[['debate_count', 'year']].astype(int)"
   ]
  },
  {
   "cell_type": "code",
   "execution_count": 405,
   "metadata": {},
   "outputs": [],
   "source": [
    "candidates_df = candidates_df[candidates_df[\"candidate\"].str.contains('ebate')==False]"
   ]
  },
  {
   "cell_type": "code",
   "execution_count": 406,
   "metadata": {},
   "outputs": [],
   "source": [
    "candidates_df[[\"candidate\", \"party\"]] = candidates_df[\"candidate\"].str.split(\"(\", expand=True)\n",
    "candidates_df[\"party\"] = candidates_df[\"party\"].str[0]\n"
   ]
  },
  {
   "cell_type": "code",
   "execution_count": 407,
   "metadata": {},
   "outputs": [],
   "source": [
    "candidates_df['last_name'] = candidates_df['candidate'].str.split().str[-1]"
   ]
  },
  {
   "cell_type": "code",
   "execution_count": 408,
   "metadata": {},
   "outputs": [],
   "source": [
    "won_election = [False, True, False, True, False, True, False, True, False, False,\n",
    "                 True, True, False, False, True, True, False, False, True, False,\n",
    "                 True, False, False, True, False, False, True, True, False, True,\n",
    "                 False, False, False, True, True, True, False, True, False, False,\n",
    "                 False, True, True, False, True, True, False, True, False, False,\n",
    "                 True]"
   ]
  },
  {
   "cell_type": "code",
   "execution_count": 409,
   "metadata": {},
   "outputs": [],
   "source": [
    "candidates_df = candidates_df.reset_index(drop=True)\n",
    "\n",
    "candidates_df.insert(6, 'won_election', won_election)"
   ]
  },
  {
   "cell_type": "code",
   "execution_count": 410,
   "metadata": {},
   "outputs": [
    {
     "data": {
      "text/html": [
       "<div>\n",
       "<style scoped>\n",
       "    .dataframe tbody tr th:only-of-type {\n",
       "        vertical-align: middle;\n",
       "    }\n",
       "\n",
       "    .dataframe tbody tr th {\n",
       "        vertical-align: top;\n",
       "    }\n",
       "\n",
       "    .dataframe thead th {\n",
       "        text-align: right;\n",
       "    }\n",
       "</style>\n",
       "<table border=\"1\" class=\"dataframe\">\n",
       "  <thead>\n",
       "    <tr style=\"text-align: right;\">\n",
       "      <th></th>\n",
       "      <th>year</th>\n",
       "      <th>debate_count</th>\n",
       "      <th>candidate</th>\n",
       "      <th>type</th>\n",
       "      <th>party</th>\n",
       "      <th>last_name</th>\n",
       "      <th>won_election</th>\n",
       "    </tr>\n",
       "  </thead>\n",
       "  <tbody>\n",
       "    <tr>\n",
       "      <th>0</th>\n",
       "      <td>1960</td>\n",
       "      <td>4</td>\n",
       "      <td>Vice President Richard Nixon</td>\n",
       "      <td>P</td>\n",
       "      <td>R</td>\n",
       "      <td>Nixon</td>\n",
       "      <td>False</td>\n",
       "    </tr>\n",
       "    <tr>\n",
       "      <th>1</th>\n",
       "      <td>1960</td>\n",
       "      <td>4</td>\n",
       "      <td>Senator John F. Kennedy</td>\n",
       "      <td>P</td>\n",
       "      <td>D</td>\n",
       "      <td>Kennedy</td>\n",
       "      <td>True</td>\n",
       "    </tr>\n",
       "    <tr>\n",
       "      <th>2</th>\n",
       "      <td>1976</td>\n",
       "      <td>3</td>\n",
       "      <td>President Gerald Ford</td>\n",
       "      <td>P</td>\n",
       "      <td>R</td>\n",
       "      <td>Ford</td>\n",
       "      <td>False</td>\n",
       "    </tr>\n",
       "    <tr>\n",
       "      <th>3</th>\n",
       "      <td>1976</td>\n",
       "      <td>3</td>\n",
       "      <td>Former Governor Jimmy Carter</td>\n",
       "      <td>P</td>\n",
       "      <td>D</td>\n",
       "      <td>Carter</td>\n",
       "      <td>True</td>\n",
       "    </tr>\n",
       "    <tr>\n",
       "      <th>4</th>\n",
       "      <td>1976</td>\n",
       "      <td>1</td>\n",
       "      <td>Senator Bob Dole</td>\n",
       "      <td>VP</td>\n",
       "      <td>R</td>\n",
       "      <td>Dole</td>\n",
       "      <td>False</td>\n",
       "    </tr>\n",
       "    <tr>\n",
       "      <th>5</th>\n",
       "      <td>1976</td>\n",
       "      <td>1</td>\n",
       "      <td>Senator Walter Mondale</td>\n",
       "      <td>VP</td>\n",
       "      <td>D</td>\n",
       "      <td>Mondale</td>\n",
       "      <td>True</td>\n",
       "    </tr>\n",
       "    <tr>\n",
       "      <th>6</th>\n",
       "      <td>1980</td>\n",
       "      <td>2</td>\n",
       "      <td>President Jimmy Carter</td>\n",
       "      <td>P</td>\n",
       "      <td>D</td>\n",
       "      <td>Carter</td>\n",
       "      <td>False</td>\n",
       "    </tr>\n",
       "    <tr>\n",
       "      <th>7</th>\n",
       "      <td>1980</td>\n",
       "      <td>2</td>\n",
       "      <td>Former Governor Ronald Reagan</td>\n",
       "      <td>P</td>\n",
       "      <td>R</td>\n",
       "      <td>Reagan</td>\n",
       "      <td>True</td>\n",
       "    </tr>\n",
       "    <tr>\n",
       "      <th>8</th>\n",
       "      <td>1980</td>\n",
       "      <td>2</td>\n",
       "      <td>Congressman John B. Anderson</td>\n",
       "      <td>P</td>\n",
       "      <td>I</td>\n",
       "      <td>Anderson</td>\n",
       "      <td>False</td>\n",
       "    </tr>\n",
       "    <tr>\n",
       "      <th>9</th>\n",
       "      <td>1984</td>\n",
       "      <td>2</td>\n",
       "      <td>Former Vice President Walter Mondale</td>\n",
       "      <td>P</td>\n",
       "      <td>D</td>\n",
       "      <td>Mondale</td>\n",
       "      <td>False</td>\n",
       "    </tr>\n",
       "    <tr>\n",
       "      <th>10</th>\n",
       "      <td>1984</td>\n",
       "      <td>1</td>\n",
       "      <td>Vice President George H. W. Bush</td>\n",
       "      <td>VP</td>\n",
       "      <td>R</td>\n",
       "      <td>Bush</td>\n",
       "      <td>True</td>\n",
       "    </tr>\n",
       "    <tr>\n",
       "      <th>11</th>\n",
       "      <td>1984</td>\n",
       "      <td>2</td>\n",
       "      <td>President Ronald Reagan</td>\n",
       "      <td>P</td>\n",
       "      <td>R</td>\n",
       "      <td>Reagan</td>\n",
       "      <td>True</td>\n",
       "    </tr>\n",
       "    <tr>\n",
       "      <th>12</th>\n",
       "      <td>1984</td>\n",
       "      <td>1</td>\n",
       "      <td>Congresswoman Geraldine Ferraro</td>\n",
       "      <td>VP</td>\n",
       "      <td>D</td>\n",
       "      <td>Ferraro</td>\n",
       "      <td>False</td>\n",
       "    </tr>\n",
       "    <tr>\n",
       "      <th>13</th>\n",
       "      <td>1988</td>\n",
       "      <td>1</td>\n",
       "      <td>Senator Lloyd Bentsen</td>\n",
       "      <td>VP</td>\n",
       "      <td>D</td>\n",
       "      <td>Bentsen</td>\n",
       "      <td>False</td>\n",
       "    </tr>\n",
       "    <tr>\n",
       "      <th>14</th>\n",
       "      <td>1988</td>\n",
       "      <td>1</td>\n",
       "      <td>Senator Dan Quayle</td>\n",
       "      <td>VP</td>\n",
       "      <td>R</td>\n",
       "      <td>Quayle</td>\n",
       "      <td>True</td>\n",
       "    </tr>\n",
       "    <tr>\n",
       "      <th>15</th>\n",
       "      <td>1988</td>\n",
       "      <td>2</td>\n",
       "      <td>Vice President George H. W. Bush</td>\n",
       "      <td>P</td>\n",
       "      <td>R</td>\n",
       "      <td>Bush</td>\n",
       "      <td>True</td>\n",
       "    </tr>\n",
       "    <tr>\n",
       "      <th>16</th>\n",
       "      <td>1988</td>\n",
       "      <td>2</td>\n",
       "      <td>Governor Michael Dukakis</td>\n",
       "      <td>P</td>\n",
       "      <td>D</td>\n",
       "      <td>Dukakis</td>\n",
       "      <td>False</td>\n",
       "    </tr>\n",
       "    <tr>\n",
       "      <th>17</th>\n",
       "      <td>1992</td>\n",
       "      <td>3</td>\n",
       "      <td>President George H. W. Bush</td>\n",
       "      <td>P</td>\n",
       "      <td>R</td>\n",
       "      <td>Bush</td>\n",
       "      <td>False</td>\n",
       "    </tr>\n",
       "    <tr>\n",
       "      <th>18</th>\n",
       "      <td>1992</td>\n",
       "      <td>3</td>\n",
       "      <td>Governor Bill Clinton</td>\n",
       "      <td>P</td>\n",
       "      <td>D</td>\n",
       "      <td>Clinton</td>\n",
       "      <td>True</td>\n",
       "    </tr>\n",
       "    <tr>\n",
       "      <th>19</th>\n",
       "      <td>1992</td>\n",
       "      <td>3</td>\n",
       "      <td>Businessman Ross Perot</td>\n",
       "      <td>P</td>\n",
       "      <td>I</td>\n",
       "      <td>Perot</td>\n",
       "      <td>False</td>\n",
       "    </tr>\n",
       "    <tr>\n",
       "      <th>20</th>\n",
       "      <td>1992</td>\n",
       "      <td>1</td>\n",
       "      <td>Senator Al Gore</td>\n",
       "      <td>VP</td>\n",
       "      <td>D</td>\n",
       "      <td>Gore</td>\n",
       "      <td>True</td>\n",
       "    </tr>\n",
       "    <tr>\n",
       "      <th>21</th>\n",
       "      <td>1992</td>\n",
       "      <td>1</td>\n",
       "      <td>Vice President Dan Quayle</td>\n",
       "      <td>VP</td>\n",
       "      <td>R</td>\n",
       "      <td>Quayle</td>\n",
       "      <td>False</td>\n",
       "    </tr>\n",
       "    <tr>\n",
       "      <th>22</th>\n",
       "      <td>1992</td>\n",
       "      <td>1</td>\n",
       "      <td>Ret. Vice Admiral James Stockdale</td>\n",
       "      <td>VP</td>\n",
       "      <td>I</td>\n",
       "      <td>Stockdale</td>\n",
       "      <td>False</td>\n",
       "    </tr>\n",
       "    <tr>\n",
       "      <th>23</th>\n",
       "      <td>1996</td>\n",
       "      <td>1</td>\n",
       "      <td>Vice President Al Gore</td>\n",
       "      <td>VP</td>\n",
       "      <td>D</td>\n",
       "      <td>Gore</td>\n",
       "      <td>True</td>\n",
       "    </tr>\n",
       "    <tr>\n",
       "      <th>24</th>\n",
       "      <td>1996</td>\n",
       "      <td>1</td>\n",
       "      <td>Former HUD Secretary Jack Kemp</td>\n",
       "      <td>VP</td>\n",
       "      <td>R</td>\n",
       "      <td>Kemp</td>\n",
       "      <td>False</td>\n",
       "    </tr>\n",
       "    <tr>\n",
       "      <th>25</th>\n",
       "      <td>1996</td>\n",
       "      <td>2</td>\n",
       "      <td>Former Senator Bob Dole</td>\n",
       "      <td>P</td>\n",
       "      <td>R</td>\n",
       "      <td>Dole</td>\n",
       "      <td>False</td>\n",
       "    </tr>\n",
       "    <tr>\n",
       "      <th>26</th>\n",
       "      <td>1996</td>\n",
       "      <td>2</td>\n",
       "      <td>President Bill Clinton</td>\n",
       "      <td>P</td>\n",
       "      <td>D</td>\n",
       "      <td>Clinton</td>\n",
       "      <td>True</td>\n",
       "    </tr>\n",
       "    <tr>\n",
       "      <th>27</th>\n",
       "      <td>2000</td>\n",
       "      <td>3</td>\n",
       "      <td>Governor George W. Bush</td>\n",
       "      <td>P</td>\n",
       "      <td>R</td>\n",
       "      <td>Bush</td>\n",
       "      <td>True</td>\n",
       "    </tr>\n",
       "    <tr>\n",
       "      <th>28</th>\n",
       "      <td>2000</td>\n",
       "      <td>1</td>\n",
       "      <td>Senator Joe Lieberman</td>\n",
       "      <td>VP</td>\n",
       "      <td>D</td>\n",
       "      <td>Lieberman</td>\n",
       "      <td>False</td>\n",
       "    </tr>\n",
       "    <tr>\n",
       "      <th>29</th>\n",
       "      <td>2000</td>\n",
       "      <td>1</td>\n",
       "      <td>Former Secretary of Defense Dick Cheney</td>\n",
       "      <td>VP</td>\n",
       "      <td>R</td>\n",
       "      <td>Cheney</td>\n",
       "      <td>True</td>\n",
       "    </tr>\n",
       "    <tr>\n",
       "      <th>30</th>\n",
       "      <td>2000</td>\n",
       "      <td>3</td>\n",
       "      <td>Vice President Al Gore</td>\n",
       "      <td>P</td>\n",
       "      <td>D</td>\n",
       "      <td>Gore</td>\n",
       "      <td>False</td>\n",
       "    </tr>\n",
       "    <tr>\n",
       "      <th>31</th>\n",
       "      <td>2004</td>\n",
       "      <td>1</td>\n",
       "      <td>Senator John Edwards</td>\n",
       "      <td>VP</td>\n",
       "      <td>D</td>\n",
       "      <td>Edwards</td>\n",
       "      <td>False</td>\n",
       "    </tr>\n",
       "    <tr>\n",
       "      <th>32</th>\n",
       "      <td>2004</td>\n",
       "      <td>3</td>\n",
       "      <td>Senator John Kerry</td>\n",
       "      <td>P</td>\n",
       "      <td>D</td>\n",
       "      <td>Kerry</td>\n",
       "      <td>False</td>\n",
       "    </tr>\n",
       "    <tr>\n",
       "      <th>33</th>\n",
       "      <td>2004</td>\n",
       "      <td>1</td>\n",
       "      <td>Vice President Dick Cheney</td>\n",
       "      <td>VP</td>\n",
       "      <td>R</td>\n",
       "      <td>Cheney</td>\n",
       "      <td>True</td>\n",
       "    </tr>\n",
       "    <tr>\n",
       "      <th>34</th>\n",
       "      <td>2004</td>\n",
       "      <td>3</td>\n",
       "      <td>President George W. Bush</td>\n",
       "      <td>P</td>\n",
       "      <td>R</td>\n",
       "      <td>Bush</td>\n",
       "      <td>True</td>\n",
       "    </tr>\n",
       "    <tr>\n",
       "      <th>35</th>\n",
       "      <td>2008</td>\n",
       "      <td>1</td>\n",
       "      <td>Senator Joe Biden</td>\n",
       "      <td>VP</td>\n",
       "      <td>D</td>\n",
       "      <td>Biden</td>\n",
       "      <td>True</td>\n",
       "    </tr>\n",
       "    <tr>\n",
       "      <th>36</th>\n",
       "      <td>2008</td>\n",
       "      <td>1</td>\n",
       "      <td>Governor Sarah Palin</td>\n",
       "      <td>VP</td>\n",
       "      <td>R</td>\n",
       "      <td>Palin</td>\n",
       "      <td>False</td>\n",
       "    </tr>\n",
       "    <tr>\n",
       "      <th>37</th>\n",
       "      <td>2008</td>\n",
       "      <td>3</td>\n",
       "      <td>Senator Barack Obama</td>\n",
       "      <td>P</td>\n",
       "      <td>D</td>\n",
       "      <td>Obama</td>\n",
       "      <td>True</td>\n",
       "    </tr>\n",
       "    <tr>\n",
       "      <th>38</th>\n",
       "      <td>2008</td>\n",
       "      <td>3</td>\n",
       "      <td>Senator John McCain</td>\n",
       "      <td>P</td>\n",
       "      <td>R</td>\n",
       "      <td>McCain</td>\n",
       "      <td>False</td>\n",
       "    </tr>\n",
       "    <tr>\n",
       "      <th>39</th>\n",
       "      <td>2012</td>\n",
       "      <td>1</td>\n",
       "      <td>Congressman Paul Ryan</td>\n",
       "      <td>VP</td>\n",
       "      <td>R</td>\n",
       "      <td>Ryan</td>\n",
       "      <td>False</td>\n",
       "    </tr>\n",
       "    <tr>\n",
       "      <th>40</th>\n",
       "      <td>2012</td>\n",
       "      <td>3</td>\n",
       "      <td>Former Governor Mitt Romney</td>\n",
       "      <td>P</td>\n",
       "      <td>R</td>\n",
       "      <td>Romney</td>\n",
       "      <td>False</td>\n",
       "    </tr>\n",
       "    <tr>\n",
       "      <th>41</th>\n",
       "      <td>2012</td>\n",
       "      <td>3</td>\n",
       "      <td>President Barack Obama</td>\n",
       "      <td>P</td>\n",
       "      <td>D</td>\n",
       "      <td>Obama</td>\n",
       "      <td>True</td>\n",
       "    </tr>\n",
       "    <tr>\n",
       "      <th>42</th>\n",
       "      <td>2012</td>\n",
       "      <td>1</td>\n",
       "      <td>Vice President Joe Biden</td>\n",
       "      <td>VP</td>\n",
       "      <td>D</td>\n",
       "      <td>Biden</td>\n",
       "      <td>True</td>\n",
       "    </tr>\n",
       "    <tr>\n",
       "      <th>43</th>\n",
       "      <td>2016</td>\n",
       "      <td>1</td>\n",
       "      <td>Senator Tim Kaine</td>\n",
       "      <td>VP</td>\n",
       "      <td>D</td>\n",
       "      <td>Kaine</td>\n",
       "      <td>False</td>\n",
       "    </tr>\n",
       "    <tr>\n",
       "      <th>44</th>\n",
       "      <td>2016</td>\n",
       "      <td>3</td>\n",
       "      <td>Businessman Donald Trump</td>\n",
       "      <td>P</td>\n",
       "      <td>R</td>\n",
       "      <td>Trump</td>\n",
       "      <td>True</td>\n",
       "    </tr>\n",
       "    <tr>\n",
       "      <th>45</th>\n",
       "      <td>2016</td>\n",
       "      <td>1</td>\n",
       "      <td>Governor Mike Pence</td>\n",
       "      <td>VP</td>\n",
       "      <td>R</td>\n",
       "      <td>Pence</td>\n",
       "      <td>True</td>\n",
       "    </tr>\n",
       "    <tr>\n",
       "      <th>46</th>\n",
       "      <td>2016</td>\n",
       "      <td>3</td>\n",
       "      <td>Former Secretary of State Hillary Clinton</td>\n",
       "      <td>P</td>\n",
       "      <td>D</td>\n",
       "      <td>Clinton</td>\n",
       "      <td>False</td>\n",
       "    </tr>\n",
       "    <tr>\n",
       "      <th>47</th>\n",
       "      <td>2020</td>\n",
       "      <td>2</td>\n",
       "      <td>Former Vice President Joe Biden</td>\n",
       "      <td>P</td>\n",
       "      <td>D</td>\n",
       "      <td>Biden</td>\n",
       "      <td>True</td>\n",
       "    </tr>\n",
       "    <tr>\n",
       "      <th>48</th>\n",
       "      <td>2020</td>\n",
       "      <td>2</td>\n",
       "      <td>Vice President Mike Pence</td>\n",
       "      <td>VP</td>\n",
       "      <td>R</td>\n",
       "      <td>Pence</td>\n",
       "      <td>False</td>\n",
       "    </tr>\n",
       "    <tr>\n",
       "      <th>49</th>\n",
       "      <td>2020</td>\n",
       "      <td>2</td>\n",
       "      <td>President Donald Trump</td>\n",
       "      <td>P</td>\n",
       "      <td>R</td>\n",
       "      <td>Trump</td>\n",
       "      <td>False</td>\n",
       "    </tr>\n",
       "    <tr>\n",
       "      <th>50</th>\n",
       "      <td>2020</td>\n",
       "      <td>2</td>\n",
       "      <td>Senator Kamala Harris</td>\n",
       "      <td>VP</td>\n",
       "      <td>D</td>\n",
       "      <td>Harris</td>\n",
       "      <td>True</td>\n",
       "    </tr>\n",
       "  </tbody>\n",
       "</table>\n",
       "</div>"
      ],
      "text/plain": [
       "    year  debate_count                                   candidate type party  \\\n",
       "0   1960             4               Vice President Richard Nixon     P     R   \n",
       "1   1960             4                    Senator John F. Kennedy     P     D   \n",
       "2   1976             3                      President Gerald Ford     P     R   \n",
       "3   1976             3               Former Governor Jimmy Carter     P     D   \n",
       "4   1976             1                           Senator Bob Dole    VP     R   \n",
       "5   1976             1                     Senator Walter Mondale    VP     D   \n",
       "6   1980             2                     President Jimmy Carter     P     D   \n",
       "7   1980             2              Former Governor Ronald Reagan     P     R   \n",
       "8   1980             2               Congressman John B. Anderson     P     I   \n",
       "9   1984             2       Former Vice President Walter Mondale     P     D   \n",
       "10  1984             1           Vice President George H. W. Bush    VP     R   \n",
       "11  1984             2                    President Ronald Reagan     P     R   \n",
       "12  1984             1            Congresswoman Geraldine Ferraro    VP     D   \n",
       "13  1988             1                      Senator Lloyd Bentsen    VP     D   \n",
       "14  1988             1                         Senator Dan Quayle    VP     R   \n",
       "15  1988             2           Vice President George H. W. Bush     P     R   \n",
       "16  1988             2                   Governor Michael Dukakis     P     D   \n",
       "17  1992             3                President George H. W. Bush     P     R   \n",
       "18  1992             3                      Governor Bill Clinton     P     D   \n",
       "19  1992             3                     Businessman Ross Perot     P     I   \n",
       "20  1992             1                            Senator Al Gore    VP     D   \n",
       "21  1992             1                  Vice President Dan Quayle    VP     R   \n",
       "22  1992             1          Ret. Vice Admiral James Stockdale    VP     I   \n",
       "23  1996             1                     Vice President Al Gore    VP     D   \n",
       "24  1996             1             Former HUD Secretary Jack Kemp    VP     R   \n",
       "25  1996             2                    Former Senator Bob Dole     P     R   \n",
       "26  1996             2                     President Bill Clinton     P     D   \n",
       "27  2000             3                    Governor George W. Bush     P     R   \n",
       "28  2000             1                      Senator Joe Lieberman    VP     D   \n",
       "29  2000             1    Former Secretary of Defense Dick Cheney    VP     R   \n",
       "30  2000             3                     Vice President Al Gore     P     D   \n",
       "31  2004             1                       Senator John Edwards    VP     D   \n",
       "32  2004             3                         Senator John Kerry     P     D   \n",
       "33  2004             1                 Vice President Dick Cheney    VP     R   \n",
       "34  2004             3                   President George W. Bush     P     R   \n",
       "35  2008             1                          Senator Joe Biden    VP     D   \n",
       "36  2008             1                       Governor Sarah Palin    VP     R   \n",
       "37  2008             3                       Senator Barack Obama     P     D   \n",
       "38  2008             3                        Senator John McCain     P     R   \n",
       "39  2012             1                      Congressman Paul Ryan    VP     R   \n",
       "40  2012             3                Former Governor Mitt Romney     P     R   \n",
       "41  2012             3                     President Barack Obama     P     D   \n",
       "42  2012             1                   Vice President Joe Biden    VP     D   \n",
       "43  2016             1                          Senator Tim Kaine    VP     D   \n",
       "44  2016             3                   Businessman Donald Trump     P     R   \n",
       "45  2016             1                        Governor Mike Pence    VP     R   \n",
       "46  2016             3  Former Secretary of State Hillary Clinton     P     D   \n",
       "47  2020             2            Former Vice President Joe Biden     P     D   \n",
       "48  2020             2                  Vice President Mike Pence    VP     R   \n",
       "49  2020             2                     President Donald Trump     P     R   \n",
       "50  2020             2                      Senator Kamala Harris    VP     D   \n",
       "\n",
       "    last_name  won_election  \n",
       "0       Nixon         False  \n",
       "1     Kennedy          True  \n",
       "2        Ford         False  \n",
       "3      Carter          True  \n",
       "4        Dole         False  \n",
       "5     Mondale          True  \n",
       "6      Carter         False  \n",
       "7      Reagan          True  \n",
       "8    Anderson         False  \n",
       "9     Mondale         False  \n",
       "10       Bush          True  \n",
       "11     Reagan          True  \n",
       "12    Ferraro         False  \n",
       "13    Bentsen         False  \n",
       "14     Quayle          True  \n",
       "15       Bush          True  \n",
       "16    Dukakis         False  \n",
       "17       Bush         False  \n",
       "18    Clinton          True  \n",
       "19      Perot         False  \n",
       "20       Gore          True  \n",
       "21     Quayle         False  \n",
       "22  Stockdale         False  \n",
       "23       Gore          True  \n",
       "24       Kemp         False  \n",
       "25       Dole         False  \n",
       "26    Clinton          True  \n",
       "27       Bush          True  \n",
       "28  Lieberman         False  \n",
       "29     Cheney          True  \n",
       "30       Gore         False  \n",
       "31    Edwards         False  \n",
       "32      Kerry         False  \n",
       "33     Cheney          True  \n",
       "34       Bush          True  \n",
       "35      Biden          True  \n",
       "36      Palin         False  \n",
       "37      Obama          True  \n",
       "38     McCain         False  \n",
       "39       Ryan         False  \n",
       "40     Romney         False  \n",
       "41      Obama          True  \n",
       "42      Biden          True  \n",
       "43      Kaine         False  \n",
       "44      Trump          True  \n",
       "45      Pence          True  \n",
       "46    Clinton         False  \n",
       "47      Biden          True  \n",
       "48      Pence         False  \n",
       "49      Trump         False  \n",
       "50     Harris          True  "
      ]
     },
     "execution_count": 410,
     "metadata": {},
     "output_type": "execute_result"
    }
   ],
   "source": [
    "candidates_df"
   ]
  },
  {
   "cell_type": "code",
   "execution_count": 411,
   "metadata": {},
   "outputs": [
    {
     "data": {
      "text/html": [
       "<div>\n",
       "<style scoped>\n",
       "    .dataframe tbody tr th:only-of-type {\n",
       "        vertical-align: middle;\n",
       "    }\n",
       "\n",
       "    .dataframe tbody tr th {\n",
       "        vertical-align: top;\n",
       "    }\n",
       "\n",
       "    .dataframe thead th {\n",
       "        text-align: right;\n",
       "    }\n",
       "</style>\n",
       "<table border=\"1\" class=\"dataframe\">\n",
       "  <thead>\n",
       "    <tr style=\"text-align: right;\">\n",
       "      <th></th>\n",
       "      <th>actor</th>\n",
       "      <th>date</th>\n",
       "      <th>speaking_turn_count</th>\n",
       "      <th>total_word_count</th>\n",
       "      <th>unique_word_count</th>\n",
       "      <th>avg_words_per_turn</th>\n",
       "      <th>avg_unique_words_per_turn</th>\n",
       "      <th>year</th>\n",
       "    </tr>\n",
       "  </thead>\n",
       "  <tbody>\n",
       "    <tr>\n",
       "      <th>0</th>\n",
       "      <td>Participants</td>\n",
       "      <td>2020-09-29</td>\n",
       "      <td>1</td>\n",
       "      <td>7</td>\n",
       "      <td>7</td>\n",
       "      <td>7.000000</td>\n",
       "      <td>7.000000</td>\n",
       "      <td>2020</td>\n",
       "    </tr>\n",
       "    <tr>\n",
       "      <th>1</th>\n",
       "      <td>Trump</td>\n",
       "      <td>2020-09-29</td>\n",
       "      <td>341</td>\n",
       "      <td>7394</td>\n",
       "      <td>1155</td>\n",
       "      <td>21.683284</td>\n",
       "      <td>3.387097</td>\n",
       "      <td>2020</td>\n",
       "    </tr>\n",
       "    <tr>\n",
       "      <th>2</th>\n",
       "      <td>Moderator</td>\n",
       "      <td>2020-09-29</td>\n",
       "      <td>1</td>\n",
       "      <td>4</td>\n",
       "      <td>4</td>\n",
       "      <td>4.000000</td>\n",
       "      <td>4.000000</td>\n",
       "      <td>2020</td>\n",
       "    </tr>\n",
       "    <tr>\n",
       "      <th>3</th>\n",
       "      <td>Wallace</td>\n",
       "      <td>2020-09-29</td>\n",
       "      <td>246</td>\n",
       "      <td>4711</td>\n",
       "      <td>963</td>\n",
       "      <td>19.150407</td>\n",
       "      <td>3.914634</td>\n",
       "      <td>2020</td>\n",
       "    </tr>\n",
       "    <tr>\n",
       "      <th>4</th>\n",
       "      <td>Biden</td>\n",
       "      <td>2020-09-29</td>\n",
       "      <td>269</td>\n",
       "      <td>6529</td>\n",
       "      <td>1224</td>\n",
       "      <td>24.271375</td>\n",
       "      <td>4.550186</td>\n",
       "      <td>2020</td>\n",
       "    </tr>\n",
       "  </tbody>\n",
       "</table>\n",
       "</div>"
      ],
      "text/plain": [
       "          actor       date  speaking_turn_count  total_word_count  \\\n",
       "0  Participants 2020-09-29                    1                 7   \n",
       "1         Trump 2020-09-29                  341              7394   \n",
       "2     Moderator 2020-09-29                    1                 4   \n",
       "3       Wallace 2020-09-29                  246              4711   \n",
       "4         Biden 2020-09-29                  269              6529   \n",
       "\n",
       "   unique_word_count  avg_words_per_turn  avg_unique_words_per_turn  year  \n",
       "0                  7            7.000000                   7.000000  2020  \n",
       "1               1155           21.683284                   3.387097  2020  \n",
       "2                  4            4.000000                   4.000000  2020  \n",
       "3                963           19.150407                   3.914634  2020  \n",
       "4               1224           24.271375                   4.550186  2020  "
      ]
     },
     "execution_count": 411,
     "metadata": {},
     "output_type": "execute_result"
    }
   ],
   "source": [
    "debate_dialogue_df['year'] = pd.DatetimeIndex(debate_dialogue_df['date']).year\n",
    "\n",
    "debate_dialogue_df.head()"
   ]
  },
  {
   "cell_type": "code",
   "execution_count": 412,
   "metadata": {},
   "outputs": [
    {
     "data": {
      "text/html": [
       "<div>\n",
       "<style scoped>\n",
       "    .dataframe tbody tr th:only-of-type {\n",
       "        vertical-align: middle;\n",
       "    }\n",
       "\n",
       "    .dataframe tbody tr th {\n",
       "        vertical-align: top;\n",
       "    }\n",
       "\n",
       "    .dataframe thead th {\n",
       "        text-align: right;\n",
       "    }\n",
       "</style>\n",
       "<table border=\"1\" class=\"dataframe\">\n",
       "  <thead>\n",
       "    <tr style=\"text-align: right;\">\n",
       "      <th></th>\n",
       "      <th>year</th>\n",
       "      <th>debate_count</th>\n",
       "      <th>candidate</th>\n",
       "      <th>type</th>\n",
       "      <th>party</th>\n",
       "      <th>last_name</th>\n",
       "      <th>won_election</th>\n",
       "      <th>date</th>\n",
       "      <th>speaking_turn_count</th>\n",
       "      <th>total_word_count</th>\n",
       "      <th>unique_word_count</th>\n",
       "      <th>avg_words_per_turn</th>\n",
       "      <th>avg_unique_words_per_turn</th>\n",
       "    </tr>\n",
       "  </thead>\n",
       "  <tbody>\n",
       "    <tr>\n",
       "      <th>0</th>\n",
       "      <td>1960</td>\n",
       "      <td>4</td>\n",
       "      <td>Vice President Richard Nixon</td>\n",
       "      <td>P</td>\n",
       "      <td>R</td>\n",
       "      <td>Nixon</td>\n",
       "      <td>False</td>\n",
       "      <td>1960-09-26</td>\n",
       "      <td>10</td>\n",
       "      <td>4111</td>\n",
       "      <td>820</td>\n",
       "      <td>411.100000</td>\n",
       "      <td>82.000000</td>\n",
       "    </tr>\n",
       "    <tr>\n",
       "      <th>1</th>\n",
       "      <td>1960</td>\n",
       "      <td>4</td>\n",
       "      <td>Vice President Richard Nixon</td>\n",
       "      <td>P</td>\n",
       "      <td>R</td>\n",
       "      <td>Nixon</td>\n",
       "      <td>False</td>\n",
       "      <td>1960-10-13</td>\n",
       "      <td>14</td>\n",
       "      <td>4642</td>\n",
       "      <td>934</td>\n",
       "      <td>331.571429</td>\n",
       "      <td>66.714286</td>\n",
       "    </tr>\n",
       "    <tr>\n",
       "      <th>2</th>\n",
       "      <td>1960</td>\n",
       "      <td>4</td>\n",
       "      <td>Vice President Richard Nixon</td>\n",
       "      <td>P</td>\n",
       "      <td>R</td>\n",
       "      <td>Nixon</td>\n",
       "      <td>False</td>\n",
       "      <td>1960-10-21</td>\n",
       "      <td>10</td>\n",
       "      <td>4617</td>\n",
       "      <td>948</td>\n",
       "      <td>461.700000</td>\n",
       "      <td>94.800000</td>\n",
       "    </tr>\n",
       "    <tr>\n",
       "      <th>3</th>\n",
       "      <td>1960</td>\n",
       "      <td>4</td>\n",
       "      <td>Vice President Richard Nixon</td>\n",
       "      <td>P</td>\n",
       "      <td>R</td>\n",
       "      <td>Nixon</td>\n",
       "      <td>False</td>\n",
       "      <td>1960-10-07</td>\n",
       "      <td>12</td>\n",
       "      <td>4336</td>\n",
       "      <td>945</td>\n",
       "      <td>361.333333</td>\n",
       "      <td>78.750000</td>\n",
       "    </tr>\n",
       "    <tr>\n",
       "      <th>4</th>\n",
       "      <td>1960</td>\n",
       "      <td>4</td>\n",
       "      <td>Senator John F. Kennedy</td>\n",
       "      <td>P</td>\n",
       "      <td>D</td>\n",
       "      <td>Kennedy</td>\n",
       "      <td>True</td>\n",
       "      <td>1960-09-26</td>\n",
       "      <td>17</td>\n",
       "      <td>4693</td>\n",
       "      <td>953</td>\n",
       "      <td>276.058824</td>\n",
       "      <td>56.058824</td>\n",
       "    </tr>\n",
       "  </tbody>\n",
       "</table>\n",
       "</div>"
      ],
      "text/plain": [
       "   year  debate_count                      candidate type party last_name  \\\n",
       "0  1960             4  Vice President Richard Nixon     P     R     Nixon   \n",
       "1  1960             4  Vice President Richard Nixon     P     R     Nixon   \n",
       "2  1960             4  Vice President Richard Nixon     P     R     Nixon   \n",
       "3  1960             4  Vice President Richard Nixon     P     R     Nixon   \n",
       "4  1960             4       Senator John F. Kennedy     P     D   Kennedy   \n",
       "\n",
       "   won_election       date  speaking_turn_count  total_word_count  \\\n",
       "0         False 1960-09-26                   10              4111   \n",
       "1         False 1960-10-13                   14              4642   \n",
       "2         False 1960-10-21                   10              4617   \n",
       "3         False 1960-10-07                   12              4336   \n",
       "4          True 1960-09-26                   17              4693   \n",
       "\n",
       "   unique_word_count  avg_words_per_turn  avg_unique_words_per_turn  \n",
       "0                820          411.100000                  82.000000  \n",
       "1                934          331.571429                  66.714286  \n",
       "2                948          461.700000                  94.800000  \n",
       "3                945          361.333333                  78.750000  \n",
       "4                953          276.058824                  56.058824  "
      ]
     },
     "execution_count": 412,
     "metadata": {},
     "output_type": "execute_result"
    }
   ],
   "source": [
    "candidate_debates_df = pd.merge(candidates_df, debate_dialogue_df, left_on=['year', 'last_name'], right_on=['year', 'actor']).drop(columns='actor')\n",
    "\n",
    "candidate_debates_df.head()"
   ]
  },
  {
   "cell_type": "code",
   "execution_count": 413,
   "metadata": {},
   "outputs": [
    {
     "data": {
      "application/vnd.plotly.v1+json": {
       "config": {
        "plotlyServerURL": "https://plot.ly"
       },
       "data": [
        {
         "hovertemplate": "party=R<br>speaking_turn_count=%{x}<br>avg_words_per_turn=%{y}<br>total_word_count=%{marker.size}<extra></extra>",
         "legendgroup": "R",
         "marker": {
          "color": "#636efa",
          "size": [
           4111,
           4642,
           4617,
           4336,
           4780,
           4730,
           5011,
           5972,
           3786,
           5452,
           5431,
           5895,
           5643,
           4697,
           1906,
           2045,
           3206,
           4935,
           6890,
           7071,
           8077,
           6666,
           7624,
           7435,
           6663,
           6404,
           5690,
           6627,
           6220,
           7600,
           6647,
           7501,
           7946,
           7488,
           7854,
           6914,
           6292,
           6982,
           6411,
           7394,
           7654
          ],
          "sizemode": "area",
          "sizeref": 4.124444444444444,
          "symbol": "circle"
         },
         "mode": "markers",
         "name": "R",
         "orientation": "v",
         "showlegend": true,
         "type": "scatter",
         "x": [
          10,
          14,
          10,
          12,
          21,
          19,
          18,
          24,
          15,
          25,
          34,
          42,
          42,
          42,
          7,
          28,
          13,
          111,
          40,
          41,
          46,
          40,
          72,
          56,
          30,
          41,
          29,
          41,
          41,
          46,
          158,
          71,
          79,
          87,
          124,
          90,
          128,
          207,
          89,
          341,
          122
         ],
         "xaxis": "x",
         "y": [
          411.1,
          331.57142857142856,
          461.7,
          361.3333333333333,
          227.61904761904762,
          248.94736842105263,
          278.3888888888889,
          248.83333333333334,
          252.4,
          218.08,
          159.73529411764707,
          140.35714285714286,
          134.35714285714286,
          111.83333333333333,
          272.2857142857143,
          73.03571428571429,
          246.6153846153846,
          44.45945945945946,
          172.25,
          172.46341463414635,
          175.58695652173913,
          166.65,
          105.88888888888889,
          132.76785714285714,
          222.1,
          156.1951219512195,
          196.20689655172413,
          161.6341463414634,
          151.70731707317074,
          165.2173913043478,
          42.06962025316456,
          105.64788732394366,
          100.58227848101266,
          86.06896551724138,
          63.33870967741935,
          76.82222222222222,
          49.15625,
          33.729468599033815,
          72.03370786516854,
          21.683284457478006,
          62.73770491803279
         ],
         "yaxis": "y"
        },
        {
         "hovertemplate": "party=D<br>speaking_turn_count=%{x}<br>avg_words_per_turn=%{y}<br>total_word_count=%{marker.size}<extra></extra>",
         "legendgroup": "D",
         "marker": {
          "color": "#EF553B",
          "size": [
           4693,
           4018,
           4878,
           4403,
           5711,
           5701,
           6353,
           5774,
           5128,
           5080,
           5882,
           5945,
           6899,
           7129,
           4934,
           1935,
           2379,
           2613,
           4831,
           6036,
           7384,
           7375,
           6685,
           6407,
           6340,
           7191,
           8088,
           7188,
           7252,
           6636,
           6791,
           14848,
           7166,
           7046,
           6807,
           6934,
           7164,
           6619,
           7560,
           6016,
           5847,
           6662,
           6529,
           6979,
           5326
          ],
          "sizemode": "area",
          "sizeref": 4.124444444444444,
          "symbol": "circle"
         },
         "mode": "markers",
         "name": "D",
         "orientation": "v",
         "showlegend": true,
         "type": "scatter",
         "x": [
          17,
          14,
          11,
          13,
          17,
          18,
          23,
          26,
          25,
          28,
          28,
          32,
          42,
          40,
          27,
          8,
          12,
          15,
          110,
          38,
          36,
          44,
          34,
          44,
          52,
          49,
          45,
          31,
          37,
          32,
          41,
          126,
          51,
          39,
          55,
          65,
          79,
          143,
          188,
          87,
          57,
          82,
          269,
          84,
          62
         ],
         "xaxis": "x",
         "y": [
          276.05882352941177,
          287,
          443.45454545454544,
          338.6923076923077,
          335.94117647058823,
          316.72222222222223,
          276.2173913043478,
          222.07692307692307,
          205.12,
          181.42857142857142,
          210.07142857142858,
          185.78125,
          164.26190476190476,
          178.225,
          182.74074074074073,
          241.875,
          198.25,
          174.2,
          43.91818181818182,
          158.8421052631579,
          205.11111111111111,
          167.61363636363637,
          196.61764705882354,
          145.61363636363637,
          121.92307692307692,
          146.75510204081633,
          179.73333333333332,
          231.8709677419355,
          196,
          207.375,
          165.6341463414634,
          117.84126984126983,
          140.50980392156862,
          180.66666666666666,
          123.76363636363637,
          106.67692307692307,
          90.68354430379746,
          46.28671328671329,
          40.212765957446805,
          69.14942528735632,
          102.57894736842105,
          81.2439024390244,
          24.271375464684017,
          83.08333333333333,
          85.90322580645162
         ],
         "yaxis": "y"
        },
        {
         "hovertemplate": "party=I<br>speaking_turn_count=%{x}<br>avg_words_per_turn=%{y}<br>total_word_count=%{marker.size}<extra></extra>",
         "legendgroup": "I",
         "marker": {
          "color": "#00cc96",
          "size": [
           3697,
           5183,
           1688,
           2345,
           2831,
           2195
          ],
          "sizemode": "area",
          "sizeref": 4.124444444444444,
          "symbol": "circle"
         },
         "mode": "markers",
         "name": "I",
         "orientation": "v",
         "showlegend": true,
         "type": "scatter",
         "x": [
          13,
          41,
          7,
          28,
          14,
          22
         ],
         "xaxis": "x",
         "y": [
          284.38461538461536,
          126.41463414634147,
          241.14285714285714,
          83.75,
          202.21428571428572,
          99.77272727272727
         ],
         "yaxis": "y"
        }
       ],
       "layout": {
        "legend": {
         "itemsizing": "constant",
         "title": {
          "text": "party"
         },
         "tracegroupgap": 0
        },
        "margin": {
         "t": 60
        },
        "template": {
         "data": {
          "bar": [
           {
            "error_x": {
             "color": "#2a3f5f"
            },
            "error_y": {
             "color": "#2a3f5f"
            },
            "marker": {
             "line": {
              "color": "#E5ECF6",
              "width": 0.5
             },
             "pattern": {
              "fillmode": "overlay",
              "size": 10,
              "solidity": 0.2
             }
            },
            "type": "bar"
           }
          ],
          "barpolar": [
           {
            "marker": {
             "line": {
              "color": "#E5ECF6",
              "width": 0.5
             },
             "pattern": {
              "fillmode": "overlay",
              "size": 10,
              "solidity": 0.2
             }
            },
            "type": "barpolar"
           }
          ],
          "carpet": [
           {
            "aaxis": {
             "endlinecolor": "#2a3f5f",
             "gridcolor": "white",
             "linecolor": "white",
             "minorgridcolor": "white",
             "startlinecolor": "#2a3f5f"
            },
            "baxis": {
             "endlinecolor": "#2a3f5f",
             "gridcolor": "white",
             "linecolor": "white",
             "minorgridcolor": "white",
             "startlinecolor": "#2a3f5f"
            },
            "type": "carpet"
           }
          ],
          "choropleth": [
           {
            "colorbar": {
             "outlinewidth": 0,
             "ticks": ""
            },
            "type": "choropleth"
           }
          ],
          "contour": [
           {
            "colorbar": {
             "outlinewidth": 0,
             "ticks": ""
            },
            "colorscale": [
             [
              0,
              "#0d0887"
             ],
             [
              0.1111111111111111,
              "#46039f"
             ],
             [
              0.2222222222222222,
              "#7201a8"
             ],
             [
              0.3333333333333333,
              "#9c179e"
             ],
             [
              0.4444444444444444,
              "#bd3786"
             ],
             [
              0.5555555555555556,
              "#d8576b"
             ],
             [
              0.6666666666666666,
              "#ed7953"
             ],
             [
              0.7777777777777778,
              "#fb9f3a"
             ],
             [
              0.8888888888888888,
              "#fdca26"
             ],
             [
              1,
              "#f0f921"
             ]
            ],
            "type": "contour"
           }
          ],
          "contourcarpet": [
           {
            "colorbar": {
             "outlinewidth": 0,
             "ticks": ""
            },
            "type": "contourcarpet"
           }
          ],
          "heatmap": [
           {
            "colorbar": {
             "outlinewidth": 0,
             "ticks": ""
            },
            "colorscale": [
             [
              0,
              "#0d0887"
             ],
             [
              0.1111111111111111,
              "#46039f"
             ],
             [
              0.2222222222222222,
              "#7201a8"
             ],
             [
              0.3333333333333333,
              "#9c179e"
             ],
             [
              0.4444444444444444,
              "#bd3786"
             ],
             [
              0.5555555555555556,
              "#d8576b"
             ],
             [
              0.6666666666666666,
              "#ed7953"
             ],
             [
              0.7777777777777778,
              "#fb9f3a"
             ],
             [
              0.8888888888888888,
              "#fdca26"
             ],
             [
              1,
              "#f0f921"
             ]
            ],
            "type": "heatmap"
           }
          ],
          "heatmapgl": [
           {
            "colorbar": {
             "outlinewidth": 0,
             "ticks": ""
            },
            "colorscale": [
             [
              0,
              "#0d0887"
             ],
             [
              0.1111111111111111,
              "#46039f"
             ],
             [
              0.2222222222222222,
              "#7201a8"
             ],
             [
              0.3333333333333333,
              "#9c179e"
             ],
             [
              0.4444444444444444,
              "#bd3786"
             ],
             [
              0.5555555555555556,
              "#d8576b"
             ],
             [
              0.6666666666666666,
              "#ed7953"
             ],
             [
              0.7777777777777778,
              "#fb9f3a"
             ],
             [
              0.8888888888888888,
              "#fdca26"
             ],
             [
              1,
              "#f0f921"
             ]
            ],
            "type": "heatmapgl"
           }
          ],
          "histogram": [
           {
            "marker": {
             "pattern": {
              "fillmode": "overlay",
              "size": 10,
              "solidity": 0.2
             }
            },
            "type": "histogram"
           }
          ],
          "histogram2d": [
           {
            "colorbar": {
             "outlinewidth": 0,
             "ticks": ""
            },
            "colorscale": [
             [
              0,
              "#0d0887"
             ],
             [
              0.1111111111111111,
              "#46039f"
             ],
             [
              0.2222222222222222,
              "#7201a8"
             ],
             [
              0.3333333333333333,
              "#9c179e"
             ],
             [
              0.4444444444444444,
              "#bd3786"
             ],
             [
              0.5555555555555556,
              "#d8576b"
             ],
             [
              0.6666666666666666,
              "#ed7953"
             ],
             [
              0.7777777777777778,
              "#fb9f3a"
             ],
             [
              0.8888888888888888,
              "#fdca26"
             ],
             [
              1,
              "#f0f921"
             ]
            ],
            "type": "histogram2d"
           }
          ],
          "histogram2dcontour": [
           {
            "colorbar": {
             "outlinewidth": 0,
             "ticks": ""
            },
            "colorscale": [
             [
              0,
              "#0d0887"
             ],
             [
              0.1111111111111111,
              "#46039f"
             ],
             [
              0.2222222222222222,
              "#7201a8"
             ],
             [
              0.3333333333333333,
              "#9c179e"
             ],
             [
              0.4444444444444444,
              "#bd3786"
             ],
             [
              0.5555555555555556,
              "#d8576b"
             ],
             [
              0.6666666666666666,
              "#ed7953"
             ],
             [
              0.7777777777777778,
              "#fb9f3a"
             ],
             [
              0.8888888888888888,
              "#fdca26"
             ],
             [
              1,
              "#f0f921"
             ]
            ],
            "type": "histogram2dcontour"
           }
          ],
          "mesh3d": [
           {
            "colorbar": {
             "outlinewidth": 0,
             "ticks": ""
            },
            "type": "mesh3d"
           }
          ],
          "parcoords": [
           {
            "line": {
             "colorbar": {
              "outlinewidth": 0,
              "ticks": ""
             }
            },
            "type": "parcoords"
           }
          ],
          "pie": [
           {
            "automargin": true,
            "type": "pie"
           }
          ],
          "scatter": [
           {
            "fillpattern": {
             "fillmode": "overlay",
             "size": 10,
             "solidity": 0.2
            },
            "type": "scatter"
           }
          ],
          "scatter3d": [
           {
            "line": {
             "colorbar": {
              "outlinewidth": 0,
              "ticks": ""
             }
            },
            "marker": {
             "colorbar": {
              "outlinewidth": 0,
              "ticks": ""
             }
            },
            "type": "scatter3d"
           }
          ],
          "scattercarpet": [
           {
            "marker": {
             "colorbar": {
              "outlinewidth": 0,
              "ticks": ""
             }
            },
            "type": "scattercarpet"
           }
          ],
          "scattergeo": [
           {
            "marker": {
             "colorbar": {
              "outlinewidth": 0,
              "ticks": ""
             }
            },
            "type": "scattergeo"
           }
          ],
          "scattergl": [
           {
            "marker": {
             "colorbar": {
              "outlinewidth": 0,
              "ticks": ""
             }
            },
            "type": "scattergl"
           }
          ],
          "scattermapbox": [
           {
            "marker": {
             "colorbar": {
              "outlinewidth": 0,
              "ticks": ""
             }
            },
            "type": "scattermapbox"
           }
          ],
          "scatterpolar": [
           {
            "marker": {
             "colorbar": {
              "outlinewidth": 0,
              "ticks": ""
             }
            },
            "type": "scatterpolar"
           }
          ],
          "scatterpolargl": [
           {
            "marker": {
             "colorbar": {
              "outlinewidth": 0,
              "ticks": ""
             }
            },
            "type": "scatterpolargl"
           }
          ],
          "scatterternary": [
           {
            "marker": {
             "colorbar": {
              "outlinewidth": 0,
              "ticks": ""
             }
            },
            "type": "scatterternary"
           }
          ],
          "surface": [
           {
            "colorbar": {
             "outlinewidth": 0,
             "ticks": ""
            },
            "colorscale": [
             [
              0,
              "#0d0887"
             ],
             [
              0.1111111111111111,
              "#46039f"
             ],
             [
              0.2222222222222222,
              "#7201a8"
             ],
             [
              0.3333333333333333,
              "#9c179e"
             ],
             [
              0.4444444444444444,
              "#bd3786"
             ],
             [
              0.5555555555555556,
              "#d8576b"
             ],
             [
              0.6666666666666666,
              "#ed7953"
             ],
             [
              0.7777777777777778,
              "#fb9f3a"
             ],
             [
              0.8888888888888888,
              "#fdca26"
             ],
             [
              1,
              "#f0f921"
             ]
            ],
            "type": "surface"
           }
          ],
          "table": [
           {
            "cells": {
             "fill": {
              "color": "#EBF0F8"
             },
             "line": {
              "color": "white"
             }
            },
            "header": {
             "fill": {
              "color": "#C8D4E3"
             },
             "line": {
              "color": "white"
             }
            },
            "type": "table"
           }
          ]
         },
         "layout": {
          "annotationdefaults": {
           "arrowcolor": "#2a3f5f",
           "arrowhead": 0,
           "arrowwidth": 1
          },
          "autotypenumbers": "strict",
          "coloraxis": {
           "colorbar": {
            "outlinewidth": 0,
            "ticks": ""
           }
          },
          "colorscale": {
           "diverging": [
            [
             0,
             "#8e0152"
            ],
            [
             0.1,
             "#c51b7d"
            ],
            [
             0.2,
             "#de77ae"
            ],
            [
             0.3,
             "#f1b6da"
            ],
            [
             0.4,
             "#fde0ef"
            ],
            [
             0.5,
             "#f7f7f7"
            ],
            [
             0.6,
             "#e6f5d0"
            ],
            [
             0.7,
             "#b8e186"
            ],
            [
             0.8,
             "#7fbc41"
            ],
            [
             0.9,
             "#4d9221"
            ],
            [
             1,
             "#276419"
            ]
           ],
           "sequential": [
            [
             0,
             "#0d0887"
            ],
            [
             0.1111111111111111,
             "#46039f"
            ],
            [
             0.2222222222222222,
             "#7201a8"
            ],
            [
             0.3333333333333333,
             "#9c179e"
            ],
            [
             0.4444444444444444,
             "#bd3786"
            ],
            [
             0.5555555555555556,
             "#d8576b"
            ],
            [
             0.6666666666666666,
             "#ed7953"
            ],
            [
             0.7777777777777778,
             "#fb9f3a"
            ],
            [
             0.8888888888888888,
             "#fdca26"
            ],
            [
             1,
             "#f0f921"
            ]
           ],
           "sequentialminus": [
            [
             0,
             "#0d0887"
            ],
            [
             0.1111111111111111,
             "#46039f"
            ],
            [
             0.2222222222222222,
             "#7201a8"
            ],
            [
             0.3333333333333333,
             "#9c179e"
            ],
            [
             0.4444444444444444,
             "#bd3786"
            ],
            [
             0.5555555555555556,
             "#d8576b"
            ],
            [
             0.6666666666666666,
             "#ed7953"
            ],
            [
             0.7777777777777778,
             "#fb9f3a"
            ],
            [
             0.8888888888888888,
             "#fdca26"
            ],
            [
             1,
             "#f0f921"
            ]
           ]
          },
          "colorway": [
           "#636efa",
           "#EF553B",
           "#00cc96",
           "#ab63fa",
           "#FFA15A",
           "#19d3f3",
           "#FF6692",
           "#B6E880",
           "#FF97FF",
           "#FECB52"
          ],
          "font": {
           "color": "#2a3f5f"
          },
          "geo": {
           "bgcolor": "white",
           "lakecolor": "white",
           "landcolor": "#E5ECF6",
           "showlakes": true,
           "showland": true,
           "subunitcolor": "white"
          },
          "hoverlabel": {
           "align": "left"
          },
          "hovermode": "closest",
          "mapbox": {
           "style": "light"
          },
          "paper_bgcolor": "white",
          "plot_bgcolor": "#E5ECF6",
          "polar": {
           "angularaxis": {
            "gridcolor": "white",
            "linecolor": "white",
            "ticks": ""
           },
           "bgcolor": "#E5ECF6",
           "radialaxis": {
            "gridcolor": "white",
            "linecolor": "white",
            "ticks": ""
           }
          },
          "scene": {
           "xaxis": {
            "backgroundcolor": "#E5ECF6",
            "gridcolor": "white",
            "gridwidth": 2,
            "linecolor": "white",
            "showbackground": true,
            "ticks": "",
            "zerolinecolor": "white"
           },
           "yaxis": {
            "backgroundcolor": "#E5ECF6",
            "gridcolor": "white",
            "gridwidth": 2,
            "linecolor": "white",
            "showbackground": true,
            "ticks": "",
            "zerolinecolor": "white"
           },
           "zaxis": {
            "backgroundcolor": "#E5ECF6",
            "gridcolor": "white",
            "gridwidth": 2,
            "linecolor": "white",
            "showbackground": true,
            "ticks": "",
            "zerolinecolor": "white"
           }
          },
          "shapedefaults": {
           "line": {
            "color": "#2a3f5f"
           }
          },
          "ternary": {
           "aaxis": {
            "gridcolor": "white",
            "linecolor": "white",
            "ticks": ""
           },
           "baxis": {
            "gridcolor": "white",
            "linecolor": "white",
            "ticks": ""
           },
           "bgcolor": "#E5ECF6",
           "caxis": {
            "gridcolor": "white",
            "linecolor": "white",
            "ticks": ""
           }
          },
          "title": {
           "x": 0.05
          },
          "xaxis": {
           "automargin": true,
           "gridcolor": "white",
           "linecolor": "white",
           "ticks": "",
           "title": {
            "standoff": 15
           },
           "zerolinecolor": "white",
           "zerolinewidth": 2
          },
          "yaxis": {
           "automargin": true,
           "gridcolor": "white",
           "linecolor": "white",
           "ticks": "",
           "title": {
            "standoff": 15
           },
           "zerolinecolor": "white",
           "zerolinewidth": 2
          }
         }
        },
        "xaxis": {
         "anchor": "y",
         "domain": [
          0,
          1
         ],
         "title": {
          "text": "speaking_turn_count"
         },
         "type": "log"
        },
        "yaxis": {
         "anchor": "x",
         "domain": [
          0,
          1
         ],
         "title": {
          "text": "avg_words_per_turn"
         }
        }
       }
      }
     },
     "metadata": {},
     "output_type": "display_data"
    }
   ],
   "source": [
    "df = candidate_debates_df\n",
    "fig = px.scatter(df, x=\"speaking_turn_count\", y=\"avg_words_per_turn\", color=\"party\",\n",
    "\t         size=\"total_word_count\", log_x=True, size_max=60)\n",
    "fig.show()"
   ]
  },
  {
   "cell_type": "code",
   "execution_count": 414,
   "metadata": {},
   "outputs": [
    {
     "data": {
      "text/html": [
       "<div>\n",
       "<style scoped>\n",
       "    .dataframe tbody tr th:only-of-type {\n",
       "        vertical-align: middle;\n",
       "    }\n",
       "\n",
       "    .dataframe tbody tr th {\n",
       "        vertical-align: top;\n",
       "    }\n",
       "\n",
       "    .dataframe thead th {\n",
       "        text-align: right;\n",
       "    }\n",
       "</style>\n",
       "<table border=\"1\" class=\"dataframe\">\n",
       "  <thead>\n",
       "    <tr style=\"text-align: right;\">\n",
       "      <th></th>\n",
       "      <th></th>\n",
       "      <th>debate_count</th>\n",
       "      <th>won_election</th>\n",
       "      <th>speaking_turn_count</th>\n",
       "      <th>total_word_count</th>\n",
       "      <th>unique_word_count</th>\n",
       "      <th>avg_words_per_turn</th>\n",
       "      <th>avg_unique_words_per_turn</th>\n",
       "    </tr>\n",
       "    <tr>\n",
       "      <th>year</th>\n",
       "      <th>last_name</th>\n",
       "      <th></th>\n",
       "      <th></th>\n",
       "      <th></th>\n",
       "      <th></th>\n",
       "      <th></th>\n",
       "      <th></th>\n",
       "      <th></th>\n",
       "    </tr>\n",
       "  </thead>\n",
       "  <tbody>\n",
       "    <tr>\n",
       "      <th rowspan=\"2\" valign=\"top\">1960</th>\n",
       "      <th>Kennedy</th>\n",
       "      <td>4.0</td>\n",
       "      <td>True</td>\n",
       "      <td>13.750000</td>\n",
       "      <td>4498.000000</td>\n",
       "      <td>977.250000</td>\n",
       "      <td>327.127273</td>\n",
       "      <td>71.072727</td>\n",
       "    </tr>\n",
       "    <tr>\n",
       "      <th>Nixon</th>\n",
       "      <td>4.0</td>\n",
       "      <td>False</td>\n",
       "      <td>11.500000</td>\n",
       "      <td>4426.500000</td>\n",
       "      <td>911.750000</td>\n",
       "      <td>384.913043</td>\n",
       "      <td>79.282609</td>\n",
       "    </tr>\n",
       "    <tr>\n",
       "      <th rowspan=\"2\" valign=\"top\">1976</th>\n",
       "      <th>Carter</th>\n",
       "      <td>3.0</td>\n",
       "      <td>True</td>\n",
       "      <td>19.333333</td>\n",
       "      <td>5921.666667</td>\n",
       "      <td>1270.666667</td>\n",
       "      <td>306.293103</td>\n",
       "      <td>65.724138</td>\n",
       "    </tr>\n",
       "    <tr>\n",
       "      <th>Ford</th>\n",
       "      <td>3.0</td>\n",
       "      <td>False</td>\n",
       "      <td>19.333333</td>\n",
       "      <td>4840.333333</td>\n",
       "      <td>1034.000000</td>\n",
       "      <td>250.362069</td>\n",
       "      <td>53.482759</td>\n",
       "    </tr>\n",
       "    <tr>\n",
       "      <th>1980</th>\n",
       "      <th>Anderson</th>\n",
       "      <td>2.0</td>\n",
       "      <td>False</td>\n",
       "      <td>13.000000</td>\n",
       "      <td>3697.000000</td>\n",
       "      <td>1023.000000</td>\n",
       "      <td>284.384615</td>\n",
       "      <td>78.692308</td>\n",
       "    </tr>\n",
       "  </tbody>\n",
       "</table>\n",
       "</div>"
      ],
      "text/plain": [
       "                debate_count  won_election  speaking_turn_count  \\\n",
       "year last_name                                                    \n",
       "1960 Kennedy             4.0          True            13.750000   \n",
       "     Nixon               4.0         False            11.500000   \n",
       "1976 Carter              3.0          True            19.333333   \n",
       "     Ford                3.0         False            19.333333   \n",
       "1980 Anderson            2.0         False            13.000000   \n",
       "\n",
       "                total_word_count  unique_word_count  avg_words_per_turn  \\\n",
       "year last_name                                                            \n",
       "1960 Kennedy         4498.000000         977.250000          327.127273   \n",
       "     Nixon           4426.500000         911.750000          384.913043   \n",
       "1976 Carter          5921.666667        1270.666667          306.293103   \n",
       "     Ford            4840.333333        1034.000000          250.362069   \n",
       "1980 Anderson        3697.000000        1023.000000          284.384615   \n",
       "\n",
       "                avg_unique_words_per_turn  \n",
       "year last_name                             \n",
       "1960 Kennedy                    71.072727  \n",
       "     Nixon                      79.282609  \n",
       "1976 Carter                     65.724138  \n",
       "     Ford                       53.482759  \n",
       "1980 Anderson                   78.692308  "
      ]
     },
     "execution_count": 414,
     "metadata": {},
     "output_type": "execute_result"
    }
   ],
   "source": [
    "grouped_candidate_debates = candidate_debates_df.groupby(['year', 'last_name']).mean()\n",
    "\n",
    "grouped_candidate_debates['avg_words_per_turn'] = grouped_candidate_debates['total_word_count'] / grouped_candidate_debates['speaking_turn_count']\n",
    "grouped_candidate_debates['avg_unique_words_per_turn'] = grouped_candidate_debates['unique_word_count'] / grouped_candidate_debates['speaking_turn_count']\n",
    "grouped_candidate_debates.head()"
   ]
  },
  {
   "cell_type": "code",
   "execution_count": 415,
   "metadata": {},
   "outputs": [
    {
     "data": {
      "text/html": [
       "<div>\n",
       "<style scoped>\n",
       "    .dataframe tbody tr th:only-of-type {\n",
       "        vertical-align: middle;\n",
       "    }\n",
       "\n",
       "    .dataframe tbody tr th {\n",
       "        vertical-align: top;\n",
       "    }\n",
       "\n",
       "    .dataframe thead th {\n",
       "        text-align: right;\n",
       "    }\n",
       "</style>\n",
       "<table border=\"1\" class=\"dataframe\">\n",
       "  <thead>\n",
       "    <tr style=\"text-align: right;\">\n",
       "      <th></th>\n",
       "      <th>year</th>\n",
       "      <th>debate_count</th>\n",
       "      <th>candidate</th>\n",
       "      <th>type</th>\n",
       "      <th>party</th>\n",
       "      <th>last_name</th>\n",
       "      <th>won_election</th>\n",
       "      <th>date</th>\n",
       "      <th>speaking_turn_count</th>\n",
       "      <th>total_word_count</th>\n",
       "      <th>unique_word_count</th>\n",
       "      <th>avg_words_per_turn</th>\n",
       "      <th>avg_unique_words_per_turn</th>\n",
       "    </tr>\n",
       "  </thead>\n",
       "  <tbody>\n",
       "    <tr>\n",
       "      <th>0</th>\n",
       "      <td>1960</td>\n",
       "      <td>4</td>\n",
       "      <td>Vice President Richard Nixon</td>\n",
       "      <td>P</td>\n",
       "      <td>R</td>\n",
       "      <td>Nixon</td>\n",
       "      <td>False</td>\n",
       "      <td>1960-09-26</td>\n",
       "      <td>10</td>\n",
       "      <td>4111</td>\n",
       "      <td>820</td>\n",
       "      <td>411.100000</td>\n",
       "      <td>82.000000</td>\n",
       "    </tr>\n",
       "    <tr>\n",
       "      <th>1</th>\n",
       "      <td>1960</td>\n",
       "      <td>4</td>\n",
       "      <td>Vice President Richard Nixon</td>\n",
       "      <td>P</td>\n",
       "      <td>R</td>\n",
       "      <td>Nixon</td>\n",
       "      <td>False</td>\n",
       "      <td>1960-10-13</td>\n",
       "      <td>14</td>\n",
       "      <td>4642</td>\n",
       "      <td>934</td>\n",
       "      <td>331.571429</td>\n",
       "      <td>66.714286</td>\n",
       "    </tr>\n",
       "    <tr>\n",
       "      <th>2</th>\n",
       "      <td>1960</td>\n",
       "      <td>4</td>\n",
       "      <td>Vice President Richard Nixon</td>\n",
       "      <td>P</td>\n",
       "      <td>R</td>\n",
       "      <td>Nixon</td>\n",
       "      <td>False</td>\n",
       "      <td>1960-10-21</td>\n",
       "      <td>10</td>\n",
       "      <td>4617</td>\n",
       "      <td>948</td>\n",
       "      <td>461.700000</td>\n",
       "      <td>94.800000</td>\n",
       "    </tr>\n",
       "    <tr>\n",
       "      <th>3</th>\n",
       "      <td>1960</td>\n",
       "      <td>4</td>\n",
       "      <td>Vice President Richard Nixon</td>\n",
       "      <td>P</td>\n",
       "      <td>R</td>\n",
       "      <td>Nixon</td>\n",
       "      <td>False</td>\n",
       "      <td>1960-10-07</td>\n",
       "      <td>12</td>\n",
       "      <td>4336</td>\n",
       "      <td>945</td>\n",
       "      <td>361.333333</td>\n",
       "      <td>78.750000</td>\n",
       "    </tr>\n",
       "    <tr>\n",
       "      <th>4</th>\n",
       "      <td>1960</td>\n",
       "      <td>4</td>\n",
       "      <td>Senator John F. Kennedy</td>\n",
       "      <td>P</td>\n",
       "      <td>D</td>\n",
       "      <td>Kennedy</td>\n",
       "      <td>True</td>\n",
       "      <td>1960-09-26</td>\n",
       "      <td>17</td>\n",
       "      <td>4693</td>\n",
       "      <td>953</td>\n",
       "      <td>276.058824</td>\n",
       "      <td>56.058824</td>\n",
       "    </tr>\n",
       "    <tr>\n",
       "      <th>...</th>\n",
       "      <td>...</td>\n",
       "      <td>...</td>\n",
       "      <td>...</td>\n",
       "      <td>...</td>\n",
       "      <td>...</td>\n",
       "      <td>...</td>\n",
       "      <td>...</td>\n",
       "      <td>...</td>\n",
       "      <td>...</td>\n",
       "      <td>...</td>\n",
       "      <td>...</td>\n",
       "      <td>...</td>\n",
       "      <td>...</td>\n",
       "    </tr>\n",
       "    <tr>\n",
       "      <th>87</th>\n",
       "      <td>2020</td>\n",
       "      <td>2</td>\n",
       "      <td>Former Vice President Joe Biden</td>\n",
       "      <td>P</td>\n",
       "      <td>D</td>\n",
       "      <td>Biden</td>\n",
       "      <td>True</td>\n",
       "      <td>2020-10-22</td>\n",
       "      <td>84</td>\n",
       "      <td>6979</td>\n",
       "      <td>1329</td>\n",
       "      <td>83.083333</td>\n",
       "      <td>15.821429</td>\n",
       "    </tr>\n",
       "    <tr>\n",
       "      <th>88</th>\n",
       "      <td>2020</td>\n",
       "      <td>2</td>\n",
       "      <td>Vice President Mike Pence</td>\n",
       "      <td>VP</td>\n",
       "      <td>R</td>\n",
       "      <td>Pence</td>\n",
       "      <td>False</td>\n",
       "      <td>2020-10-07</td>\n",
       "      <td>89</td>\n",
       "      <td>6411</td>\n",
       "      <td>1341</td>\n",
       "      <td>72.033708</td>\n",
       "      <td>15.067416</td>\n",
       "    </tr>\n",
       "    <tr>\n",
       "      <th>89</th>\n",
       "      <td>2020</td>\n",
       "      <td>2</td>\n",
       "      <td>President Donald Trump</td>\n",
       "      <td>P</td>\n",
       "      <td>R</td>\n",
       "      <td>Trump</td>\n",
       "      <td>False</td>\n",
       "      <td>2020-09-29</td>\n",
       "      <td>341</td>\n",
       "      <td>7394</td>\n",
       "      <td>1155</td>\n",
       "      <td>21.683284</td>\n",
       "      <td>3.387097</td>\n",
       "    </tr>\n",
       "    <tr>\n",
       "      <th>90</th>\n",
       "      <td>2020</td>\n",
       "      <td>2</td>\n",
       "      <td>President Donald Trump</td>\n",
       "      <td>P</td>\n",
       "      <td>R</td>\n",
       "      <td>Trump</td>\n",
       "      <td>False</td>\n",
       "      <td>2020-10-22</td>\n",
       "      <td>122</td>\n",
       "      <td>7654</td>\n",
       "      <td>1200</td>\n",
       "      <td>62.737705</td>\n",
       "      <td>9.836066</td>\n",
       "    </tr>\n",
       "    <tr>\n",
       "      <th>91</th>\n",
       "      <td>2020</td>\n",
       "      <td>2</td>\n",
       "      <td>Senator Kamala Harris</td>\n",
       "      <td>VP</td>\n",
       "      <td>D</td>\n",
       "      <td>Harris</td>\n",
       "      <td>True</td>\n",
       "      <td>2020-10-07</td>\n",
       "      <td>62</td>\n",
       "      <td>5326</td>\n",
       "      <td>1131</td>\n",
       "      <td>85.903226</td>\n",
       "      <td>18.241935</td>\n",
       "    </tr>\n",
       "  </tbody>\n",
       "</table>\n",
       "<p>92 rows × 13 columns</p>\n",
       "</div>"
      ],
      "text/plain": [
       "    year  debate_count                         candidate type party last_name  \\\n",
       "0   1960             4     Vice President Richard Nixon     P     R     Nixon   \n",
       "1   1960             4     Vice President Richard Nixon     P     R     Nixon   \n",
       "2   1960             4     Vice President Richard Nixon     P     R     Nixon   \n",
       "3   1960             4     Vice President Richard Nixon     P     R     Nixon   \n",
       "4   1960             4          Senator John F. Kennedy     P     D   Kennedy   \n",
       "..   ...           ...                               ...  ...   ...       ...   \n",
       "87  2020             2  Former Vice President Joe Biden     P     D     Biden   \n",
       "88  2020             2        Vice President Mike Pence    VP     R     Pence   \n",
       "89  2020             2           President Donald Trump     P     R     Trump   \n",
       "90  2020             2           President Donald Trump     P     R     Trump   \n",
       "91  2020             2            Senator Kamala Harris    VP     D    Harris   \n",
       "\n",
       "    won_election       date  speaking_turn_count  total_word_count  \\\n",
       "0          False 1960-09-26                   10              4111   \n",
       "1          False 1960-10-13                   14              4642   \n",
       "2          False 1960-10-21                   10              4617   \n",
       "3          False 1960-10-07                   12              4336   \n",
       "4           True 1960-09-26                   17              4693   \n",
       "..           ...        ...                  ...               ...   \n",
       "87          True 2020-10-22                   84              6979   \n",
       "88         False 2020-10-07                   89              6411   \n",
       "89         False 2020-09-29                  341              7394   \n",
       "90         False 2020-10-22                  122              7654   \n",
       "91          True 2020-10-07                   62              5326   \n",
       "\n",
       "    unique_word_count  avg_words_per_turn  avg_unique_words_per_turn  \n",
       "0                 820          411.100000                  82.000000  \n",
       "1                 934          331.571429                  66.714286  \n",
       "2                 948          461.700000                  94.800000  \n",
       "3                 945          361.333333                  78.750000  \n",
       "4                 953          276.058824                  56.058824  \n",
       "..                ...                 ...                        ...  \n",
       "87               1329           83.083333                  15.821429  \n",
       "88               1341           72.033708                  15.067416  \n",
       "89               1155           21.683284                   3.387097  \n",
       "90               1200           62.737705                   9.836066  \n",
       "91               1131           85.903226                  18.241935  \n",
       "\n",
       "[92 rows x 13 columns]"
      ]
     },
     "execution_count": 415,
     "metadata": {},
     "output_type": "execute_result"
    }
   ],
   "source": [
    "candidate_debates_df"
   ]
  },
  {
   "cell_type": "code",
   "execution_count": 416,
   "metadata": {},
   "outputs": [],
   "source": [
    "import requests\n",
    "from bs4 import BeautifulSoup"
   ]
  },
  {
   "cell_type": "code",
   "execution_count": 417,
   "metadata": {},
   "outputs": [],
   "source": [
    "url = \"https://www.loc.gov/rr/print/list/059_vp_alpha.html\"\n",
    "page = requests.get(url)\n",
    "\n",
    "soup = BeautifulSoup(page.content, 'html.parser')"
   ]
  },
  {
   "cell_type": "code",
   "execution_count": 418,
   "metadata": {},
   "outputs": [],
   "source": [
    "table = soup.find_all('table')[2]\n",
    "\n",
    "vp_winners = []\n",
    "\n",
    "for a in table.find_all('a')[13:62]:\n",
    "    vp_winners.append(a.text.split(',')[0])"
   ]
  },
  {
   "cell_type": "code",
   "execution_count": 419,
   "metadata": {},
   "outputs": [
    {
     "data": {
      "text/html": [
       "<div>\n",
       "<style scoped>\n",
       "    .dataframe tbody tr th:only-of-type {\n",
       "        vertical-align: middle;\n",
       "    }\n",
       "\n",
       "    .dataframe tbody tr th {\n",
       "        vertical-align: top;\n",
       "    }\n",
       "\n",
       "    .dataframe thead th {\n",
       "        text-align: right;\n",
       "    }\n",
       "</style>\n",
       "<table border=\"1\" class=\"dataframe\">\n",
       "  <thead>\n",
       "    <tr style=\"text-align: right;\">\n",
       "      <th></th>\n",
       "      <th>actor</th>\n",
       "      <th>date</th>\n",
       "      <th>speaking_turn_count</th>\n",
       "      <th>total_word_count</th>\n",
       "      <th>unique_word_count</th>\n",
       "      <th>avg_words_per_turn</th>\n",
       "      <th>avg_unique_words_per_turn</th>\n",
       "      <th>year</th>\n",
       "    </tr>\n",
       "  </thead>\n",
       "  <tbody>\n",
       "    <tr>\n",
       "      <th>0</th>\n",
       "      <td>Participants</td>\n",
       "      <td>2020-09-29</td>\n",
       "      <td>1</td>\n",
       "      <td>7</td>\n",
       "      <td>7</td>\n",
       "      <td>7.000000</td>\n",
       "      <td>7.000000</td>\n",
       "      <td>2020</td>\n",
       "    </tr>\n",
       "    <tr>\n",
       "      <th>1</th>\n",
       "      <td>Trump</td>\n",
       "      <td>2020-09-29</td>\n",
       "      <td>341</td>\n",
       "      <td>7394</td>\n",
       "      <td>1155</td>\n",
       "      <td>21.683284</td>\n",
       "      <td>3.387097</td>\n",
       "      <td>2020</td>\n",
       "    </tr>\n",
       "    <tr>\n",
       "      <th>2</th>\n",
       "      <td>Moderator</td>\n",
       "      <td>2020-09-29</td>\n",
       "      <td>1</td>\n",
       "      <td>4</td>\n",
       "      <td>4</td>\n",
       "      <td>4.000000</td>\n",
       "      <td>4.000000</td>\n",
       "      <td>2020</td>\n",
       "    </tr>\n",
       "    <tr>\n",
       "      <th>3</th>\n",
       "      <td>Wallace</td>\n",
       "      <td>2020-09-29</td>\n",
       "      <td>246</td>\n",
       "      <td>4711</td>\n",
       "      <td>963</td>\n",
       "      <td>19.150407</td>\n",
       "      <td>3.914634</td>\n",
       "      <td>2020</td>\n",
       "    </tr>\n",
       "    <tr>\n",
       "      <th>4</th>\n",
       "      <td>Biden</td>\n",
       "      <td>2020-09-29</td>\n",
       "      <td>269</td>\n",
       "      <td>6529</td>\n",
       "      <td>1224</td>\n",
       "      <td>24.271375</td>\n",
       "      <td>4.550186</td>\n",
       "      <td>2020</td>\n",
       "    </tr>\n",
       "    <tr>\n",
       "      <th>...</th>\n",
       "      <td>...</td>\n",
       "      <td>...</td>\n",
       "      <td>...</td>\n",
       "      <td>...</td>\n",
       "      <td>...</td>\n",
       "      <td>...</td>\n",
       "      <td>...</td>\n",
       "      <td>...</td>\n",
       "    </tr>\n",
       "    <tr>\n",
       "      <th>303</th>\n",
       "      <td>Mccain</td>\n",
       "      <td>2008-10-07</td>\n",
       "      <td>40</td>\n",
       "      <td>6281</td>\n",
       "      <td>1270</td>\n",
       "      <td>157.025000</td>\n",
       "      <td>31.750000</td>\n",
       "      <td>2008</td>\n",
       "    </tr>\n",
       "    <tr>\n",
       "      <th>304</th>\n",
       "      <td>Transcription By</td>\n",
       "      <td>2008-10-07</td>\n",
       "      <td>0</td>\n",
       "      <td>0</td>\n",
       "      <td>0</td>\n",
       "      <td>NaN</td>\n",
       "      <td>NaN</td>\n",
       "      <td>2008</td>\n",
       "    </tr>\n",
       "    <tr>\n",
       "      <th>305</th>\n",
       "      <td>Obama</td>\n",
       "      <td>2008-10-07</td>\n",
       "      <td>39</td>\n",
       "      <td>7046</td>\n",
       "      <td>1344</td>\n",
       "      <td>180.666667</td>\n",
       "      <td>34.461538</td>\n",
       "      <td>2008</td>\n",
       "    </tr>\n",
       "    <tr>\n",
       "      <th>306</th>\n",
       "      <td>descriptor</td>\n",
       "      <td>2008-10-07</td>\n",
       "      <td>7</td>\n",
       "      <td>7</td>\n",
       "      <td>2</td>\n",
       "      <td>1.000000</td>\n",
       "      <td>0.285714</td>\n",
       "      <td>2008</td>\n",
       "    </tr>\n",
       "    <tr>\n",
       "      <th>307</th>\n",
       "      <td>Brokaw</td>\n",
       "      <td>2008-10-07</td>\n",
       "      <td>58</td>\n",
       "      <td>1703</td>\n",
       "      <td>533</td>\n",
       "      <td>29.362069</td>\n",
       "      <td>9.189655</td>\n",
       "      <td>2008</td>\n",
       "    </tr>\n",
       "  </tbody>\n",
       "</table>\n",
       "<p>308 rows × 8 columns</p>\n",
       "</div>"
      ],
      "text/plain": [
       "                actor       date  speaking_turn_count  total_word_count  \\\n",
       "0        Participants 2020-09-29                    1                 7   \n",
       "1               Trump 2020-09-29                  341              7394   \n",
       "2           Moderator 2020-09-29                    1                 4   \n",
       "3             Wallace 2020-09-29                  246              4711   \n",
       "4               Biden 2020-09-29                  269              6529   \n",
       "..                ...        ...                  ...               ...   \n",
       "303            Mccain 2008-10-07                   40              6281   \n",
       "304  Transcription By 2008-10-07                    0                 0   \n",
       "305             Obama 2008-10-07                   39              7046   \n",
       "306        descriptor 2008-10-07                    7                 7   \n",
       "307            Brokaw 2008-10-07                   58              1703   \n",
       "\n",
       "     unique_word_count  avg_words_per_turn  avg_unique_words_per_turn  year  \n",
       "0                    7            7.000000                   7.000000  2020  \n",
       "1                 1155           21.683284                   3.387097  2020  \n",
       "2                    4            4.000000                   4.000000  2020  \n",
       "3                  963           19.150407                   3.914634  2020  \n",
       "4                 1224           24.271375                   4.550186  2020  \n",
       "..                 ...                 ...                        ...   ...  \n",
       "303               1270          157.025000                  31.750000  2008  \n",
       "304                  0                 NaN                        NaN  2008  \n",
       "305               1344          180.666667                  34.461538  2008  \n",
       "306                  2            1.000000                   0.285714  2008  \n",
       "307                533           29.362069                   9.189655  2008  \n",
       "\n",
       "[308 rows x 8 columns]"
      ]
     },
     "execution_count": 419,
     "metadata": {},
     "output_type": "execute_result"
    }
   ],
   "source": [
    "debate_dialogue_df"
   ]
  }
 ],
 "metadata": {
  "kernelspec": {
   "display_name": "PythonDataOne",
   "language": "python",
   "name": "python3"
  },
  "language_info": {
   "codemirror_mode": {
    "name": "ipython",
    "version": 3
   },
   "file_extension": ".py",
   "mimetype": "text/x-python",
   "name": "python",
   "nbconvert_exporter": "python",
   "pygments_lexer": "ipython3",
   "version": "3.7.7"
  },
  "orig_nbformat": 4,
  "vscode": {
   "interpreter": {
    "hash": "e247b9454e4c690f05a6394f0637915298e80ca65991b01e9ad2aec6a6d4c020"
   }
  }
 },
 "nbformat": 4,
 "nbformat_minor": 2
}
